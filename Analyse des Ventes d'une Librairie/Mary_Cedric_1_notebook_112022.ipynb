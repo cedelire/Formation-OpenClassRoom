{
 "cells": [
  {
   "cell_type": "markdown",
   "id": "e242d279",
   "metadata": {},
   "source": [
    "Avant toute analyse j'aimerais indiquer ici que les résultats qui vont suivre ne sont pertinents qu'au regard du fichier de données qui m'a été fourni. Autrement dit les valeurs de chiffre d'affaire par exemple sont à prendre avec un certain recul."
   ]
  },
  {
   "cell_type": "markdown",
   "id": "7dc0d254",
   "metadata": {},
   "source": [
    "## Partie 1 - Inspection des données\n"
   ]
  },
  {
   "cell_type": "markdown",
   "id": "1af58a6d",
   "metadata": {},
   "source": [
    "Je commence par importer les librairies pandas, numpy, seaborn et matplotlib."
   ]
  },
  {
   "cell_type": "code",
   "execution_count": 2,
   "id": "fef32ed4",
   "metadata": {},
   "outputs": [],
   "source": [
    "import pandas as pd\n",
    "import numpy as np\n",
    "import matplotlib.pyplot as plt\n",
    "import seaborn as sns"
   ]
  },
  {
   "cell_type": "markdown",
   "id": "1ceb2cd9",
   "metadata": {},
   "source": [
    "1. Lecture et analyse du premier fichier excel."
   ]
  },
  {
   "cell_type": "code",
   "execution_count": 3,
   "id": "2b4ef8a4",
   "metadata": {},
   "outputs": [
    {
     "data": {
      "text/html": [
       "<div>\n",
       "<style scoped>\n",
       "    .dataframe tbody tr th:only-of-type {\n",
       "        vertical-align: middle;\n",
       "    }\n",
       "\n",
       "    .dataframe tbody tr th {\n",
       "        vertical-align: top;\n",
       "    }\n",
       "\n",
       "    .dataframe thead th {\n",
       "        text-align: right;\n",
       "    }\n",
       "</style>\n",
       "<table border=\"1\" class=\"dataframe\">\n",
       "  <thead>\n",
       "    <tr style=\"text-align: right;\">\n",
       "      <th></th>\n",
       "      <th>client_id</th>\n",
       "      <th>sex</th>\n",
       "      <th>birth</th>\n",
       "    </tr>\n",
       "  </thead>\n",
       "  <tbody>\n",
       "    <tr>\n",
       "      <th>0</th>\n",
       "      <td>c_4410</td>\n",
       "      <td>f</td>\n",
       "      <td>1967</td>\n",
       "    </tr>\n",
       "    <tr>\n",
       "      <th>1</th>\n",
       "      <td>c_7839</td>\n",
       "      <td>f</td>\n",
       "      <td>1975</td>\n",
       "    </tr>\n",
       "    <tr>\n",
       "      <th>2</th>\n",
       "      <td>c_1699</td>\n",
       "      <td>f</td>\n",
       "      <td>1984</td>\n",
       "    </tr>\n",
       "    <tr>\n",
       "      <th>3</th>\n",
       "      <td>c_5961</td>\n",
       "      <td>f</td>\n",
       "      <td>1962</td>\n",
       "    </tr>\n",
       "    <tr>\n",
       "      <th>4</th>\n",
       "      <td>c_5320</td>\n",
       "      <td>m</td>\n",
       "      <td>1943</td>\n",
       "    </tr>\n",
       "  </tbody>\n",
       "</table>\n",
       "</div>"
      ],
      "text/plain": [
       "  client_id sex  birth\n",
       "0    c_4410   f   1967\n",
       "1    c_7839   f   1975\n",
       "2    c_1699   f   1984\n",
       "3    c_5961   f   1962\n",
       "4    c_5320   m   1943"
      ]
     },
     "execution_count": 3,
     "metadata": {},
     "output_type": "execute_result"
    }
   ],
   "source": [
    "clients = pd.read_csv('customers.csv')\n",
    "clients.head()"
   ]
  },
  {
   "cell_type": "code",
   "execution_count": 4,
   "id": "fed1a173",
   "metadata": {},
   "outputs": [
    {
     "name": "stdout",
     "output_type": "stream",
     "text": [
      "<class 'pandas.core.frame.DataFrame'>\n",
      "RangeIndex: 8623 entries, 0 to 8622\n",
      "Data columns (total 3 columns):\n",
      " #   Column     Non-Null Count  Dtype \n",
      "---  ------     --------------  ----- \n",
      " 0   client_id  8623 non-null   object\n",
      " 1   sex        8623 non-null   object\n",
      " 2   birth      8623 non-null   int64 \n",
      "dtypes: int64(1), object(2)\n",
      "memory usage: 202.2+ KB\n"
     ]
    }
   ],
   "source": [
    "clients.info()"
   ]
  },
  {
   "cell_type": "code",
   "execution_count": 5,
   "id": "23b555fb",
   "metadata": {},
   "outputs": [
    {
     "name": "stdout",
     "output_type": "stream",
     "text": [
      "Empty DataFrame\n",
      "Columns: [client_id, sex, birth]\n",
      "Index: []\n"
     ]
    }
   ],
   "source": [
    "clients_duplicate = clients[clients.duplicated(['client_id'])]\n",
    "print(clients_duplicate)"
   ]
  },
  {
   "cell_type": "markdown",
   "id": "2254502d",
   "metadata": {},
   "source": [
    "2. Lecture et analyse du deuxieme fichier excel."
   ]
  },
  {
   "cell_type": "code",
   "execution_count": 6,
   "id": "8739b2ee",
   "metadata": {
    "scrolled": true
   },
   "outputs": [
    {
     "data": {
      "text/html": [
       "<div>\n",
       "<style scoped>\n",
       "    .dataframe tbody tr th:only-of-type {\n",
       "        vertical-align: middle;\n",
       "    }\n",
       "\n",
       "    .dataframe tbody tr th {\n",
       "        vertical-align: top;\n",
       "    }\n",
       "\n",
       "    .dataframe thead th {\n",
       "        text-align: right;\n",
       "    }\n",
       "</style>\n",
       "<table border=\"1\" class=\"dataframe\">\n",
       "  <thead>\n",
       "    <tr style=\"text-align: right;\">\n",
       "      <th></th>\n",
       "      <th>id_prod</th>\n",
       "      <th>price</th>\n",
       "      <th>categ</th>\n",
       "    </tr>\n",
       "  </thead>\n",
       "  <tbody>\n",
       "    <tr>\n",
       "      <th>0</th>\n",
       "      <td>0_1421</td>\n",
       "      <td>19.99</td>\n",
       "      <td>0</td>\n",
       "    </tr>\n",
       "    <tr>\n",
       "      <th>1</th>\n",
       "      <td>0_1368</td>\n",
       "      <td>5.13</td>\n",
       "      <td>0</td>\n",
       "    </tr>\n",
       "    <tr>\n",
       "      <th>2</th>\n",
       "      <td>0_731</td>\n",
       "      <td>17.99</td>\n",
       "      <td>0</td>\n",
       "    </tr>\n",
       "    <tr>\n",
       "      <th>3</th>\n",
       "      <td>1_587</td>\n",
       "      <td>4.99</td>\n",
       "      <td>1</td>\n",
       "    </tr>\n",
       "    <tr>\n",
       "      <th>4</th>\n",
       "      <td>0_1507</td>\n",
       "      <td>3.99</td>\n",
       "      <td>0</td>\n",
       "    </tr>\n",
       "  </tbody>\n",
       "</table>\n",
       "</div>"
      ],
      "text/plain": [
       "  id_prod  price  categ\n",
       "0  0_1421  19.99      0\n",
       "1  0_1368   5.13      0\n",
       "2   0_731  17.99      0\n",
       "3   1_587   4.99      1\n",
       "4  0_1507   3.99      0"
      ]
     },
     "execution_count": 6,
     "metadata": {},
     "output_type": "execute_result"
    }
   ],
   "source": [
    "produits = pd.read_csv('products.csv')\n",
    "produits.head()"
   ]
  },
  {
   "cell_type": "code",
   "execution_count": 7,
   "id": "a76c3245",
   "metadata": {},
   "outputs": [
    {
     "name": "stdout",
     "output_type": "stream",
     "text": [
      "<class 'pandas.core.frame.DataFrame'>\n",
      "RangeIndex: 3287 entries, 0 to 3286\n",
      "Data columns (total 3 columns):\n",
      " #   Column   Non-Null Count  Dtype  \n",
      "---  ------   --------------  -----  \n",
      " 0   id_prod  3287 non-null   object \n",
      " 1   price    3287 non-null   float64\n",
      " 2   categ    3287 non-null   int64  \n",
      "dtypes: float64(1), int64(1), object(1)\n",
      "memory usage: 77.2+ KB\n"
     ]
    }
   ],
   "source": [
    "produits.info()"
   ]
  },
  {
   "cell_type": "code",
   "execution_count": 8,
   "id": "bf19aa5e",
   "metadata": {},
   "outputs": [
    {
     "name": "stdout",
     "output_type": "stream",
     "text": [
      "Empty DataFrame\n",
      "Columns: [id_prod, price, categ]\n",
      "Index: []\n"
     ]
    }
   ],
   "source": [
    "produits_duplicate = produits[produits.duplicated(['id_prod'])]\n",
    "print(produits_duplicate)"
   ]
  },
  {
   "cell_type": "markdown",
   "id": "97395b0f",
   "metadata": {},
   "source": [
    "3. Lecture et analyse du troisième fichier excel."
   ]
  },
  {
   "cell_type": "code",
   "execution_count": 9,
   "id": "14f94aed",
   "metadata": {},
   "outputs": [
    {
     "data": {
      "text/html": [
       "<div>\n",
       "<style scoped>\n",
       "    .dataframe tbody tr th:only-of-type {\n",
       "        vertical-align: middle;\n",
       "    }\n",
       "\n",
       "    .dataframe tbody tr th {\n",
       "        vertical-align: top;\n",
       "    }\n",
       "\n",
       "    .dataframe thead th {\n",
       "        text-align: right;\n",
       "    }\n",
       "</style>\n",
       "<table border=\"1\" class=\"dataframe\">\n",
       "  <thead>\n",
       "    <tr style=\"text-align: right;\">\n",
       "      <th></th>\n",
       "      <th>id_prod</th>\n",
       "      <th>date</th>\n",
       "      <th>session_id</th>\n",
       "      <th>client_id</th>\n",
       "    </tr>\n",
       "  </thead>\n",
       "  <tbody>\n",
       "    <tr>\n",
       "      <th>0</th>\n",
       "      <td>0_1518</td>\n",
       "      <td>2022-05-20 13:21:29.043970</td>\n",
       "      <td>s_211425</td>\n",
       "      <td>c_103</td>\n",
       "    </tr>\n",
       "    <tr>\n",
       "      <th>1</th>\n",
       "      <td>1_251</td>\n",
       "      <td>2022-02-02 07:55:19.149409</td>\n",
       "      <td>s_158752</td>\n",
       "      <td>c_8534</td>\n",
       "    </tr>\n",
       "    <tr>\n",
       "      <th>2</th>\n",
       "      <td>0_1277</td>\n",
       "      <td>2022-06-18 15:44:33.155329</td>\n",
       "      <td>s_225667</td>\n",
       "      <td>c_6714</td>\n",
       "    </tr>\n",
       "    <tr>\n",
       "      <th>3</th>\n",
       "      <td>2_209</td>\n",
       "      <td>2021-06-24 04:19:29.835891</td>\n",
       "      <td>s_52962</td>\n",
       "      <td>c_6941</td>\n",
       "    </tr>\n",
       "    <tr>\n",
       "      <th>4</th>\n",
       "      <td>0_1509</td>\n",
       "      <td>2023-01-11 08:22:08.194479</td>\n",
       "      <td>s_325227</td>\n",
       "      <td>c_4232</td>\n",
       "    </tr>\n",
       "  </tbody>\n",
       "</table>\n",
       "</div>"
      ],
      "text/plain": [
       "  id_prod                        date session_id client_id\n",
       "0  0_1518  2022-05-20 13:21:29.043970   s_211425     c_103\n",
       "1   1_251  2022-02-02 07:55:19.149409   s_158752    c_8534\n",
       "2  0_1277  2022-06-18 15:44:33.155329   s_225667    c_6714\n",
       "3   2_209  2021-06-24 04:19:29.835891    s_52962    c_6941\n",
       "4  0_1509  2023-01-11 08:22:08.194479   s_325227    c_4232"
      ]
     },
     "execution_count": 9,
     "metadata": {},
     "output_type": "execute_result"
    }
   ],
   "source": [
    "transactions = pd.read_csv('transactions.csv')\n",
    "transactions.head()"
   ]
  },
  {
   "cell_type": "code",
   "execution_count": 10,
   "id": "30142e84",
   "metadata": {},
   "outputs": [
    {
     "name": "stdout",
     "output_type": "stream",
     "text": [
      "<class 'pandas.core.frame.DataFrame'>\n",
      "RangeIndex: 679532 entries, 0 to 679531\n",
      "Data columns (total 4 columns):\n",
      " #   Column      Non-Null Count   Dtype \n",
      "---  ------      --------------   ----- \n",
      " 0   id_prod     679532 non-null  object\n",
      " 1   date        679532 non-null  object\n",
      " 2   session_id  679532 non-null  object\n",
      " 3   client_id   679532 non-null  object\n",
      "dtypes: object(4)\n",
      "memory usage: 20.7+ MB\n"
     ]
    }
   ],
   "source": [
    "transactions.info()"
   ]
  },
  {
   "cell_type": "markdown",
   "id": "dd63b77c",
   "metadata": {},
   "source": [
    "J'essaye de passer la colonne date au format date mais il y a plusieurs lignes de test que je vais devoir filtrer."
   ]
  },
  {
   "cell_type": "code",
   "execution_count": 11,
   "id": "ef38a544",
   "metadata": {},
   "outputs": [],
   "source": [
    "filtre = transactions['date'].str.contains('test', na= False)\n",
    "transactions = transactions[~filtre]"
   ]
  },
  {
   "cell_type": "code",
   "execution_count": 12,
   "id": "460f5d97",
   "metadata": {},
   "outputs": [],
   "source": [
    "transactions['date'] = pd.to_datetime(transactions['date'])"
   ]
  },
  {
   "cell_type": "code",
   "execution_count": 13,
   "id": "749c2ae7",
   "metadata": {},
   "outputs": [
    {
     "name": "stdout",
     "output_type": "stream",
     "text": [
      "<class 'pandas.core.frame.DataFrame'>\n",
      "Int64Index: 679332 entries, 0 to 679531\n",
      "Data columns (total 4 columns):\n",
      " #   Column      Non-Null Count   Dtype         \n",
      "---  ------      --------------   -----         \n",
      " 0   id_prod     679332 non-null  object        \n",
      " 1   date        679332 non-null  datetime64[ns]\n",
      " 2   session_id  679332 non-null  object        \n",
      " 3   client_id   679332 non-null  object        \n",
      "dtypes: datetime64[ns](1), object(3)\n",
      "memory usage: 25.9+ MB\n"
     ]
    }
   ],
   "source": [
    "transactions.info()"
   ]
  },
  {
   "cell_type": "code",
   "execution_count": 14,
   "id": "3d3eb4f6",
   "metadata": {},
   "outputs": [
    {
     "data": {
      "text/plain": [
       "0"
      ]
     },
     "execution_count": 14,
     "metadata": {},
     "output_type": "execute_result"
    }
   ],
   "source": [
    "transactions.duplicated().sum()"
   ]
  },
  {
   "cell_type": "markdown",
   "id": "766ca41f",
   "metadata": {},
   "source": [
    "Je vais maintenant fusionner mes trois fichiers."
   ]
  },
  {
   "cell_type": "code",
   "execution_count": 15,
   "id": "d48da0e7",
   "metadata": {},
   "outputs": [
    {
     "data": {
      "text/html": [
       "<div>\n",
       "<style scoped>\n",
       "    .dataframe tbody tr th:only-of-type {\n",
       "        vertical-align: middle;\n",
       "    }\n",
       "\n",
       "    .dataframe tbody tr th {\n",
       "        vertical-align: top;\n",
       "    }\n",
       "\n",
       "    .dataframe thead th {\n",
       "        text-align: right;\n",
       "    }\n",
       "</style>\n",
       "<table border=\"1\" class=\"dataframe\">\n",
       "  <thead>\n",
       "    <tr style=\"text-align: right;\">\n",
       "      <th></th>\n",
       "      <th>id_prod</th>\n",
       "      <th>date</th>\n",
       "      <th>session_id</th>\n",
       "      <th>client_id</th>\n",
       "      <th>sex</th>\n",
       "      <th>birth</th>\n",
       "      <th>_merge</th>\n",
       "    </tr>\n",
       "  </thead>\n",
       "  <tbody>\n",
       "    <tr>\n",
       "      <th>0</th>\n",
       "      <td>0_1518</td>\n",
       "      <td>2022-05-20 13:21:29.043970</td>\n",
       "      <td>s_211425</td>\n",
       "      <td>c_103</td>\n",
       "      <td>f</td>\n",
       "      <td>1986</td>\n",
       "      <td>both</td>\n",
       "    </tr>\n",
       "    <tr>\n",
       "      <th>1</th>\n",
       "      <td>0_1627</td>\n",
       "      <td>2022-06-18 05:55:31.816994</td>\n",
       "      <td>s_225494</td>\n",
       "      <td>c_103</td>\n",
       "      <td>f</td>\n",
       "      <td>1986</td>\n",
       "      <td>both</td>\n",
       "    </tr>\n",
       "    <tr>\n",
       "      <th>2</th>\n",
       "      <td>0_1104</td>\n",
       "      <td>2023-02-08 17:31:06.898425</td>\n",
       "      <td>s_338755</td>\n",
       "      <td>c_103</td>\n",
       "      <td>f</td>\n",
       "      <td>1986</td>\n",
       "      <td>both</td>\n",
       "    </tr>\n",
       "    <tr>\n",
       "      <th>3</th>\n",
       "      <td>0_1390</td>\n",
       "      <td>2021-04-20 06:18:39.939761</td>\n",
       "      <td>s_23078</td>\n",
       "      <td>c_103</td>\n",
       "      <td>f</td>\n",
       "      <td>1986</td>\n",
       "      <td>both</td>\n",
       "    </tr>\n",
       "    <tr>\n",
       "      <th>4</th>\n",
       "      <td>0_1547</td>\n",
       "      <td>2022-03-15 19:54:53.904123</td>\n",
       "      <td>s_179629</td>\n",
       "      <td>c_103</td>\n",
       "      <td>f</td>\n",
       "      <td>1986</td>\n",
       "      <td>both</td>\n",
       "    </tr>\n",
       "  </tbody>\n",
       "</table>\n",
       "</div>"
      ],
      "text/plain": [
       "  id_prod                       date session_id client_id sex  birth _merge\n",
       "0  0_1518 2022-05-20 13:21:29.043970   s_211425     c_103   f   1986   both\n",
       "1  0_1627 2022-06-18 05:55:31.816994   s_225494     c_103   f   1986   both\n",
       "2  0_1104 2023-02-08 17:31:06.898425   s_338755     c_103   f   1986   both\n",
       "3  0_1390 2021-04-20 06:18:39.939761    s_23078     c_103   f   1986   both\n",
       "4  0_1547 2022-03-15 19:54:53.904123   s_179629     c_103   f   1986   both"
      ]
     },
     "execution_count": 15,
     "metadata": {},
     "output_type": "execute_result"
    }
   ],
   "source": [
    "premiere_liaison = pd.merge (transactions, clients, how='outer', on=['client_id'], indicator=True)\n",
    "premiere_liaison.head()"
   ]
  },
  {
   "cell_type": "code",
   "execution_count": 16,
   "id": "d712bacc",
   "metadata": {},
   "outputs": [
    {
     "name": "stdout",
     "output_type": "stream",
     "text": [
      "<class 'pandas.core.frame.DataFrame'>\n",
      "Int64Index: 679355 entries, 0 to 679354\n",
      "Data columns (total 7 columns):\n",
      " #   Column      Non-Null Count   Dtype         \n",
      "---  ------      --------------   -----         \n",
      " 0   id_prod     679332 non-null  object        \n",
      " 1   date        679332 non-null  datetime64[ns]\n",
      " 2   session_id  679332 non-null  object        \n",
      " 3   client_id   679355 non-null  object        \n",
      " 4   sex         679355 non-null  object        \n",
      " 5   birth       679355 non-null  int64         \n",
      " 6   _merge      679355 non-null  category      \n",
      "dtypes: category(1), datetime64[ns](1), int64(1), object(4)\n",
      "memory usage: 36.9+ MB\n"
     ]
    }
   ],
   "source": [
    "premiere_liaison.info()"
   ]
  },
  {
   "cell_type": "code",
   "execution_count": 17,
   "id": "42484589",
   "metadata": {},
   "outputs": [
    {
     "data": {
      "text/plain": [
       "['both', 'right_only']\n",
       "Categories (3, object): ['left_only', 'right_only', 'both']"
      ]
     },
     "execution_count": 17,
     "metadata": {},
     "output_type": "execute_result"
    }
   ],
   "source": [
    "premiere_liaison['_merge'].unique()"
   ]
  },
  {
   "cell_type": "code",
   "execution_count": 18,
   "id": "4168c724",
   "metadata": {},
   "outputs": [
    {
     "data": {
      "text/html": [
       "<div>\n",
       "<style scoped>\n",
       "    .dataframe tbody tr th:only-of-type {\n",
       "        vertical-align: middle;\n",
       "    }\n",
       "\n",
       "    .dataframe tbody tr th {\n",
       "        vertical-align: top;\n",
       "    }\n",
       "\n",
       "    .dataframe thead th {\n",
       "        text-align: right;\n",
       "    }\n",
       "</style>\n",
       "<table border=\"1\" class=\"dataframe\">\n",
       "  <thead>\n",
       "    <tr style=\"text-align: right;\">\n",
       "      <th></th>\n",
       "      <th>id_prod</th>\n",
       "      <th>date</th>\n",
       "      <th>session_id</th>\n",
       "      <th>client_id</th>\n",
       "      <th>sex</th>\n",
       "      <th>birth</th>\n",
       "      <th>_merge</th>\n",
       "    </tr>\n",
       "  </thead>\n",
       "  <tbody>\n",
       "    <tr>\n",
       "      <th>679332</th>\n",
       "      <td>NaN</td>\n",
       "      <td>NaT</td>\n",
       "      <td>NaN</td>\n",
       "      <td>c_8253</td>\n",
       "      <td>f</td>\n",
       "      <td>2001</td>\n",
       "      <td>right_only</td>\n",
       "    </tr>\n",
       "    <tr>\n",
       "      <th>679333</th>\n",
       "      <td>NaN</td>\n",
       "      <td>NaT</td>\n",
       "      <td>NaN</td>\n",
       "      <td>c_3789</td>\n",
       "      <td>f</td>\n",
       "      <td>1997</td>\n",
       "      <td>right_only</td>\n",
       "    </tr>\n",
       "    <tr>\n",
       "      <th>679334</th>\n",
       "      <td>NaN</td>\n",
       "      <td>NaT</td>\n",
       "      <td>NaN</td>\n",
       "      <td>c_4406</td>\n",
       "      <td>f</td>\n",
       "      <td>1998</td>\n",
       "      <td>right_only</td>\n",
       "    </tr>\n",
       "    <tr>\n",
       "      <th>679335</th>\n",
       "      <td>NaN</td>\n",
       "      <td>NaT</td>\n",
       "      <td>NaN</td>\n",
       "      <td>ct_0</td>\n",
       "      <td>f</td>\n",
       "      <td>2001</td>\n",
       "      <td>right_only</td>\n",
       "    </tr>\n",
       "    <tr>\n",
       "      <th>679336</th>\n",
       "      <td>NaN</td>\n",
       "      <td>NaT</td>\n",
       "      <td>NaN</td>\n",
       "      <td>c_2706</td>\n",
       "      <td>f</td>\n",
       "      <td>1967</td>\n",
       "      <td>right_only</td>\n",
       "    </tr>\n",
       "    <tr>\n",
       "      <th>679337</th>\n",
       "      <td>NaN</td>\n",
       "      <td>NaT</td>\n",
       "      <td>NaN</td>\n",
       "      <td>c_3443</td>\n",
       "      <td>m</td>\n",
       "      <td>1959</td>\n",
       "      <td>right_only</td>\n",
       "    </tr>\n",
       "    <tr>\n",
       "      <th>679338</th>\n",
       "      <td>NaN</td>\n",
       "      <td>NaT</td>\n",
       "      <td>NaN</td>\n",
       "      <td>c_4447</td>\n",
       "      <td>m</td>\n",
       "      <td>1956</td>\n",
       "      <td>right_only</td>\n",
       "    </tr>\n",
       "    <tr>\n",
       "      <th>679339</th>\n",
       "      <td>NaN</td>\n",
       "      <td>NaT</td>\n",
       "      <td>NaN</td>\n",
       "      <td>c_3017</td>\n",
       "      <td>f</td>\n",
       "      <td>1992</td>\n",
       "      <td>right_only</td>\n",
       "    </tr>\n",
       "    <tr>\n",
       "      <th>679340</th>\n",
       "      <td>NaN</td>\n",
       "      <td>NaT</td>\n",
       "      <td>NaN</td>\n",
       "      <td>c_4086</td>\n",
       "      <td>f</td>\n",
       "      <td>1992</td>\n",
       "      <td>right_only</td>\n",
       "    </tr>\n",
       "    <tr>\n",
       "      <th>679341</th>\n",
       "      <td>NaN</td>\n",
       "      <td>NaT</td>\n",
       "      <td>NaN</td>\n",
       "      <td>c_6930</td>\n",
       "      <td>m</td>\n",
       "      <td>2004</td>\n",
       "      <td>right_only</td>\n",
       "    </tr>\n",
       "    <tr>\n",
       "      <th>679342</th>\n",
       "      <td>NaN</td>\n",
       "      <td>NaT</td>\n",
       "      <td>NaN</td>\n",
       "      <td>c_4358</td>\n",
       "      <td>m</td>\n",
       "      <td>1999</td>\n",
       "      <td>right_only</td>\n",
       "    </tr>\n",
       "    <tr>\n",
       "      <th>679343</th>\n",
       "      <td>NaN</td>\n",
       "      <td>NaT</td>\n",
       "      <td>NaN</td>\n",
       "      <td>c_8381</td>\n",
       "      <td>f</td>\n",
       "      <td>1965</td>\n",
       "      <td>right_only</td>\n",
       "    </tr>\n",
       "    <tr>\n",
       "      <th>679344</th>\n",
       "      <td>NaN</td>\n",
       "      <td>NaT</td>\n",
       "      <td>NaN</td>\n",
       "      <td>c_1223</td>\n",
       "      <td>m</td>\n",
       "      <td>1963</td>\n",
       "      <td>right_only</td>\n",
       "    </tr>\n",
       "    <tr>\n",
       "      <th>679345</th>\n",
       "      <td>NaN</td>\n",
       "      <td>NaT</td>\n",
       "      <td>NaN</td>\n",
       "      <td>c_6862</td>\n",
       "      <td>f</td>\n",
       "      <td>2002</td>\n",
       "      <td>right_only</td>\n",
       "    </tr>\n",
       "    <tr>\n",
       "      <th>679346</th>\n",
       "      <td>NaN</td>\n",
       "      <td>NaT</td>\n",
       "      <td>NaN</td>\n",
       "      <td>c_5245</td>\n",
       "      <td>f</td>\n",
       "      <td>2004</td>\n",
       "      <td>right_only</td>\n",
       "    </tr>\n",
       "    <tr>\n",
       "      <th>679347</th>\n",
       "      <td>NaN</td>\n",
       "      <td>NaT</td>\n",
       "      <td>NaN</td>\n",
       "      <td>c_5223</td>\n",
       "      <td>m</td>\n",
       "      <td>2003</td>\n",
       "      <td>right_only</td>\n",
       "    </tr>\n",
       "    <tr>\n",
       "      <th>679348</th>\n",
       "      <td>NaN</td>\n",
       "      <td>NaT</td>\n",
       "      <td>NaN</td>\n",
       "      <td>c_6735</td>\n",
       "      <td>m</td>\n",
       "      <td>2004</td>\n",
       "      <td>right_only</td>\n",
       "    </tr>\n",
       "    <tr>\n",
       "      <th>679349</th>\n",
       "      <td>NaN</td>\n",
       "      <td>NaT</td>\n",
       "      <td>NaN</td>\n",
       "      <td>c_862</td>\n",
       "      <td>f</td>\n",
       "      <td>1956</td>\n",
       "      <td>right_only</td>\n",
       "    </tr>\n",
       "    <tr>\n",
       "      <th>679350</th>\n",
       "      <td>NaN</td>\n",
       "      <td>NaT</td>\n",
       "      <td>NaN</td>\n",
       "      <td>c_7584</td>\n",
       "      <td>f</td>\n",
       "      <td>1960</td>\n",
       "      <td>right_only</td>\n",
       "    </tr>\n",
       "    <tr>\n",
       "      <th>679351</th>\n",
       "      <td>NaN</td>\n",
       "      <td>NaT</td>\n",
       "      <td>NaN</td>\n",
       "      <td>c_90</td>\n",
       "      <td>m</td>\n",
       "      <td>2001</td>\n",
       "      <td>right_only</td>\n",
       "    </tr>\n",
       "    <tr>\n",
       "      <th>679352</th>\n",
       "      <td>NaN</td>\n",
       "      <td>NaT</td>\n",
       "      <td>NaN</td>\n",
       "      <td>c_587</td>\n",
       "      <td>m</td>\n",
       "      <td>1993</td>\n",
       "      <td>right_only</td>\n",
       "    </tr>\n",
       "    <tr>\n",
       "      <th>679353</th>\n",
       "      <td>NaN</td>\n",
       "      <td>NaT</td>\n",
       "      <td>NaN</td>\n",
       "      <td>ct_1</td>\n",
       "      <td>m</td>\n",
       "      <td>2001</td>\n",
       "      <td>right_only</td>\n",
       "    </tr>\n",
       "    <tr>\n",
       "      <th>679354</th>\n",
       "      <td>NaN</td>\n",
       "      <td>NaT</td>\n",
       "      <td>NaN</td>\n",
       "      <td>c_3526</td>\n",
       "      <td>m</td>\n",
       "      <td>1956</td>\n",
       "      <td>right_only</td>\n",
       "    </tr>\n",
       "  </tbody>\n",
       "</table>\n",
       "</div>"
      ],
      "text/plain": [
       "       id_prod date session_id client_id sex  birth      _merge\n",
       "679332     NaN  NaT        NaN    c_8253   f   2001  right_only\n",
       "679333     NaN  NaT        NaN    c_3789   f   1997  right_only\n",
       "679334     NaN  NaT        NaN    c_4406   f   1998  right_only\n",
       "679335     NaN  NaT        NaN      ct_0   f   2001  right_only\n",
       "679336     NaN  NaT        NaN    c_2706   f   1967  right_only\n",
       "679337     NaN  NaT        NaN    c_3443   m   1959  right_only\n",
       "679338     NaN  NaT        NaN    c_4447   m   1956  right_only\n",
       "679339     NaN  NaT        NaN    c_3017   f   1992  right_only\n",
       "679340     NaN  NaT        NaN    c_4086   f   1992  right_only\n",
       "679341     NaN  NaT        NaN    c_6930   m   2004  right_only\n",
       "679342     NaN  NaT        NaN    c_4358   m   1999  right_only\n",
       "679343     NaN  NaT        NaN    c_8381   f   1965  right_only\n",
       "679344     NaN  NaT        NaN    c_1223   m   1963  right_only\n",
       "679345     NaN  NaT        NaN    c_6862   f   2002  right_only\n",
       "679346     NaN  NaT        NaN    c_5245   f   2004  right_only\n",
       "679347     NaN  NaT        NaN    c_5223   m   2003  right_only\n",
       "679348     NaN  NaT        NaN    c_6735   m   2004  right_only\n",
       "679349     NaN  NaT        NaN     c_862   f   1956  right_only\n",
       "679350     NaN  NaT        NaN    c_7584   f   1960  right_only\n",
       "679351     NaN  NaT        NaN      c_90   m   2001  right_only\n",
       "679352     NaN  NaT        NaN     c_587   m   1993  right_only\n",
       "679353     NaN  NaT        NaN      ct_1   m   2001  right_only\n",
       "679354     NaN  NaT        NaN    c_3526   m   1956  right_only"
      ]
     },
     "execution_count": 18,
     "metadata": {},
     "output_type": "execute_result"
    }
   ],
   "source": [
    "premiere_liaison.loc[premiere_liaison['_merge'] == 'right_only']"
   ]
  },
  {
   "cell_type": "markdown",
   "id": "5485a145",
   "metadata": {},
   "source": [
    "Ces 23 lignes ne sont présentes que dans la table de droite (clients), cela signifie que ces clients n'ont jamais commandés sur le site. Je vais donc les enlever pour analyses futures."
   ]
  },
  {
   "cell_type": "code",
   "execution_count": 19,
   "id": "f4824084",
   "metadata": {},
   "outputs": [
    {
     "data": {
      "text/html": [
       "<div>\n",
       "<style scoped>\n",
       "    .dataframe tbody tr th:only-of-type {\n",
       "        vertical-align: middle;\n",
       "    }\n",
       "\n",
       "    .dataframe tbody tr th {\n",
       "        vertical-align: top;\n",
       "    }\n",
       "\n",
       "    .dataframe thead th {\n",
       "        text-align: right;\n",
       "    }\n",
       "</style>\n",
       "<table border=\"1\" class=\"dataframe\">\n",
       "  <thead>\n",
       "    <tr style=\"text-align: right;\">\n",
       "      <th></th>\n",
       "      <th>id_prod</th>\n",
       "      <th>date</th>\n",
       "      <th>session_id</th>\n",
       "      <th>client_id</th>\n",
       "      <th>sex</th>\n",
       "      <th>birth</th>\n",
       "      <th>_merge</th>\n",
       "    </tr>\n",
       "  </thead>\n",
       "  <tbody>\n",
       "  </tbody>\n",
       "</table>\n",
       "</div>"
      ],
      "text/plain": [
       "Empty DataFrame\n",
       "Columns: [id_prod, date, session_id, client_id, sex, birth, _merge]\n",
       "Index: []"
      ]
     },
     "execution_count": 19,
     "metadata": {},
     "output_type": "execute_result"
    }
   ],
   "source": [
    "premiere_liaison.loc[premiere_liaison['_merge'] == 'left_only']"
   ]
  },
  {
   "cell_type": "markdown",
   "id": "0c403bfe",
   "metadata": {},
   "source": [
    "Toutes les lignes de la table des transactions (à gauche) ont été associées à un client. Par la suite je ne garde que les correspondances exactes entre ces deux fichiers. Ce qui correspond à une liaison interne."
   ]
  },
  {
   "cell_type": "code",
   "execution_count": 20,
   "id": "a951f1dd",
   "metadata": {},
   "outputs": [],
   "source": [
    "premiere_liaison = premiere_liaison.loc[premiere_liaison['_merge'] == 'both']"
   ]
  },
  {
   "cell_type": "code",
   "execution_count": 21,
   "id": "ee0179ed",
   "metadata": {},
   "outputs": [],
   "source": [
    "premiere_liaison = premiere_liaison.drop(columns='_merge')"
   ]
  },
  {
   "cell_type": "code",
   "execution_count": 22,
   "id": "40143d71",
   "metadata": {},
   "outputs": [
    {
     "data": {
      "text/html": [
       "<div>\n",
       "<style scoped>\n",
       "    .dataframe tbody tr th:only-of-type {\n",
       "        vertical-align: middle;\n",
       "    }\n",
       "\n",
       "    .dataframe tbody tr th {\n",
       "        vertical-align: top;\n",
       "    }\n",
       "\n",
       "    .dataframe thead th {\n",
       "        text-align: right;\n",
       "    }\n",
       "</style>\n",
       "<table border=\"1\" class=\"dataframe\">\n",
       "  <thead>\n",
       "    <tr style=\"text-align: right;\">\n",
       "      <th></th>\n",
       "      <th>id_prod</th>\n",
       "      <th>date</th>\n",
       "      <th>session_id</th>\n",
       "      <th>client_id</th>\n",
       "      <th>sex</th>\n",
       "      <th>birth</th>\n",
       "    </tr>\n",
       "  </thead>\n",
       "  <tbody>\n",
       "    <tr>\n",
       "      <th>0</th>\n",
       "      <td>0_1518</td>\n",
       "      <td>2022-05-20 13:21:29.043970</td>\n",
       "      <td>s_211425</td>\n",
       "      <td>c_103</td>\n",
       "      <td>f</td>\n",
       "      <td>1986</td>\n",
       "    </tr>\n",
       "    <tr>\n",
       "      <th>1</th>\n",
       "      <td>0_1627</td>\n",
       "      <td>2022-06-18 05:55:31.816994</td>\n",
       "      <td>s_225494</td>\n",
       "      <td>c_103</td>\n",
       "      <td>f</td>\n",
       "      <td>1986</td>\n",
       "    </tr>\n",
       "    <tr>\n",
       "      <th>2</th>\n",
       "      <td>0_1104</td>\n",
       "      <td>2023-02-08 17:31:06.898425</td>\n",
       "      <td>s_338755</td>\n",
       "      <td>c_103</td>\n",
       "      <td>f</td>\n",
       "      <td>1986</td>\n",
       "    </tr>\n",
       "    <tr>\n",
       "      <th>3</th>\n",
       "      <td>0_1390</td>\n",
       "      <td>2021-04-20 06:18:39.939761</td>\n",
       "      <td>s_23078</td>\n",
       "      <td>c_103</td>\n",
       "      <td>f</td>\n",
       "      <td>1986</td>\n",
       "    </tr>\n",
       "    <tr>\n",
       "      <th>4</th>\n",
       "      <td>0_1547</td>\n",
       "      <td>2022-03-15 19:54:53.904123</td>\n",
       "      <td>s_179629</td>\n",
       "      <td>c_103</td>\n",
       "      <td>f</td>\n",
       "      <td>1986</td>\n",
       "    </tr>\n",
       "  </tbody>\n",
       "</table>\n",
       "</div>"
      ],
      "text/plain": [
       "  id_prod                       date session_id client_id sex  birth\n",
       "0  0_1518 2022-05-20 13:21:29.043970   s_211425     c_103   f   1986\n",
       "1  0_1627 2022-06-18 05:55:31.816994   s_225494     c_103   f   1986\n",
       "2  0_1104 2023-02-08 17:31:06.898425   s_338755     c_103   f   1986\n",
       "3  0_1390 2021-04-20 06:18:39.939761    s_23078     c_103   f   1986\n",
       "4  0_1547 2022-03-15 19:54:53.904123   s_179629     c_103   f   1986"
      ]
     },
     "execution_count": 22,
     "metadata": {},
     "output_type": "execute_result"
    }
   ],
   "source": [
    "premiere_liaison.head()"
   ]
  },
  {
   "cell_type": "markdown",
   "id": "40d36a07",
   "metadata": {},
   "source": [
    "J'ajoute le dernier fichier produits."
   ]
  },
  {
   "cell_type": "code",
   "execution_count": 23,
   "id": "87f9b6ca",
   "metadata": {},
   "outputs": [
    {
     "data": {
      "text/html": [
       "<div>\n",
       "<style scoped>\n",
       "    .dataframe tbody tr th:only-of-type {\n",
       "        vertical-align: middle;\n",
       "    }\n",
       "\n",
       "    .dataframe tbody tr th {\n",
       "        vertical-align: top;\n",
       "    }\n",
       "\n",
       "    .dataframe thead th {\n",
       "        text-align: right;\n",
       "    }\n",
       "</style>\n",
       "<table border=\"1\" class=\"dataframe\">\n",
       "  <thead>\n",
       "    <tr style=\"text-align: right;\">\n",
       "      <th></th>\n",
       "      <th>id_prod</th>\n",
       "      <th>date</th>\n",
       "      <th>session_id</th>\n",
       "      <th>client_id</th>\n",
       "      <th>sex</th>\n",
       "      <th>birth</th>\n",
       "      <th>price</th>\n",
       "      <th>categ</th>\n",
       "      <th>_merge</th>\n",
       "    </tr>\n",
       "  </thead>\n",
       "  <tbody>\n",
       "    <tr>\n",
       "      <th>0</th>\n",
       "      <td>0_1518</td>\n",
       "      <td>2022-05-20 13:21:29.043970</td>\n",
       "      <td>s_211425</td>\n",
       "      <td>c_103</td>\n",
       "      <td>f</td>\n",
       "      <td>1986.0</td>\n",
       "      <td>4.18</td>\n",
       "      <td>0.0</td>\n",
       "      <td>both</td>\n",
       "    </tr>\n",
       "    <tr>\n",
       "      <th>1</th>\n",
       "      <td>0_1518</td>\n",
       "      <td>2021-07-20 13:21:29.043970</td>\n",
       "      <td>s_64849</td>\n",
       "      <td>c_103</td>\n",
       "      <td>f</td>\n",
       "      <td>1986.0</td>\n",
       "      <td>4.18</td>\n",
       "      <td>0.0</td>\n",
       "      <td>both</td>\n",
       "    </tr>\n",
       "    <tr>\n",
       "      <th>2</th>\n",
       "      <td>0_1518</td>\n",
       "      <td>2022-08-20 13:21:29.043970</td>\n",
       "      <td>s_255965</td>\n",
       "      <td>c_103</td>\n",
       "      <td>f</td>\n",
       "      <td>1986.0</td>\n",
       "      <td>4.18</td>\n",
       "      <td>0.0</td>\n",
       "      <td>both</td>\n",
       "    </tr>\n",
       "    <tr>\n",
       "      <th>3</th>\n",
       "      <td>0_1518</td>\n",
       "      <td>2021-05-09 11:52:55.100386</td>\n",
       "      <td>s_32104</td>\n",
       "      <td>c_6714</td>\n",
       "      <td>f</td>\n",
       "      <td>1968.0</td>\n",
       "      <td>4.18</td>\n",
       "      <td>0.0</td>\n",
       "      <td>both</td>\n",
       "    </tr>\n",
       "    <tr>\n",
       "      <th>4</th>\n",
       "      <td>0_1518</td>\n",
       "      <td>2022-05-30 01:17:07.487046</td>\n",
       "      <td>s_216118</td>\n",
       "      <td>c_6714</td>\n",
       "      <td>f</td>\n",
       "      <td>1968.0</td>\n",
       "      <td>4.18</td>\n",
       "      <td>0.0</td>\n",
       "      <td>both</td>\n",
       "    </tr>\n",
       "  </tbody>\n",
       "</table>\n",
       "</div>"
      ],
      "text/plain": [
       "  id_prod                       date session_id client_id sex   birth  price  \\\n",
       "0  0_1518 2022-05-20 13:21:29.043970   s_211425     c_103   f  1986.0   4.18   \n",
       "1  0_1518 2021-07-20 13:21:29.043970    s_64849     c_103   f  1986.0   4.18   \n",
       "2  0_1518 2022-08-20 13:21:29.043970   s_255965     c_103   f  1986.0   4.18   \n",
       "3  0_1518 2021-05-09 11:52:55.100386    s_32104    c_6714   f  1968.0   4.18   \n",
       "4  0_1518 2022-05-30 01:17:07.487046   s_216118    c_6714   f  1968.0   4.18   \n",
       "\n",
       "   categ _merge  \n",
       "0    0.0   both  \n",
       "1    0.0   both  \n",
       "2    0.0   both  \n",
       "3    0.0   both  \n",
       "4    0.0   both  "
      ]
     },
     "execution_count": 23,
     "metadata": {},
     "output_type": "execute_result"
    }
   ],
   "source": [
    "fichier_final = pd.merge (premiere_liaison, produits, how='outer', on=['id_prod'], indicator=True)\n",
    "fichier_final.head()"
   ]
  },
  {
   "cell_type": "code",
   "execution_count": 24,
   "id": "05a1c588",
   "metadata": {},
   "outputs": [
    {
     "data": {
      "text/html": [
       "<div>\n",
       "<style scoped>\n",
       "    .dataframe tbody tr th:only-of-type {\n",
       "        vertical-align: middle;\n",
       "    }\n",
       "\n",
       "    .dataframe tbody tr th {\n",
       "        vertical-align: top;\n",
       "    }\n",
       "\n",
       "    .dataframe thead th {\n",
       "        text-align: right;\n",
       "    }\n",
       "</style>\n",
       "<table border=\"1\" class=\"dataframe\">\n",
       "  <thead>\n",
       "    <tr style=\"text-align: right;\">\n",
       "      <th></th>\n",
       "      <th>id_prod</th>\n",
       "      <th>date</th>\n",
       "      <th>session_id</th>\n",
       "      <th>client_id</th>\n",
       "      <th>sex</th>\n",
       "      <th>birth</th>\n",
       "      <th>price</th>\n",
       "      <th>categ</th>\n",
       "      <th>_merge</th>\n",
       "    </tr>\n",
       "  </thead>\n",
       "  <tbody>\n",
       "    <tr>\n",
       "      <th>0</th>\n",
       "      <td>0_1518</td>\n",
       "      <td>2022-05-20 13:21:29.043970</td>\n",
       "      <td>s_211425</td>\n",
       "      <td>c_103</td>\n",
       "      <td>f</td>\n",
       "      <td>1986.0</td>\n",
       "      <td>4.18</td>\n",
       "      <td>0.0</td>\n",
       "      <td>both</td>\n",
       "    </tr>\n",
       "    <tr>\n",
       "      <th>1</th>\n",
       "      <td>0_1518</td>\n",
       "      <td>2021-07-20 13:21:29.043970</td>\n",
       "      <td>s_64849</td>\n",
       "      <td>c_103</td>\n",
       "      <td>f</td>\n",
       "      <td>1986.0</td>\n",
       "      <td>4.18</td>\n",
       "      <td>0.0</td>\n",
       "      <td>both</td>\n",
       "    </tr>\n",
       "    <tr>\n",
       "      <th>2</th>\n",
       "      <td>0_1518</td>\n",
       "      <td>2022-08-20 13:21:29.043970</td>\n",
       "      <td>s_255965</td>\n",
       "      <td>c_103</td>\n",
       "      <td>f</td>\n",
       "      <td>1986.0</td>\n",
       "      <td>4.18</td>\n",
       "      <td>0.0</td>\n",
       "      <td>both</td>\n",
       "    </tr>\n",
       "    <tr>\n",
       "      <th>3</th>\n",
       "      <td>0_1518</td>\n",
       "      <td>2021-05-09 11:52:55.100386</td>\n",
       "      <td>s_32104</td>\n",
       "      <td>c_6714</td>\n",
       "      <td>f</td>\n",
       "      <td>1968.0</td>\n",
       "      <td>4.18</td>\n",
       "      <td>0.0</td>\n",
       "      <td>both</td>\n",
       "    </tr>\n",
       "    <tr>\n",
       "      <th>4</th>\n",
       "      <td>0_1518</td>\n",
       "      <td>2022-05-30 01:17:07.487046</td>\n",
       "      <td>s_216118</td>\n",
       "      <td>c_6714</td>\n",
       "      <td>f</td>\n",
       "      <td>1968.0</td>\n",
       "      <td>4.18</td>\n",
       "      <td>0.0</td>\n",
       "      <td>both</td>\n",
       "    </tr>\n",
       "    <tr>\n",
       "      <th>...</th>\n",
       "      <td>...</td>\n",
       "      <td>...</td>\n",
       "      <td>...</td>\n",
       "      <td>...</td>\n",
       "      <td>...</td>\n",
       "      <td>...</td>\n",
       "      <td>...</td>\n",
       "      <td>...</td>\n",
       "      <td>...</td>\n",
       "    </tr>\n",
       "    <tr>\n",
       "      <th>679327</th>\n",
       "      <td>1_408</td>\n",
       "      <td>2023-01-26 06:52:02.225335</td>\n",
       "      <td>s_332548</td>\n",
       "      <td>c_7402</td>\n",
       "      <td>m</td>\n",
       "      <td>1945.0</td>\n",
       "      <td>35.24</td>\n",
       "      <td>1.0</td>\n",
       "      <td>both</td>\n",
       "    </tr>\n",
       "    <tr>\n",
       "      <th>679328</th>\n",
       "      <td>1_408</td>\n",
       "      <td>2022-11-26 06:52:02.225335</td>\n",
       "      <td>s_302962</td>\n",
       "      <td>c_7402</td>\n",
       "      <td>m</td>\n",
       "      <td>1945.0</td>\n",
       "      <td>35.24</td>\n",
       "      <td>1.0</td>\n",
       "      <td>both</td>\n",
       "    </tr>\n",
       "    <tr>\n",
       "      <th>679329</th>\n",
       "      <td>1_408</td>\n",
       "      <td>2021-09-26 06:52:02.225335</td>\n",
       "      <td>s_95708</td>\n",
       "      <td>c_7402</td>\n",
       "      <td>m</td>\n",
       "      <td>1945.0</td>\n",
       "      <td>35.24</td>\n",
       "      <td>1.0</td>\n",
       "      <td>both</td>\n",
       "    </tr>\n",
       "    <tr>\n",
       "      <th>679330</th>\n",
       "      <td>2_81</td>\n",
       "      <td>2022-02-19 14:51:58.078656</td>\n",
       "      <td>s_167662</td>\n",
       "      <td>c_7616</td>\n",
       "      <td>m</td>\n",
       "      <td>1993.0</td>\n",
       "      <td>86.99</td>\n",
       "      <td>2.0</td>\n",
       "      <td>both</td>\n",
       "    </tr>\n",
       "    <tr>\n",
       "      <th>679331</th>\n",
       "      <td>2_98</td>\n",
       "      <td>2021-03-08 21:10:32.250919</td>\n",
       "      <td>s_3637</td>\n",
       "      <td>c_5967</td>\n",
       "      <td>f</td>\n",
       "      <td>2003.0</td>\n",
       "      <td>149.74</td>\n",
       "      <td>2.0</td>\n",
       "      <td>both</td>\n",
       "    </tr>\n",
       "  </tbody>\n",
       "</table>\n",
       "<p>679111 rows × 9 columns</p>\n",
       "</div>"
      ],
      "text/plain": [
       "       id_prod                       date session_id client_id sex   birth  \\\n",
       "0       0_1518 2022-05-20 13:21:29.043970   s_211425     c_103   f  1986.0   \n",
       "1       0_1518 2021-07-20 13:21:29.043970    s_64849     c_103   f  1986.0   \n",
       "2       0_1518 2022-08-20 13:21:29.043970   s_255965     c_103   f  1986.0   \n",
       "3       0_1518 2021-05-09 11:52:55.100386    s_32104    c_6714   f  1968.0   \n",
       "4       0_1518 2022-05-30 01:17:07.487046   s_216118    c_6714   f  1968.0   \n",
       "...        ...                        ...        ...       ...  ..     ...   \n",
       "679327   1_408 2023-01-26 06:52:02.225335   s_332548    c_7402   m  1945.0   \n",
       "679328   1_408 2022-11-26 06:52:02.225335   s_302962    c_7402   m  1945.0   \n",
       "679329   1_408 2021-09-26 06:52:02.225335    s_95708    c_7402   m  1945.0   \n",
       "679330    2_81 2022-02-19 14:51:58.078656   s_167662    c_7616   m  1993.0   \n",
       "679331    2_98 2021-03-08 21:10:32.250919     s_3637    c_5967   f  2003.0   \n",
       "\n",
       "         price  categ _merge  \n",
       "0         4.18    0.0   both  \n",
       "1         4.18    0.0   both  \n",
       "2         4.18    0.0   both  \n",
       "3         4.18    0.0   both  \n",
       "4         4.18    0.0   both  \n",
       "...        ...    ...    ...  \n",
       "679327   35.24    1.0   both  \n",
       "679328   35.24    1.0   both  \n",
       "679329   35.24    1.0   both  \n",
       "679330   86.99    2.0   both  \n",
       "679331  149.74    2.0   both  \n",
       "\n",
       "[679111 rows x 9 columns]"
      ]
     },
     "execution_count": 24,
     "metadata": {},
     "output_type": "execute_result"
    }
   ],
   "source": [
    "fichier_final.loc[fichier_final['_merge'] == 'both']"
   ]
  },
  {
   "cell_type": "code",
   "execution_count": 25,
   "id": "846e8f2d",
   "metadata": {},
   "outputs": [
    {
     "data": {
      "text/html": [
       "<div>\n",
       "<style scoped>\n",
       "    .dataframe tbody tr th:only-of-type {\n",
       "        vertical-align: middle;\n",
       "    }\n",
       "\n",
       "    .dataframe tbody tr th {\n",
       "        vertical-align: top;\n",
       "    }\n",
       "\n",
       "    .dataframe thead th {\n",
       "        text-align: right;\n",
       "    }\n",
       "</style>\n",
       "<table border=\"1\" class=\"dataframe\">\n",
       "  <thead>\n",
       "    <tr style=\"text-align: right;\">\n",
       "      <th></th>\n",
       "      <th>id_prod</th>\n",
       "      <th>date</th>\n",
       "      <th>session_id</th>\n",
       "      <th>client_id</th>\n",
       "      <th>sex</th>\n",
       "      <th>birth</th>\n",
       "      <th>price</th>\n",
       "      <th>categ</th>\n",
       "      <th>_merge</th>\n",
       "    </tr>\n",
       "  </thead>\n",
       "  <tbody>\n",
       "    <tr>\n",
       "      <th>679332</th>\n",
       "      <td>0_1016</td>\n",
       "      <td>NaT</td>\n",
       "      <td>NaN</td>\n",
       "      <td>NaN</td>\n",
       "      <td>NaN</td>\n",
       "      <td>NaN</td>\n",
       "      <td>35.06</td>\n",
       "      <td>0.0</td>\n",
       "      <td>right_only</td>\n",
       "    </tr>\n",
       "    <tr>\n",
       "      <th>679333</th>\n",
       "      <td>0_1780</td>\n",
       "      <td>NaT</td>\n",
       "      <td>NaN</td>\n",
       "      <td>NaN</td>\n",
       "      <td>NaN</td>\n",
       "      <td>NaN</td>\n",
       "      <td>1.67</td>\n",
       "      <td>0.0</td>\n",
       "      <td>right_only</td>\n",
       "    </tr>\n",
       "    <tr>\n",
       "      <th>679334</th>\n",
       "      <td>T_0</td>\n",
       "      <td>NaT</td>\n",
       "      <td>NaN</td>\n",
       "      <td>NaN</td>\n",
       "      <td>NaN</td>\n",
       "      <td>NaN</td>\n",
       "      <td>-1.00</td>\n",
       "      <td>0.0</td>\n",
       "      <td>right_only</td>\n",
       "    </tr>\n",
       "    <tr>\n",
       "      <th>679335</th>\n",
       "      <td>0_1062</td>\n",
       "      <td>NaT</td>\n",
       "      <td>NaN</td>\n",
       "      <td>NaN</td>\n",
       "      <td>NaN</td>\n",
       "      <td>NaN</td>\n",
       "      <td>20.08</td>\n",
       "      <td>0.0</td>\n",
       "      <td>right_only</td>\n",
       "    </tr>\n",
       "    <tr>\n",
       "      <th>679336</th>\n",
       "      <td>0_1119</td>\n",
       "      <td>NaT</td>\n",
       "      <td>NaN</td>\n",
       "      <td>NaN</td>\n",
       "      <td>NaN</td>\n",
       "      <td>NaN</td>\n",
       "      <td>2.99</td>\n",
       "      <td>0.0</td>\n",
       "      <td>right_only</td>\n",
       "    </tr>\n",
       "    <tr>\n",
       "      <th>679337</th>\n",
       "      <td>0_1014</td>\n",
       "      <td>NaT</td>\n",
       "      <td>NaN</td>\n",
       "      <td>NaN</td>\n",
       "      <td>NaN</td>\n",
       "      <td>NaN</td>\n",
       "      <td>1.15</td>\n",
       "      <td>0.0</td>\n",
       "      <td>right_only</td>\n",
       "    </tr>\n",
       "    <tr>\n",
       "      <th>679338</th>\n",
       "      <td>1_0</td>\n",
       "      <td>NaT</td>\n",
       "      <td>NaN</td>\n",
       "      <td>NaN</td>\n",
       "      <td>NaN</td>\n",
       "      <td>NaN</td>\n",
       "      <td>31.82</td>\n",
       "      <td>1.0</td>\n",
       "      <td>right_only</td>\n",
       "    </tr>\n",
       "    <tr>\n",
       "      <th>679339</th>\n",
       "      <td>0_1318</td>\n",
       "      <td>NaT</td>\n",
       "      <td>NaN</td>\n",
       "      <td>NaN</td>\n",
       "      <td>NaN</td>\n",
       "      <td>NaN</td>\n",
       "      <td>20.92</td>\n",
       "      <td>0.0</td>\n",
       "      <td>right_only</td>\n",
       "    </tr>\n",
       "    <tr>\n",
       "      <th>679340</th>\n",
       "      <td>0_1800</td>\n",
       "      <td>NaT</td>\n",
       "      <td>NaN</td>\n",
       "      <td>NaN</td>\n",
       "      <td>NaN</td>\n",
       "      <td>NaN</td>\n",
       "      <td>22.05</td>\n",
       "      <td>0.0</td>\n",
       "      <td>right_only</td>\n",
       "    </tr>\n",
       "    <tr>\n",
       "      <th>679341</th>\n",
       "      <td>0_1645</td>\n",
       "      <td>NaT</td>\n",
       "      <td>NaN</td>\n",
       "      <td>NaN</td>\n",
       "      <td>NaN</td>\n",
       "      <td>NaN</td>\n",
       "      <td>2.99</td>\n",
       "      <td>0.0</td>\n",
       "      <td>right_only</td>\n",
       "    </tr>\n",
       "    <tr>\n",
       "      <th>679342</th>\n",
       "      <td>0_322</td>\n",
       "      <td>NaT</td>\n",
       "      <td>NaN</td>\n",
       "      <td>NaN</td>\n",
       "      <td>NaN</td>\n",
       "      <td>NaN</td>\n",
       "      <td>2.99</td>\n",
       "      <td>0.0</td>\n",
       "      <td>right_only</td>\n",
       "    </tr>\n",
       "    <tr>\n",
       "      <th>679343</th>\n",
       "      <td>0_1620</td>\n",
       "      <td>NaT</td>\n",
       "      <td>NaN</td>\n",
       "      <td>NaN</td>\n",
       "      <td>NaN</td>\n",
       "      <td>NaN</td>\n",
       "      <td>0.80</td>\n",
       "      <td>0.0</td>\n",
       "      <td>right_only</td>\n",
       "    </tr>\n",
       "    <tr>\n",
       "      <th>679344</th>\n",
       "      <td>0_1025</td>\n",
       "      <td>NaT</td>\n",
       "      <td>NaN</td>\n",
       "      <td>NaN</td>\n",
       "      <td>NaN</td>\n",
       "      <td>NaN</td>\n",
       "      <td>24.99</td>\n",
       "      <td>0.0</td>\n",
       "      <td>right_only</td>\n",
       "    </tr>\n",
       "    <tr>\n",
       "      <th>679345</th>\n",
       "      <td>2_87</td>\n",
       "      <td>NaT</td>\n",
       "      <td>NaN</td>\n",
       "      <td>NaN</td>\n",
       "      <td>NaN</td>\n",
       "      <td>NaN</td>\n",
       "      <td>220.99</td>\n",
       "      <td>2.0</td>\n",
       "      <td>right_only</td>\n",
       "    </tr>\n",
       "    <tr>\n",
       "      <th>679346</th>\n",
       "      <td>1_394</td>\n",
       "      <td>NaT</td>\n",
       "      <td>NaN</td>\n",
       "      <td>NaN</td>\n",
       "      <td>NaN</td>\n",
       "      <td>NaN</td>\n",
       "      <td>39.73</td>\n",
       "      <td>1.0</td>\n",
       "      <td>right_only</td>\n",
       "    </tr>\n",
       "    <tr>\n",
       "      <th>679347</th>\n",
       "      <td>2_72</td>\n",
       "      <td>NaT</td>\n",
       "      <td>NaN</td>\n",
       "      <td>NaN</td>\n",
       "      <td>NaN</td>\n",
       "      <td>NaN</td>\n",
       "      <td>141.32</td>\n",
       "      <td>2.0</td>\n",
       "      <td>right_only</td>\n",
       "    </tr>\n",
       "    <tr>\n",
       "      <th>679348</th>\n",
       "      <td>0_310</td>\n",
       "      <td>NaT</td>\n",
       "      <td>NaN</td>\n",
       "      <td>NaN</td>\n",
       "      <td>NaN</td>\n",
       "      <td>NaN</td>\n",
       "      <td>1.94</td>\n",
       "      <td>0.0</td>\n",
       "      <td>right_only</td>\n",
       "    </tr>\n",
       "    <tr>\n",
       "      <th>679349</th>\n",
       "      <td>0_1624</td>\n",
       "      <td>NaT</td>\n",
       "      <td>NaN</td>\n",
       "      <td>NaN</td>\n",
       "      <td>NaN</td>\n",
       "      <td>NaN</td>\n",
       "      <td>24.50</td>\n",
       "      <td>0.0</td>\n",
       "      <td>right_only</td>\n",
       "    </tr>\n",
       "    <tr>\n",
       "      <th>679350</th>\n",
       "      <td>2_86</td>\n",
       "      <td>NaT</td>\n",
       "      <td>NaN</td>\n",
       "      <td>NaN</td>\n",
       "      <td>NaN</td>\n",
       "      <td>NaN</td>\n",
       "      <td>132.36</td>\n",
       "      <td>2.0</td>\n",
       "      <td>right_only</td>\n",
       "    </tr>\n",
       "    <tr>\n",
       "      <th>679351</th>\n",
       "      <td>0_299</td>\n",
       "      <td>NaT</td>\n",
       "      <td>NaN</td>\n",
       "      <td>NaN</td>\n",
       "      <td>NaN</td>\n",
       "      <td>NaN</td>\n",
       "      <td>22.99</td>\n",
       "      <td>0.0</td>\n",
       "      <td>right_only</td>\n",
       "    </tr>\n",
       "    <tr>\n",
       "      <th>679352</th>\n",
       "      <td>0_510</td>\n",
       "      <td>NaT</td>\n",
       "      <td>NaN</td>\n",
       "      <td>NaN</td>\n",
       "      <td>NaN</td>\n",
       "      <td>NaN</td>\n",
       "      <td>23.66</td>\n",
       "      <td>0.0</td>\n",
       "      <td>right_only</td>\n",
       "    </tr>\n",
       "    <tr>\n",
       "      <th>679353</th>\n",
       "      <td>0_2308</td>\n",
       "      <td>NaT</td>\n",
       "      <td>NaN</td>\n",
       "      <td>NaN</td>\n",
       "      <td>NaN</td>\n",
       "      <td>NaN</td>\n",
       "      <td>20.28</td>\n",
       "      <td>0.0</td>\n",
       "      <td>right_only</td>\n",
       "    </tr>\n",
       "  </tbody>\n",
       "</table>\n",
       "</div>"
      ],
      "text/plain": [
       "       id_prod date session_id client_id  sex  birth   price  categ  \\\n",
       "679332  0_1016  NaT        NaN       NaN  NaN    NaN   35.06    0.0   \n",
       "679333  0_1780  NaT        NaN       NaN  NaN    NaN    1.67    0.0   \n",
       "679334     T_0  NaT        NaN       NaN  NaN    NaN   -1.00    0.0   \n",
       "679335  0_1062  NaT        NaN       NaN  NaN    NaN   20.08    0.0   \n",
       "679336  0_1119  NaT        NaN       NaN  NaN    NaN    2.99    0.0   \n",
       "679337  0_1014  NaT        NaN       NaN  NaN    NaN    1.15    0.0   \n",
       "679338     1_0  NaT        NaN       NaN  NaN    NaN   31.82    1.0   \n",
       "679339  0_1318  NaT        NaN       NaN  NaN    NaN   20.92    0.0   \n",
       "679340  0_1800  NaT        NaN       NaN  NaN    NaN   22.05    0.0   \n",
       "679341  0_1645  NaT        NaN       NaN  NaN    NaN    2.99    0.0   \n",
       "679342   0_322  NaT        NaN       NaN  NaN    NaN    2.99    0.0   \n",
       "679343  0_1620  NaT        NaN       NaN  NaN    NaN    0.80    0.0   \n",
       "679344  0_1025  NaT        NaN       NaN  NaN    NaN   24.99    0.0   \n",
       "679345    2_87  NaT        NaN       NaN  NaN    NaN  220.99    2.0   \n",
       "679346   1_394  NaT        NaN       NaN  NaN    NaN   39.73    1.0   \n",
       "679347    2_72  NaT        NaN       NaN  NaN    NaN  141.32    2.0   \n",
       "679348   0_310  NaT        NaN       NaN  NaN    NaN    1.94    0.0   \n",
       "679349  0_1624  NaT        NaN       NaN  NaN    NaN   24.50    0.0   \n",
       "679350    2_86  NaT        NaN       NaN  NaN    NaN  132.36    2.0   \n",
       "679351   0_299  NaT        NaN       NaN  NaN    NaN   22.99    0.0   \n",
       "679352   0_510  NaT        NaN       NaN  NaN    NaN   23.66    0.0   \n",
       "679353  0_2308  NaT        NaN       NaN  NaN    NaN   20.28    0.0   \n",
       "\n",
       "            _merge  \n",
       "679332  right_only  \n",
       "679333  right_only  \n",
       "679334  right_only  \n",
       "679335  right_only  \n",
       "679336  right_only  \n",
       "679337  right_only  \n",
       "679338  right_only  \n",
       "679339  right_only  \n",
       "679340  right_only  \n",
       "679341  right_only  \n",
       "679342  right_only  \n",
       "679343  right_only  \n",
       "679344  right_only  \n",
       "679345  right_only  \n",
       "679346  right_only  \n",
       "679347  right_only  \n",
       "679348  right_only  \n",
       "679349  right_only  \n",
       "679350  right_only  \n",
       "679351  right_only  \n",
       "679352  right_only  \n",
       "679353  right_only  "
      ]
     },
     "execution_count": 25,
     "metadata": {},
     "output_type": "execute_result"
    }
   ],
   "source": [
    "fichier_final.loc[fichier_final['_merge'] == 'right_only']"
   ]
  },
  {
   "cell_type": "markdown",
   "id": "0562d7ef",
   "metadata": {},
   "source": [
    "Ces 22 lignes du fichier produits n'ont pas de correspondances dans la table des transactions. Ce qui veut dire que ces produits ne sont pas en vente sur le site probablement ou n'ont jamais trouvé d'acheteurs. Je vais donc les enlever pour analyses futures."
   ]
  },
  {
   "cell_type": "code",
   "execution_count": 26,
   "id": "0ed29602",
   "metadata": {},
   "outputs": [
    {
     "data": {
      "text/html": [
       "<div>\n",
       "<style scoped>\n",
       "    .dataframe tbody tr th:only-of-type {\n",
       "        vertical-align: middle;\n",
       "    }\n",
       "\n",
       "    .dataframe tbody tr th {\n",
       "        vertical-align: top;\n",
       "    }\n",
       "\n",
       "    .dataframe thead th {\n",
       "        text-align: right;\n",
       "    }\n",
       "</style>\n",
       "<table border=\"1\" class=\"dataframe\">\n",
       "  <thead>\n",
       "    <tr style=\"text-align: right;\">\n",
       "      <th></th>\n",
       "      <th>id_prod</th>\n",
       "      <th>date</th>\n",
       "      <th>session_id</th>\n",
       "      <th>client_id</th>\n",
       "      <th>sex</th>\n",
       "      <th>birth</th>\n",
       "      <th>price</th>\n",
       "      <th>categ</th>\n",
       "      <th>_merge</th>\n",
       "    </tr>\n",
       "  </thead>\n",
       "  <tbody>\n",
       "    <tr>\n",
       "      <th>311747</th>\n",
       "      <td>0_2245</td>\n",
       "      <td>2021-04-22 04:57:20.090378</td>\n",
       "      <td>s_23987</td>\n",
       "      <td>c_6714</td>\n",
       "      <td>f</td>\n",
       "      <td>1968.0</td>\n",
       "      <td>NaN</td>\n",
       "      <td>NaN</td>\n",
       "      <td>left_only</td>\n",
       "    </tr>\n",
       "    <tr>\n",
       "      <th>311748</th>\n",
       "      <td>0_2245</td>\n",
       "      <td>2021-06-05 17:04:43.982913</td>\n",
       "      <td>s_44481</td>\n",
       "      <td>c_6714</td>\n",
       "      <td>f</td>\n",
       "      <td>1968.0</td>\n",
       "      <td>NaN</td>\n",
       "      <td>NaN</td>\n",
       "      <td>left_only</td>\n",
       "    </tr>\n",
       "    <tr>\n",
       "      <th>311749</th>\n",
       "      <td>0_2245</td>\n",
       "      <td>2022-04-05 17:04:43.982913</td>\n",
       "      <td>s_189669</td>\n",
       "      <td>c_6714</td>\n",
       "      <td>f</td>\n",
       "      <td>1968.0</td>\n",
       "      <td>NaN</td>\n",
       "      <td>NaN</td>\n",
       "      <td>left_only</td>\n",
       "    </tr>\n",
       "    <tr>\n",
       "      <th>311750</th>\n",
       "      <td>0_2245</td>\n",
       "      <td>2022-05-05 17:04:43.982913</td>\n",
       "      <td>s_204093</td>\n",
       "      <td>c_6714</td>\n",
       "      <td>f</td>\n",
       "      <td>1968.0</td>\n",
       "      <td>NaN</td>\n",
       "      <td>NaN</td>\n",
       "      <td>left_only</td>\n",
       "    </tr>\n",
       "    <tr>\n",
       "      <th>311751</th>\n",
       "      <td>0_2245</td>\n",
       "      <td>2022-12-05 17:04:43.982913</td>\n",
       "      <td>s_307520</td>\n",
       "      <td>c_6714</td>\n",
       "      <td>f</td>\n",
       "      <td>1968.0</td>\n",
       "      <td>NaN</td>\n",
       "      <td>NaN</td>\n",
       "      <td>left_only</td>\n",
       "    </tr>\n",
       "    <tr>\n",
       "      <th>...</th>\n",
       "      <td>...</td>\n",
       "      <td>...</td>\n",
       "      <td>...</td>\n",
       "      <td>...</td>\n",
       "      <td>...</td>\n",
       "      <td>...</td>\n",
       "      <td>...</td>\n",
       "      <td>...</td>\n",
       "      <td>...</td>\n",
       "    </tr>\n",
       "    <tr>\n",
       "      <th>311963</th>\n",
       "      <td>0_2245</td>\n",
       "      <td>2021-10-19 09:32:03.667461</td>\n",
       "      <td>s_107022</td>\n",
       "      <td>c_6128</td>\n",
       "      <td>m</td>\n",
       "      <td>1986.0</td>\n",
       "      <td>NaN</td>\n",
       "      <td>NaN</td>\n",
       "      <td>left_only</td>\n",
       "    </tr>\n",
       "    <tr>\n",
       "      <th>311964</th>\n",
       "      <td>0_2245</td>\n",
       "      <td>2021-11-12 09:25:22.905886</td>\n",
       "      <td>s_118458</td>\n",
       "      <td>c_7416</td>\n",
       "      <td>m</td>\n",
       "      <td>1933.0</td>\n",
       "      <td>NaN</td>\n",
       "      <td>NaN</td>\n",
       "      <td>left_only</td>\n",
       "    </tr>\n",
       "    <tr>\n",
       "      <th>311965</th>\n",
       "      <td>0_2245</td>\n",
       "      <td>2021-08-22 08:51:27.564509</td>\n",
       "      <td>s_79102</td>\n",
       "      <td>c_6752</td>\n",
       "      <td>m</td>\n",
       "      <td>1987.0</td>\n",
       "      <td>NaN</td>\n",
       "      <td>NaN</td>\n",
       "      <td>left_only</td>\n",
       "    </tr>\n",
       "    <tr>\n",
       "      <th>311966</th>\n",
       "      <td>0_2245</td>\n",
       "      <td>2022-04-22 08:51:27.564509</td>\n",
       "      <td>s_197669</td>\n",
       "      <td>c_6752</td>\n",
       "      <td>m</td>\n",
       "      <td>1987.0</td>\n",
       "      <td>NaN</td>\n",
       "      <td>NaN</td>\n",
       "      <td>left_only</td>\n",
       "    </tr>\n",
       "    <tr>\n",
       "      <th>311967</th>\n",
       "      <td>0_2245</td>\n",
       "      <td>2021-05-20 07:44:21.415061</td>\n",
       "      <td>s_36985</td>\n",
       "      <td>c_1450</td>\n",
       "      <td>f</td>\n",
       "      <td>1959.0</td>\n",
       "      <td>NaN</td>\n",
       "      <td>NaN</td>\n",
       "      <td>left_only</td>\n",
       "    </tr>\n",
       "  </tbody>\n",
       "</table>\n",
       "<p>221 rows × 9 columns</p>\n",
       "</div>"
      ],
      "text/plain": [
       "       id_prod                       date session_id client_id sex   birth  \\\n",
       "311747  0_2245 2021-04-22 04:57:20.090378    s_23987    c_6714   f  1968.0   \n",
       "311748  0_2245 2021-06-05 17:04:43.982913    s_44481    c_6714   f  1968.0   \n",
       "311749  0_2245 2022-04-05 17:04:43.982913   s_189669    c_6714   f  1968.0   \n",
       "311750  0_2245 2022-05-05 17:04:43.982913   s_204093    c_6714   f  1968.0   \n",
       "311751  0_2245 2022-12-05 17:04:43.982913   s_307520    c_6714   f  1968.0   \n",
       "...        ...                        ...        ...       ...  ..     ...   \n",
       "311963  0_2245 2021-10-19 09:32:03.667461   s_107022    c_6128   m  1986.0   \n",
       "311964  0_2245 2021-11-12 09:25:22.905886   s_118458    c_7416   m  1933.0   \n",
       "311965  0_2245 2021-08-22 08:51:27.564509    s_79102    c_6752   m  1987.0   \n",
       "311966  0_2245 2022-04-22 08:51:27.564509   s_197669    c_6752   m  1987.0   \n",
       "311967  0_2245 2021-05-20 07:44:21.415061    s_36985    c_1450   f  1959.0   \n",
       "\n",
       "        price  categ     _merge  \n",
       "311747    NaN    NaN  left_only  \n",
       "311748    NaN    NaN  left_only  \n",
       "311749    NaN    NaN  left_only  \n",
       "311750    NaN    NaN  left_only  \n",
       "311751    NaN    NaN  left_only  \n",
       "...       ...    ...        ...  \n",
       "311963    NaN    NaN  left_only  \n",
       "311964    NaN    NaN  left_only  \n",
       "311965    NaN    NaN  left_only  \n",
       "311966    NaN    NaN  left_only  \n",
       "311967    NaN    NaN  left_only  \n",
       "\n",
       "[221 rows x 9 columns]"
      ]
     },
     "execution_count": 26,
     "metadata": {},
     "output_type": "execute_result"
    }
   ],
   "source": [
    "fichier_final.loc[fichier_final['_merge'] == 'left_only']"
   ]
  },
  {
   "cell_type": "markdown",
   "id": "0d239ff5",
   "metadata": {},
   "source": [
    "Ces 221 lignes de la table transactions n'ont pas de correspondance dans la table des produits. Cela signifie que la référence produit 0_2245 n'existe pas ou est absente de la table produits. Comme il s'agit d'un grand nombre de données je vais compléter les valeurs absentes du prix par le prix moyen de la catégorie 0, car il s'agit d'un produit de cette catégorie."
   ]
  },
  {
   "cell_type": "code",
   "execution_count": 27,
   "id": "0a8111d8",
   "metadata": {},
   "outputs": [],
   "source": [
    "fichier_final['categ'] = fichier_final['categ'].mask((fichier_final['id_prod'] == '0_2245') & fichier_final['categ'].isna(), 0)"
   ]
  },
  {
   "cell_type": "code",
   "execution_count": 28,
   "id": "4771fa3f",
   "metadata": {},
   "outputs": [
    {
     "data": {
      "text/html": [
       "<div>\n",
       "<style scoped>\n",
       "    .dataframe tbody tr th:only-of-type {\n",
       "        vertical-align: middle;\n",
       "    }\n",
       "\n",
       "    .dataframe tbody tr th {\n",
       "        vertical-align: top;\n",
       "    }\n",
       "\n",
       "    .dataframe thead th {\n",
       "        text-align: right;\n",
       "    }\n",
       "</style>\n",
       "<table border=\"1\" class=\"dataframe\">\n",
       "  <thead>\n",
       "    <tr style=\"text-align: right;\">\n",
       "      <th></th>\n",
       "      <th>price</th>\n",
       "    </tr>\n",
       "    <tr>\n",
       "      <th>categ</th>\n",
       "      <th></th>\n",
       "    </tr>\n",
       "  </thead>\n",
       "  <tbody>\n",
       "    <tr>\n",
       "      <th>0</th>\n",
       "      <td>11.727280</td>\n",
       "    </tr>\n",
       "    <tr>\n",
       "      <th>1</th>\n",
       "      <td>25.531421</td>\n",
       "    </tr>\n",
       "    <tr>\n",
       "      <th>2</th>\n",
       "      <td>108.354686</td>\n",
       "    </tr>\n",
       "  </tbody>\n",
       "</table>\n",
       "</div>"
      ],
      "text/plain": [
       "            price\n",
       "categ            \n",
       "0       11.727280\n",
       "1       25.531421\n",
       "2      108.354686"
      ]
     },
     "execution_count": 28,
     "metadata": {},
     "output_type": "execute_result"
    }
   ],
   "source": [
    "moy_cat1 = produits.groupby('categ').mean()\n",
    "moy_cat1"
   ]
  },
  {
   "cell_type": "code",
   "execution_count": 29,
   "id": "b1d9c6ff",
   "metadata": {},
   "outputs": [],
   "source": [
    "fichier_final['price'] = fichier_final['price'].mask((fichier_final['id_prod'] == '0_2245') & fichier_final['price'].isna(), 11.73)"
   ]
  },
  {
   "cell_type": "code",
   "execution_count": 30,
   "id": "5ca9e465",
   "metadata": {},
   "outputs": [
    {
     "data": {
      "text/html": [
       "<div>\n",
       "<style scoped>\n",
       "    .dataframe tbody tr th:only-of-type {\n",
       "        vertical-align: middle;\n",
       "    }\n",
       "\n",
       "    .dataframe tbody tr th {\n",
       "        vertical-align: top;\n",
       "    }\n",
       "\n",
       "    .dataframe thead th {\n",
       "        text-align: right;\n",
       "    }\n",
       "</style>\n",
       "<table border=\"1\" class=\"dataframe\">\n",
       "  <thead>\n",
       "    <tr style=\"text-align: right;\">\n",
       "      <th></th>\n",
       "      <th>id_prod</th>\n",
       "      <th>date</th>\n",
       "      <th>session_id</th>\n",
       "      <th>client_id</th>\n",
       "      <th>sex</th>\n",
       "      <th>birth</th>\n",
       "      <th>price</th>\n",
       "      <th>categ</th>\n",
       "      <th>_merge</th>\n",
       "    </tr>\n",
       "  </thead>\n",
       "  <tbody>\n",
       "    <tr>\n",
       "      <th>311747</th>\n",
       "      <td>0_2245</td>\n",
       "      <td>2021-04-22 04:57:20.090378</td>\n",
       "      <td>s_23987</td>\n",
       "      <td>c_6714</td>\n",
       "      <td>f</td>\n",
       "      <td>1968.0</td>\n",
       "      <td>11.73</td>\n",
       "      <td>0.0</td>\n",
       "      <td>left_only</td>\n",
       "    </tr>\n",
       "    <tr>\n",
       "      <th>311748</th>\n",
       "      <td>0_2245</td>\n",
       "      <td>2021-06-05 17:04:43.982913</td>\n",
       "      <td>s_44481</td>\n",
       "      <td>c_6714</td>\n",
       "      <td>f</td>\n",
       "      <td>1968.0</td>\n",
       "      <td>11.73</td>\n",
       "      <td>0.0</td>\n",
       "      <td>left_only</td>\n",
       "    </tr>\n",
       "    <tr>\n",
       "      <th>311749</th>\n",
       "      <td>0_2245</td>\n",
       "      <td>2022-04-05 17:04:43.982913</td>\n",
       "      <td>s_189669</td>\n",
       "      <td>c_6714</td>\n",
       "      <td>f</td>\n",
       "      <td>1968.0</td>\n",
       "      <td>11.73</td>\n",
       "      <td>0.0</td>\n",
       "      <td>left_only</td>\n",
       "    </tr>\n",
       "    <tr>\n",
       "      <th>311750</th>\n",
       "      <td>0_2245</td>\n",
       "      <td>2022-05-05 17:04:43.982913</td>\n",
       "      <td>s_204093</td>\n",
       "      <td>c_6714</td>\n",
       "      <td>f</td>\n",
       "      <td>1968.0</td>\n",
       "      <td>11.73</td>\n",
       "      <td>0.0</td>\n",
       "      <td>left_only</td>\n",
       "    </tr>\n",
       "    <tr>\n",
       "      <th>311751</th>\n",
       "      <td>0_2245</td>\n",
       "      <td>2022-12-05 17:04:43.982913</td>\n",
       "      <td>s_307520</td>\n",
       "      <td>c_6714</td>\n",
       "      <td>f</td>\n",
       "      <td>1968.0</td>\n",
       "      <td>11.73</td>\n",
       "      <td>0.0</td>\n",
       "      <td>left_only</td>\n",
       "    </tr>\n",
       "    <tr>\n",
       "      <th>...</th>\n",
       "      <td>...</td>\n",
       "      <td>...</td>\n",
       "      <td>...</td>\n",
       "      <td>...</td>\n",
       "      <td>...</td>\n",
       "      <td>...</td>\n",
       "      <td>...</td>\n",
       "      <td>...</td>\n",
       "      <td>...</td>\n",
       "    </tr>\n",
       "    <tr>\n",
       "      <th>311963</th>\n",
       "      <td>0_2245</td>\n",
       "      <td>2021-10-19 09:32:03.667461</td>\n",
       "      <td>s_107022</td>\n",
       "      <td>c_6128</td>\n",
       "      <td>m</td>\n",
       "      <td>1986.0</td>\n",
       "      <td>11.73</td>\n",
       "      <td>0.0</td>\n",
       "      <td>left_only</td>\n",
       "    </tr>\n",
       "    <tr>\n",
       "      <th>311964</th>\n",
       "      <td>0_2245</td>\n",
       "      <td>2021-11-12 09:25:22.905886</td>\n",
       "      <td>s_118458</td>\n",
       "      <td>c_7416</td>\n",
       "      <td>m</td>\n",
       "      <td>1933.0</td>\n",
       "      <td>11.73</td>\n",
       "      <td>0.0</td>\n",
       "      <td>left_only</td>\n",
       "    </tr>\n",
       "    <tr>\n",
       "      <th>311965</th>\n",
       "      <td>0_2245</td>\n",
       "      <td>2021-08-22 08:51:27.564509</td>\n",
       "      <td>s_79102</td>\n",
       "      <td>c_6752</td>\n",
       "      <td>m</td>\n",
       "      <td>1987.0</td>\n",
       "      <td>11.73</td>\n",
       "      <td>0.0</td>\n",
       "      <td>left_only</td>\n",
       "    </tr>\n",
       "    <tr>\n",
       "      <th>311966</th>\n",
       "      <td>0_2245</td>\n",
       "      <td>2022-04-22 08:51:27.564509</td>\n",
       "      <td>s_197669</td>\n",
       "      <td>c_6752</td>\n",
       "      <td>m</td>\n",
       "      <td>1987.0</td>\n",
       "      <td>11.73</td>\n",
       "      <td>0.0</td>\n",
       "      <td>left_only</td>\n",
       "    </tr>\n",
       "    <tr>\n",
       "      <th>311967</th>\n",
       "      <td>0_2245</td>\n",
       "      <td>2021-05-20 07:44:21.415061</td>\n",
       "      <td>s_36985</td>\n",
       "      <td>c_1450</td>\n",
       "      <td>f</td>\n",
       "      <td>1959.0</td>\n",
       "      <td>11.73</td>\n",
       "      <td>0.0</td>\n",
       "      <td>left_only</td>\n",
       "    </tr>\n",
       "  </tbody>\n",
       "</table>\n",
       "<p>221 rows × 9 columns</p>\n",
       "</div>"
      ],
      "text/plain": [
       "       id_prod                       date session_id client_id sex   birth  \\\n",
       "311747  0_2245 2021-04-22 04:57:20.090378    s_23987    c_6714   f  1968.0   \n",
       "311748  0_2245 2021-06-05 17:04:43.982913    s_44481    c_6714   f  1968.0   \n",
       "311749  0_2245 2022-04-05 17:04:43.982913   s_189669    c_6714   f  1968.0   \n",
       "311750  0_2245 2022-05-05 17:04:43.982913   s_204093    c_6714   f  1968.0   \n",
       "311751  0_2245 2022-12-05 17:04:43.982913   s_307520    c_6714   f  1968.0   \n",
       "...        ...                        ...        ...       ...  ..     ...   \n",
       "311963  0_2245 2021-10-19 09:32:03.667461   s_107022    c_6128   m  1986.0   \n",
       "311964  0_2245 2021-11-12 09:25:22.905886   s_118458    c_7416   m  1933.0   \n",
       "311965  0_2245 2021-08-22 08:51:27.564509    s_79102    c_6752   m  1987.0   \n",
       "311966  0_2245 2022-04-22 08:51:27.564509   s_197669    c_6752   m  1987.0   \n",
       "311967  0_2245 2021-05-20 07:44:21.415061    s_36985    c_1450   f  1959.0   \n",
       "\n",
       "        price  categ     _merge  \n",
       "311747  11.73    0.0  left_only  \n",
       "311748  11.73    0.0  left_only  \n",
       "311749  11.73    0.0  left_only  \n",
       "311750  11.73    0.0  left_only  \n",
       "311751  11.73    0.0  left_only  \n",
       "...       ...    ...        ...  \n",
       "311963  11.73    0.0  left_only  \n",
       "311964  11.73    0.0  left_only  \n",
       "311965  11.73    0.0  left_only  \n",
       "311966  11.73    0.0  left_only  \n",
       "311967  11.73    0.0  left_only  \n",
       "\n",
       "[221 rows x 9 columns]"
      ]
     },
     "execution_count": 30,
     "metadata": {},
     "output_type": "execute_result"
    }
   ],
   "source": [
    "fichier_final.loc[fichier_final['_merge'] == 'left_only']"
   ]
  },
  {
   "cell_type": "markdown",
   "id": "deb8d81e",
   "metadata": {},
   "source": [
    "Maintenant je vais enlever uniquement les données de la liaison à droite et conserver le reste des données. "
   ]
  },
  {
   "cell_type": "code",
   "execution_count": 31,
   "id": "5984a04c",
   "metadata": {},
   "outputs": [],
   "source": [
    "fichier_final = fichier_final[~fichier_final['_merge'].str.contains('right_only')]"
   ]
  },
  {
   "cell_type": "code",
   "execution_count": 32,
   "id": "01f82538",
   "metadata": {},
   "outputs": [],
   "source": [
    "fichier_final = fichier_final.drop(columns='_merge')"
   ]
  },
  {
   "cell_type": "code",
   "execution_count": 33,
   "id": "b9c6e97d",
   "metadata": {},
   "outputs": [
    {
     "data": {
      "text/html": [
       "<div>\n",
       "<style scoped>\n",
       "    .dataframe tbody tr th:only-of-type {\n",
       "        vertical-align: middle;\n",
       "    }\n",
       "\n",
       "    .dataframe tbody tr th {\n",
       "        vertical-align: top;\n",
       "    }\n",
       "\n",
       "    .dataframe thead th {\n",
       "        text-align: right;\n",
       "    }\n",
       "</style>\n",
       "<table border=\"1\" class=\"dataframe\">\n",
       "  <thead>\n",
       "    <tr style=\"text-align: right;\">\n",
       "      <th></th>\n",
       "      <th>id_prod</th>\n",
       "      <th>date</th>\n",
       "      <th>session_id</th>\n",
       "      <th>client_id</th>\n",
       "      <th>sex</th>\n",
       "      <th>birth</th>\n",
       "      <th>price</th>\n",
       "      <th>categ</th>\n",
       "    </tr>\n",
       "  </thead>\n",
       "  <tbody>\n",
       "    <tr>\n",
       "      <th>0</th>\n",
       "      <td>0_1518</td>\n",
       "      <td>2022-05-20 13:21:29.043970</td>\n",
       "      <td>s_211425</td>\n",
       "      <td>c_103</td>\n",
       "      <td>f</td>\n",
       "      <td>1986.0</td>\n",
       "      <td>4.18</td>\n",
       "      <td>0.0</td>\n",
       "    </tr>\n",
       "    <tr>\n",
       "      <th>1</th>\n",
       "      <td>0_1518</td>\n",
       "      <td>2021-07-20 13:21:29.043970</td>\n",
       "      <td>s_64849</td>\n",
       "      <td>c_103</td>\n",
       "      <td>f</td>\n",
       "      <td>1986.0</td>\n",
       "      <td>4.18</td>\n",
       "      <td>0.0</td>\n",
       "    </tr>\n",
       "    <tr>\n",
       "      <th>2</th>\n",
       "      <td>0_1518</td>\n",
       "      <td>2022-08-20 13:21:29.043970</td>\n",
       "      <td>s_255965</td>\n",
       "      <td>c_103</td>\n",
       "      <td>f</td>\n",
       "      <td>1986.0</td>\n",
       "      <td>4.18</td>\n",
       "      <td>0.0</td>\n",
       "    </tr>\n",
       "    <tr>\n",
       "      <th>3</th>\n",
       "      <td>0_1518</td>\n",
       "      <td>2021-05-09 11:52:55.100386</td>\n",
       "      <td>s_32104</td>\n",
       "      <td>c_6714</td>\n",
       "      <td>f</td>\n",
       "      <td>1968.0</td>\n",
       "      <td>4.18</td>\n",
       "      <td>0.0</td>\n",
       "    </tr>\n",
       "    <tr>\n",
       "      <th>4</th>\n",
       "      <td>0_1518</td>\n",
       "      <td>2022-05-30 01:17:07.487046</td>\n",
       "      <td>s_216118</td>\n",
       "      <td>c_6714</td>\n",
       "      <td>f</td>\n",
       "      <td>1968.0</td>\n",
       "      <td>4.18</td>\n",
       "      <td>0.0</td>\n",
       "    </tr>\n",
       "    <tr>\n",
       "      <th>...</th>\n",
       "      <td>...</td>\n",
       "      <td>...</td>\n",
       "      <td>...</td>\n",
       "      <td>...</td>\n",
       "      <td>...</td>\n",
       "      <td>...</td>\n",
       "      <td>...</td>\n",
       "      <td>...</td>\n",
       "    </tr>\n",
       "    <tr>\n",
       "      <th>679327</th>\n",
       "      <td>1_408</td>\n",
       "      <td>2023-01-26 06:52:02.225335</td>\n",
       "      <td>s_332548</td>\n",
       "      <td>c_7402</td>\n",
       "      <td>m</td>\n",
       "      <td>1945.0</td>\n",
       "      <td>35.24</td>\n",
       "      <td>1.0</td>\n",
       "    </tr>\n",
       "    <tr>\n",
       "      <th>679328</th>\n",
       "      <td>1_408</td>\n",
       "      <td>2022-11-26 06:52:02.225335</td>\n",
       "      <td>s_302962</td>\n",
       "      <td>c_7402</td>\n",
       "      <td>m</td>\n",
       "      <td>1945.0</td>\n",
       "      <td>35.24</td>\n",
       "      <td>1.0</td>\n",
       "    </tr>\n",
       "    <tr>\n",
       "      <th>679329</th>\n",
       "      <td>1_408</td>\n",
       "      <td>2021-09-26 06:52:02.225335</td>\n",
       "      <td>s_95708</td>\n",
       "      <td>c_7402</td>\n",
       "      <td>m</td>\n",
       "      <td>1945.0</td>\n",
       "      <td>35.24</td>\n",
       "      <td>1.0</td>\n",
       "    </tr>\n",
       "    <tr>\n",
       "      <th>679330</th>\n",
       "      <td>2_81</td>\n",
       "      <td>2022-02-19 14:51:58.078656</td>\n",
       "      <td>s_167662</td>\n",
       "      <td>c_7616</td>\n",
       "      <td>m</td>\n",
       "      <td>1993.0</td>\n",
       "      <td>86.99</td>\n",
       "      <td>2.0</td>\n",
       "    </tr>\n",
       "    <tr>\n",
       "      <th>679331</th>\n",
       "      <td>2_98</td>\n",
       "      <td>2021-03-08 21:10:32.250919</td>\n",
       "      <td>s_3637</td>\n",
       "      <td>c_5967</td>\n",
       "      <td>f</td>\n",
       "      <td>2003.0</td>\n",
       "      <td>149.74</td>\n",
       "      <td>2.0</td>\n",
       "    </tr>\n",
       "  </tbody>\n",
       "</table>\n",
       "<p>679332 rows × 8 columns</p>\n",
       "</div>"
      ],
      "text/plain": [
       "       id_prod                       date session_id client_id sex   birth  \\\n",
       "0       0_1518 2022-05-20 13:21:29.043970   s_211425     c_103   f  1986.0   \n",
       "1       0_1518 2021-07-20 13:21:29.043970    s_64849     c_103   f  1986.0   \n",
       "2       0_1518 2022-08-20 13:21:29.043970   s_255965     c_103   f  1986.0   \n",
       "3       0_1518 2021-05-09 11:52:55.100386    s_32104    c_6714   f  1968.0   \n",
       "4       0_1518 2022-05-30 01:17:07.487046   s_216118    c_6714   f  1968.0   \n",
       "...        ...                        ...        ...       ...  ..     ...   \n",
       "679327   1_408 2023-01-26 06:52:02.225335   s_332548    c_7402   m  1945.0   \n",
       "679328   1_408 2022-11-26 06:52:02.225335   s_302962    c_7402   m  1945.0   \n",
       "679329   1_408 2021-09-26 06:52:02.225335    s_95708    c_7402   m  1945.0   \n",
       "679330    2_81 2022-02-19 14:51:58.078656   s_167662    c_7616   m  1993.0   \n",
       "679331    2_98 2021-03-08 21:10:32.250919     s_3637    c_5967   f  2003.0   \n",
       "\n",
       "         price  categ  \n",
       "0         4.18    0.0  \n",
       "1         4.18    0.0  \n",
       "2         4.18    0.0  \n",
       "3         4.18    0.0  \n",
       "4         4.18    0.0  \n",
       "...        ...    ...  \n",
       "679327   35.24    1.0  \n",
       "679328   35.24    1.0  \n",
       "679329   35.24    1.0  \n",
       "679330   86.99    2.0  \n",
       "679331  149.74    2.0  \n",
       "\n",
       "[679332 rows x 8 columns]"
      ]
     },
     "execution_count": 33,
     "metadata": {},
     "output_type": "execute_result"
    }
   ],
   "source": [
    "fichier_final"
   ]
  },
  {
   "cell_type": "markdown",
   "id": "a1b5c440",
   "metadata": {},
   "source": [
    "Une fois le traitement du fichier final terminé, nous voyons qu'il a un total de 679332 lignes ce qui correspond bien aux 679111 lignes pour la condition both additionné des 221 lignes pour la condition gauche seulement."
   ]
  },
  {
   "cell_type": "markdown",
   "id": "0bfe4b01",
   "metadata": {},
   "source": [
    "## Partie 2 - Analyse des différents indicateurs de vente"
   ]
  },
  {
   "cell_type": "markdown",
   "id": "572d3d6a",
   "metadata": {},
   "source": [
    "Voilà d'abord quelques informations générales sur la répartition du chiffre d'affaire."
   ]
  },
  {
   "cell_type": "code",
   "execution_count": 34,
   "id": "e3fcb12a",
   "metadata": {},
   "outputs": [
    {
     "data": {
      "text/plain": [
       "count    679332.000000\n",
       "mean         17.452911\n",
       "std          18.326307\n",
       "min           0.620000\n",
       "25%           8.870000\n",
       "50%          13.990000\n",
       "75%          18.990000\n",
       "max         300.000000\n",
       "Name: price, dtype: float64"
      ]
     },
     "execution_count": 34,
     "metadata": {},
     "output_type": "execute_result"
    }
   ],
   "source": [
    "fichier_final['price'].describe()"
   ]
  },
  {
   "cell_type": "code",
   "execution_count": 35,
   "id": "06f89966",
   "metadata": {},
   "outputs": [
    {
     "name": "stdout",
     "output_type": "stream",
     "text": [
      "Le chiffre d'affaire total pour la période considérée est de 11856321.01 euros.\n"
     ]
    }
   ],
   "source": [
    "ca_total = fichier_final['price'].sum()\n",
    "print(\"Le chiffre d'affaire total pour la période considérée est de\", ca_total, 'euros.')"
   ]
  },
  {
   "cell_type": "markdown",
   "id": "bfce6464",
   "metadata": {},
   "source": [
    "Je présente ci dessous la distribution des prix des différents produits."
   ]
  },
  {
   "cell_type": "code",
   "execution_count": 36,
   "id": "8c12a2b7",
   "metadata": {},
   "outputs": [
    {
     "data": {
      "text/plain": [
       "<AxesSubplot:xlabel='price', ylabel='Count'>"
      ]
     },
     "execution_count": 36,
     "metadata": {},
     "output_type": "execute_result"
    },
    {
     "data": {
      "image/png": "[encoded data removed]",
      "text/plain": [
       "<Figure size 1152x360 with 1 Axes>"
      ]
     },
     "metadata": {},
     "output_type": "display_data"
    }
   ],
   "source": [
    "sns.set(style=\"darkgrid\")\n",
    "plt.figure(figsize=(16,5)) \n",
    "plt.subplot(1,2,1)\n",
    "sns.histplot(fichier_final['price'], kde=True, bins=50)"
   ]
  },
  {
   "cell_type": "markdown",
   "id": "bf62f803",
   "metadata": {},
   "source": [
    "Avec la boite à moustache, nous pouvons voir que la plupart des valeurs tournent autour des 15 €. Il y a beaucoup de valeurs extrêmes puisque dépassant la borne supérieure d'environ 30 €."
   ]
  },
  {
   "cell_type": "code",
   "execution_count": 37,
   "id": "174f847b",
   "metadata": {
    "scrolled": true
   },
   "outputs": [
    {
     "data": {
      "text/plain": [
       "<AxesSubplot:xlabel='price'>"
      ]
     },
     "execution_count": 37,
     "metadata": {},
     "output_type": "execute_result"
    },
    {
     "data": {
      "image/png": "[encoded data removed]",
      "text/plain": [
       "<Figure size 3600x720 with 1 Axes>"
      ]
     },
     "metadata": {},
     "output_type": "display_data"
    }
   ],
   "source": [
    "plt.figure(figsize=(50,10)) \n",
    "sns.boxplot( x=fichier_final[\"price\"])"
   ]
  },
  {
   "cell_type": "markdown",
   "id": "d35b3324",
   "metadata": {},
   "source": [
    "Je fais la somme des achats par jour. Pour afficher une distribution au cours du temps."
   ]
  },
  {
   "cell_type": "code",
   "execution_count": 38,
   "id": "0330ca23",
   "metadata": {},
   "outputs": [
    {
     "data": {
      "text/html": [
       "<div>\n",
       "<style scoped>\n",
       "    .dataframe tbody tr th:only-of-type {\n",
       "        vertical-align: middle;\n",
       "    }\n",
       "\n",
       "    .dataframe tbody tr th {\n",
       "        vertical-align: top;\n",
       "    }\n",
       "\n",
       "    .dataframe thead th {\n",
       "        text-align: right;\n",
       "    }\n",
       "</style>\n",
       "<table border=\"1\" class=\"dataframe\">\n",
       "  <thead>\n",
       "    <tr style=\"text-align: right;\">\n",
       "      <th></th>\n",
       "      <th>date</th>\n",
       "      <th>price</th>\n",
       "    </tr>\n",
       "  </thead>\n",
       "  <tbody>\n",
       "    <tr>\n",
       "      <th>0</th>\n",
       "      <td>2021-03-01</td>\n",
       "      <td>16576.95</td>\n",
       "    </tr>\n",
       "    <tr>\n",
       "      <th>1</th>\n",
       "      <td>2021-03-02</td>\n",
       "      <td>15498.18</td>\n",
       "    </tr>\n",
       "    <tr>\n",
       "      <th>2</th>\n",
       "      <td>2021-03-03</td>\n",
       "      <td>15198.69</td>\n",
       "    </tr>\n",
       "    <tr>\n",
       "      <th>3</th>\n",
       "      <td>2021-03-04</td>\n",
       "      <td>15196.07</td>\n",
       "    </tr>\n",
       "    <tr>\n",
       "      <th>4</th>\n",
       "      <td>2021-03-05</td>\n",
       "      <td>17471.37</td>\n",
       "    </tr>\n",
       "    <tr>\n",
       "      <th>...</th>\n",
       "      <td>...</td>\n",
       "      <td>...</td>\n",
       "    </tr>\n",
       "    <tr>\n",
       "      <th>725</th>\n",
       "      <td>2023-02-24</td>\n",
       "      <td>15207.89</td>\n",
       "    </tr>\n",
       "    <tr>\n",
       "      <th>726</th>\n",
       "      <td>2023-02-25</td>\n",
       "      <td>15761.25</td>\n",
       "    </tr>\n",
       "    <tr>\n",
       "      <th>727</th>\n",
       "      <td>2023-02-26</td>\n",
       "      <td>16304.72</td>\n",
       "    </tr>\n",
       "    <tr>\n",
       "      <th>728</th>\n",
       "      <td>2023-02-27</td>\n",
       "      <td>19170.81</td>\n",
       "    </tr>\n",
       "    <tr>\n",
       "      <th>729</th>\n",
       "      <td>2023-02-28</td>\n",
       "      <td>18105.15</td>\n",
       "    </tr>\n",
       "  </tbody>\n",
       "</table>\n",
       "<p>730 rows × 2 columns</p>\n",
       "</div>"
      ],
      "text/plain": [
       "          date     price\n",
       "0   2021-03-01  16576.95\n",
       "1   2021-03-02  15498.18\n",
       "2   2021-03-03  15198.69\n",
       "3   2021-03-04  15196.07\n",
       "4   2021-03-05  17471.37\n",
       "..         ...       ...\n",
       "725 2023-02-24  15207.89\n",
       "726 2023-02-25  15761.25\n",
       "727 2023-02-26  16304.72\n",
       "728 2023-02-27  19170.81\n",
       "729 2023-02-28  18105.15\n",
       "\n",
       "[730 rows x 2 columns]"
      ]
     },
     "execution_count": 38,
     "metadata": {},
     "output_type": "execute_result"
    }
   ],
   "source": [
    "dfca_date = fichier_final.resample('D', on='date')['price'].sum().reset_index()\n",
    "dfca_date"
   ]
  },
  {
   "cell_type": "code",
   "execution_count": 39,
   "id": "d00c347d",
   "metadata": {},
   "outputs": [
    {
     "data": {
      "text/plain": [
       "<AxesSubplot:xlabel='date', ylabel='price'>"
      ]
     },
     "execution_count": 39,
     "metadata": {},
     "output_type": "execute_result"
    },
    {
     "data": {
      "image/png": "[encoded data removed]",
      "text/plain": [
       "<Figure size 1152x576 with 1 Axes>"
      ]
     },
     "metadata": {},
     "output_type": "display_data"
    }
   ],
   "source": [
    "plt.figure(figsize=(16, 8))\n",
    "sns.lineplot(x=dfca_date['date'], y=dfca_date['price'])"
   ]
  },
  {
   "cell_type": "markdown",
   "id": "c797d595",
   "metadata": {},
   "source": [
    "Le chiffre d'affaire semble suivre une évolution constante en légère augmentation autour de 16000 euros par jour. On peut remarquer une chute du chiffre d'affaire sur le mois d'octobre 2021. Je suppose que l'entreprise a rencontré un problème technique qui n'a pas permis d'enregistrer toutes les données conernant ce mois. Comme cela est resté limité dans le temps je n'en tiens pas compte."
   ]
  },
  {
   "cell_type": "markdown",
   "id": "4c54afaa",
   "metadata": {},
   "source": [
    "Pour évaluer la tendance globale de manière graphique j'affiche les moyennes mobiles de 7 jours et de 30 jours que je superspose à l'évolution du CA."
   ]
  },
  {
   "cell_type": "code",
   "execution_count": 40,
   "id": "819c6f0e",
   "metadata": {},
   "outputs": [
    {
     "data": {
      "text/html": [
       "<div>\n",
       "<style scoped>\n",
       "    .dataframe tbody tr th:only-of-type {\n",
       "        vertical-align: middle;\n",
       "    }\n",
       "\n",
       "    .dataframe tbody tr th {\n",
       "        vertical-align: top;\n",
       "    }\n",
       "\n",
       "    .dataframe thead th {\n",
       "        text-align: right;\n",
       "    }\n",
       "</style>\n",
       "<table border=\"1\" class=\"dataframe\">\n",
       "  <thead>\n",
       "    <tr style=\"text-align: right;\">\n",
       "      <th></th>\n",
       "      <th>date</th>\n",
       "      <th>price</th>\n",
       "      <th>moy_mobile7</th>\n",
       "      <th>moy_mobile30</th>\n",
       "    </tr>\n",
       "  </thead>\n",
       "  <tbody>\n",
       "    <tr>\n",
       "      <th>0</th>\n",
       "      <td>2021-03-01</td>\n",
       "      <td>16576.95</td>\n",
       "      <td>NaN</td>\n",
       "      <td>NaN</td>\n",
       "    </tr>\n",
       "    <tr>\n",
       "      <th>1</th>\n",
       "      <td>2021-03-02</td>\n",
       "      <td>15498.18</td>\n",
       "      <td>NaN</td>\n",
       "      <td>NaN</td>\n",
       "    </tr>\n",
       "    <tr>\n",
       "      <th>2</th>\n",
       "      <td>2021-03-03</td>\n",
       "      <td>15198.69</td>\n",
       "      <td>NaN</td>\n",
       "      <td>NaN</td>\n",
       "    </tr>\n",
       "    <tr>\n",
       "      <th>3</th>\n",
       "      <td>2021-03-04</td>\n",
       "      <td>15196.07</td>\n",
       "      <td>NaN</td>\n",
       "      <td>NaN</td>\n",
       "    </tr>\n",
       "    <tr>\n",
       "      <th>4</th>\n",
       "      <td>2021-03-05</td>\n",
       "      <td>17471.37</td>\n",
       "      <td>NaN</td>\n",
       "      <td>NaN</td>\n",
       "    </tr>\n",
       "    <tr>\n",
       "      <th>...</th>\n",
       "      <td>...</td>\n",
       "      <td>...</td>\n",
       "      <td>...</td>\n",
       "      <td>...</td>\n",
       "    </tr>\n",
       "    <tr>\n",
       "      <th>725</th>\n",
       "      <td>2023-02-24</td>\n",
       "      <td>15207.89</td>\n",
       "      <td>16490.454286</td>\n",
       "      <td>16241.498333</td>\n",
       "    </tr>\n",
       "    <tr>\n",
       "      <th>726</th>\n",
       "      <td>2023-02-25</td>\n",
       "      <td>15761.25</td>\n",
       "      <td>16008.422857</td>\n",
       "      <td>16190.805333</td>\n",
       "    </tr>\n",
       "    <tr>\n",
       "      <th>727</th>\n",
       "      <td>2023-02-26</td>\n",
       "      <td>16304.72</td>\n",
       "      <td>16036.697143</td>\n",
       "      <td>16165.181333</td>\n",
       "    </tr>\n",
       "    <tr>\n",
       "      <th>728</th>\n",
       "      <td>2023-02-27</td>\n",
       "      <td>19170.81</td>\n",
       "      <td>16489.245714</td>\n",
       "      <td>16285.105000</td>\n",
       "    </tr>\n",
       "    <tr>\n",
       "      <th>729</th>\n",
       "      <td>2023-02-28</td>\n",
       "      <td>18105.15</td>\n",
       "      <td>16513.984286</td>\n",
       "      <td>16324.637000</td>\n",
       "    </tr>\n",
       "  </tbody>\n",
       "</table>\n",
       "<p>730 rows × 4 columns</p>\n",
       "</div>"
      ],
      "text/plain": [
       "          date     price   moy_mobile7  moy_mobile30\n",
       "0   2021-03-01  16576.95           NaN           NaN\n",
       "1   2021-03-02  15498.18           NaN           NaN\n",
       "2   2021-03-03  15198.69           NaN           NaN\n",
       "3   2021-03-04  15196.07           NaN           NaN\n",
       "4   2021-03-05  17471.37           NaN           NaN\n",
       "..         ...       ...           ...           ...\n",
       "725 2023-02-24  15207.89  16490.454286  16241.498333\n",
       "726 2023-02-25  15761.25  16008.422857  16190.805333\n",
       "727 2023-02-26  16304.72  16036.697143  16165.181333\n",
       "728 2023-02-27  19170.81  16489.245714  16285.105000\n",
       "729 2023-02-28  18105.15  16513.984286  16324.637000\n",
       "\n",
       "[730 rows x 4 columns]"
      ]
     },
     "execution_count": 40,
     "metadata": {},
     "output_type": "execute_result"
    }
   ],
   "source": [
    "dfca_date['moy_mobile7'] = dfca_date['price'].rolling(7).mean()\n",
    "dfca_date['moy_mobile30'] = dfca_date['price'].rolling(30).mean()\n",
    "dfca_date"
   ]
  },
  {
   "cell_type": "code",
   "execution_count": 41,
   "id": "57a2fee9",
   "metadata": {},
   "outputs": [
    {
     "data": {
      "text/plain": [
       "<AxesSubplot:>"
      ]
     },
     "execution_count": 41,
     "metadata": {},
     "output_type": "execute_result"
    },
    {
     "data": {
      "image/png": "[encoded data removed]",
      "text/plain": [
       "<Figure size 1152x576 with 1 Axes>"
      ]
     },
     "metadata": {},
     "output_type": "display_data"
    }
   ],
   "source": [
    "dfca_date[['price', 'moy_mobile7', 'moy_mobile30']].plot(figsize=(16, 8))"
   ]
  },
  {
   "cell_type": "markdown",
   "id": "d47395f6",
   "metadata": {},
   "source": [
    "Je regroupe ensuite les références entre elles pour obersever les 10 meilleurs ventes dans un premier temps et les 10 dernières sous forme de diagrammes."
   ]
  },
  {
   "cell_type": "code",
   "execution_count": 42,
   "id": "0e89f488",
   "metadata": {
    "scrolled": true
   },
   "outputs": [
    {
     "data": {
      "text/html": [
       "<div>\n",
       "<style scoped>\n",
       "    .dataframe tbody tr th:only-of-type {\n",
       "        vertical-align: middle;\n",
       "    }\n",
       "\n",
       "    .dataframe tbody tr th {\n",
       "        vertical-align: top;\n",
       "    }\n",
       "\n",
       "    .dataframe thead th {\n",
       "        text-align: right;\n",
       "    }\n",
       "</style>\n",
       "<table border=\"1\" class=\"dataframe\">\n",
       "  <thead>\n",
       "    <tr style=\"text-align: right;\">\n",
       "      <th></th>\n",
       "      <th>id_prod</th>\n",
       "      <th>price</th>\n",
       "    </tr>\n",
       "  </thead>\n",
       "  <tbody>\n",
       "    <tr>\n",
       "      <th>3097</th>\n",
       "      <td>2_159</td>\n",
       "      <td>94893.50</td>\n",
       "    </tr>\n",
       "    <tr>\n",
       "      <th>3071</th>\n",
       "      <td>2_135</td>\n",
       "      <td>69334.95</td>\n",
       "    </tr>\n",
       "    <tr>\n",
       "      <th>3046</th>\n",
       "      <td>2_112</td>\n",
       "      <td>65407.76</td>\n",
       "    </tr>\n",
       "    <tr>\n",
       "      <th>3035</th>\n",
       "      <td>2_102</td>\n",
       "      <td>60736.78</td>\n",
       "    </tr>\n",
       "    <tr>\n",
       "      <th>3153</th>\n",
       "      <td>2_209</td>\n",
       "      <td>56971.86</td>\n",
       "    </tr>\n",
       "    <tr>\n",
       "      <th>2620</th>\n",
       "      <td>1_395</td>\n",
       "      <td>54356.25</td>\n",
       "    </tr>\n",
       "    <tr>\n",
       "      <th>2592</th>\n",
       "      <td>1_369</td>\n",
       "      <td>54025.48</td>\n",
       "    </tr>\n",
       "    <tr>\n",
       "      <th>3044</th>\n",
       "      <td>2_110</td>\n",
       "      <td>53846.25</td>\n",
       "    </tr>\n",
       "    <tr>\n",
       "      <th>3202</th>\n",
       "      <td>2_39</td>\n",
       "      <td>53060.85</td>\n",
       "    </tr>\n",
       "    <tr>\n",
       "      <th>3105</th>\n",
       "      <td>2_166</td>\n",
       "      <td>52449.12</td>\n",
       "    </tr>\n",
       "  </tbody>\n",
       "</table>\n",
       "</div>"
      ],
      "text/plain": [
       "     id_prod     price\n",
       "3097   2_159  94893.50\n",
       "3071   2_135  69334.95\n",
       "3046   2_112  65407.76\n",
       "3035   2_102  60736.78\n",
       "3153   2_209  56971.86\n",
       "2620   1_395  54356.25\n",
       "2592   1_369  54025.48\n",
       "3044   2_110  53846.25\n",
       "3202    2_39  53060.85\n",
       "3105   2_166  52449.12"
      ]
     },
     "execution_count": 42,
     "metadata": {},
     "output_type": "execute_result"
    }
   ],
   "source": [
    "CA_produit = fichier_final[['id_prod', 'price']].groupby('id_prod').sum().reset_index()\n",
    "CA_produit_plus = CA_produit.sort_values('price', ascending=False).head(10)\n",
    "CA_produit_plus"
   ]
  },
  {
   "cell_type": "code",
   "execution_count": 43,
   "id": "25051118",
   "metadata": {},
   "outputs": [
    {
     "data": {
      "image/png": "[encoded data removed]",
      "text/plain": [
       "<Figure size 432x288 with 1 Axes>"
      ]
     },
     "metadata": {},
     "output_type": "display_data"
    }
   ],
   "source": [
    "plt.barh(width = CA_produit_plus['price'], y = CA_produit_plus['id_prod'])\n",
    "plt.title(\"Chiffre d'affaire des 10 premiers produits\")\n",
    "plt.xlabel(\"Chiffre d'affaire\")\n",
    "plt.ylabel(\"Liste des produits\")\n",
    "#j'inverse l'axe y pour avoir les valeurs plus élevées en premier.\n",
    "plt.gca().invert_yaxis()\n",
    "plt.show()"
   ]
  },
  {
   "cell_type": "code",
   "execution_count": 44,
   "id": "fd14b9ef",
   "metadata": {},
   "outputs": [
    {
     "data": {
      "text/html": [
       "<div>\n",
       "<style scoped>\n",
       "    .dataframe tbody tr th:only-of-type {\n",
       "        vertical-align: middle;\n",
       "    }\n",
       "\n",
       "    .dataframe tbody tr th {\n",
       "        vertical-align: top;\n",
       "    }\n",
       "\n",
       "    .dataframe thead th {\n",
       "        text-align: right;\n",
       "    }\n",
       "</style>\n",
       "<table border=\"1\" class=\"dataframe\">\n",
       "  <thead>\n",
       "    <tr style=\"text-align: right;\">\n",
       "      <th></th>\n",
       "      <th>id_prod</th>\n",
       "      <th>price</th>\n",
       "    </tr>\n",
       "  </thead>\n",
       "  <tbody>\n",
       "    <tr>\n",
       "      <th>595</th>\n",
       "      <td>0_1539</td>\n",
       "      <td>0.99</td>\n",
       "    </tr>\n",
       "    <tr>\n",
       "      <th>313</th>\n",
       "      <td>0_1284</td>\n",
       "      <td>1.38</td>\n",
       "    </tr>\n",
       "    <tr>\n",
       "      <th>719</th>\n",
       "      <td>0_1653</td>\n",
       "      <td>1.98</td>\n",
       "    </tr>\n",
       "    <tr>\n",
       "      <th>1785</th>\n",
       "      <td>0_541</td>\n",
       "      <td>1.99</td>\n",
       "    </tr>\n",
       "    <tr>\n",
       "      <th>2080</th>\n",
       "      <td>0_807</td>\n",
       "      <td>1.99</td>\n",
       "    </tr>\n",
       "    <tr>\n",
       "      <th>665</th>\n",
       "      <td>0_1601</td>\n",
       "      <td>1.99</td>\n",
       "    </tr>\n",
       "    <tr>\n",
       "      <th>802</th>\n",
       "      <td>0_1728</td>\n",
       "      <td>2.27</td>\n",
       "    </tr>\n",
       "    <tr>\n",
       "      <th>549</th>\n",
       "      <td>0_1498</td>\n",
       "      <td>2.48</td>\n",
       "    </tr>\n",
       "    <tr>\n",
       "      <th>2180</th>\n",
       "      <td>0_898</td>\n",
       "      <td>2.54</td>\n",
       "    </tr>\n",
       "    <tr>\n",
       "      <th>925</th>\n",
       "      <td>0_1840</td>\n",
       "      <td>2.56</td>\n",
       "    </tr>\n",
       "  </tbody>\n",
       "</table>\n",
       "</div>"
      ],
      "text/plain": [
       "     id_prod  price\n",
       "595   0_1539   0.99\n",
       "313   0_1284   1.38\n",
       "719   0_1653   1.98\n",
       "1785   0_541   1.99\n",
       "2080   0_807   1.99\n",
       "665   0_1601   1.99\n",
       "802   0_1728   2.27\n",
       "549   0_1498   2.48\n",
       "2180   0_898   2.54\n",
       "925   0_1840   2.56"
      ]
     },
     "execution_count": 44,
     "metadata": {},
     "output_type": "execute_result"
    }
   ],
   "source": [
    "CA_produit_moins = CA_produit.sort_values('price', ascending=True).head(10)\n",
    "CA_produit_moins"
   ]
  },
  {
   "cell_type": "code",
   "execution_count": 45,
   "id": "cd88bee6",
   "metadata": {},
   "outputs": [
    {
     "data": {
      "image/png": "[encoded data removed]",
      "text/plain": [
       "<Figure size 432x288 with 1 Axes>"
      ]
     },
     "metadata": {},
     "output_type": "display_data"
    }
   ],
   "source": [
    "plt.barh(width = CA_produit_moins['price'], y = CA_produit_moins['id_prod'])\n",
    "plt.title(\"Chiffre d'affaire des 10 derniers produits\")\n",
    "plt.xlabel(\"Chiffre d'affaire\")\n",
    "plt.ylabel(\"Liste des produits\")\n",
    "plt.show()"
   ]
  },
  {
   "cell_type": "markdown",
   "id": "2330e988",
   "metadata": {},
   "source": [
    "Je regarde maintenant la répartition du chiffre d'affaire entre les références. Ici nous remarquons que 80% environ des produits ne rapportent que 20% du chiffre d'affaire et inversement. Cette répartition inégalitaire est confirmée par un coefficient de Gini éloigné de 0 (0,74)."
   ]
  },
  {
   "cell_type": "code",
   "execution_count": 46,
   "id": "7b0f4362",
   "metadata": {},
   "outputs": [
    {
     "data": {
      "image/png": "[encoded data removed]",
      "text/plain": [
       "<Figure size 432x288 with 1 Axes>"
      ]
     },
     "metadata": {},
     "output_type": "display_data"
    }
   ],
   "source": [
    "ca_reference = CA_produit['price'].values\n",
    "n = len(ca_reference)\n",
    "lorenz = np.cumsum(np.sort(ca_reference)) / ca_reference.sum()\n",
    "lorenz = np.append([0],lorenz) # La courbe de Lorenz commence à 0\n",
    "\n",
    "xaxis = np.linspace(0-1/n,1+1/n,n+1) #Il y a un segment de taille n pour chaque individu, plus 1 segment supplémentaire d'ordonnée 0. Le premier segment commence à 0-1/n, et le dernier termine à 1+1/n.\n",
    "plt.plot([0, 1]) #Tracer de la première bissectrice\n",
    "plt.plot(xaxis,lorenz,drawstyle='steps-post')\n",
    "plt.show()"
   ]
  },
  {
   "cell_type": "code",
   "execution_count": 47,
   "id": "e419b6f8",
   "metadata": {},
   "outputs": [
    {
     "data": {
      "text/plain": [
       "0.7428266007857867"
      ]
     },
     "execution_count": 47,
     "metadata": {},
     "output_type": "execute_result"
    }
   ],
   "source": [
    "AUC = (lorenz.sum() -lorenz[-1]/2 -lorenz[0]/2)/n # Surface sous la courbe de Lorenz. Le premier segment (lorenz[0]) est à moitié en dessous de 0, on le coupe donc en 2, on fait de même pour le dernier segment lorenz[-1] qui est à moitié au dessus de 1.\n",
    "S = 0.5 - AUC # surface entre la première bissectrice et le courbe de Lorenz\n",
    "gini = 2*S\n",
    "gini"
   ]
  },
  {
   "cell_type": "markdown",
   "id": "be428ed4",
   "metadata": {},
   "source": [
    "Je m'intéresse maintenant à la répartion du chiffre d'affaire par catégorie. Les catégories 0 et 1 sont celles qui semblent le plus contribué au CA total."
   ]
  },
  {
   "cell_type": "code",
   "execution_count": 48,
   "id": "ad92d63e",
   "metadata": {},
   "outputs": [
    {
     "data": {
      "text/html": [
       "<div>\n",
       "<style scoped>\n",
       "    .dataframe tbody tr th:only-of-type {\n",
       "        vertical-align: middle;\n",
       "    }\n",
       "\n",
       "    .dataframe tbody tr th {\n",
       "        vertical-align: top;\n",
       "    }\n",
       "\n",
       "    .dataframe thead th {\n",
       "        text-align: right;\n",
       "    }\n",
       "</style>\n",
       "<table border=\"1\" class=\"dataframe\">\n",
       "  <thead>\n",
       "    <tr style=\"text-align: right;\">\n",
       "      <th></th>\n",
       "      <th>categ</th>\n",
       "      <th>price</th>\n",
       "    </tr>\n",
       "  </thead>\n",
       "  <tbody>\n",
       "    <tr>\n",
       "      <th>0</th>\n",
       "      <td>0.0</td>\n",
       "      <td>4422323.30</td>\n",
       "    </tr>\n",
       "    <tr>\n",
       "      <th>1</th>\n",
       "      <td>1.0</td>\n",
       "      <td>4653722.69</td>\n",
       "    </tr>\n",
       "    <tr>\n",
       "      <th>2</th>\n",
       "      <td>2.0</td>\n",
       "      <td>2780275.02</td>\n",
       "    </tr>\n",
       "  </tbody>\n",
       "</table>\n",
       "</div>"
      ],
      "text/plain": [
       "   categ       price\n",
       "0    0.0  4422323.30\n",
       "1    1.0  4653722.69\n",
       "2    2.0  2780275.02"
      ]
     },
     "execution_count": 48,
     "metadata": {},
     "output_type": "execute_result"
    }
   ],
   "source": [
    "CA_produit_categ = fichier_final[['price', 'categ']].groupby('categ').sum().reset_index()\n",
    "CA_produit_categ"
   ]
  },
  {
   "cell_type": "code",
   "execution_count": 49,
   "id": "ecf12a8d",
   "metadata": {},
   "outputs": [
    {
     "name": "stdout",
     "output_type": "stream",
     "text": [
      "<class 'pandas.core.frame.DataFrame'>\n",
      "RangeIndex: 3 entries, 0 to 2\n",
      "Data columns (total 2 columns):\n",
      " #   Column  Non-Null Count  Dtype  \n",
      "---  ------  --------------  -----  \n",
      " 0   categ   3 non-null      float64\n",
      " 1   price   3 non-null      float64\n",
      "dtypes: float64(2)\n",
      "memory usage: 176.0 bytes\n"
     ]
    }
   ],
   "source": [
    "CA_produit_categ.info()"
   ]
  },
  {
   "cell_type": "code",
   "execution_count": 50,
   "id": "f8e19d1d",
   "metadata": {},
   "outputs": [
    {
     "name": "stdout",
     "output_type": "stream",
     "text": [
      "<class 'pandas.core.frame.DataFrame'>\n",
      "RangeIndex: 3 entries, 0 to 2\n",
      "Data columns (total 2 columns):\n",
      " #   Column  Non-Null Count  Dtype   \n",
      "---  ------  --------------  -----   \n",
      " 0   categ   3 non-null      category\n",
      " 1   price   3 non-null      float64 \n",
      "dtypes: category(1), float64(1)\n",
      "memory usage: 287.0 bytes\n"
     ]
    }
   ],
   "source": [
    "CA_produit_categ['categ'] = CA_produit_categ['categ'].astype('category')\n",
    "CA_produit_categ.info()"
   ]
  },
  {
   "cell_type": "code",
   "execution_count": 51,
   "id": "93d3d244",
   "metadata": {},
   "outputs": [
    {
     "data": {
      "text/plain": [
       "<function matplotlib.pyplot.show(close=None, block=None)>"
      ]
     },
     "execution_count": 51,
     "metadata": {},
     "output_type": "execute_result"
    },
    {
     "data": {
      "image/png": "[encoded data removed]",
      "text/plain": [
       "<Figure size 432x288 with 1 Axes>"
      ]
     },
     "metadata": {},
     "output_type": "display_data"
    }
   ],
   "source": [
    "sns.barplot(\n",
    "    y=\"price\", \n",
    "    x=\"categ\", \n",
    "    data=CA_produit_categ)\n",
    "plt.xlabel(\"Catégorie\")\n",
    "plt.ylabel(\"Chiffre d'affaire\")\n",
    "plt.title(\"Chiffre d'affaire par catégorie\")\n",
    "plt.show"
   ]
  },
  {
   "cell_type": "markdown",
   "id": "d678a9d4",
   "metadata": {},
   "source": [
    "Je regarde cette fois la répartition du chiffre d'affaire entre les clients. Ici nous remarquons que 60% environ des clients ne rapportent qu'un peu moins de 30% du chiffre d'affaire et inversement. Cette répartition peu égalitaire est confirmée par un coefficient de Gini éloigné de 0 (0,45)."
   ]
  },
  {
   "cell_type": "code",
   "execution_count": 52,
   "id": "dc9219e8",
   "metadata": {},
   "outputs": [
    {
     "data": {
      "text/html": [
       "<div>\n",
       "<style scoped>\n",
       "    .dataframe tbody tr th:only-of-type {\n",
       "        vertical-align: middle;\n",
       "    }\n",
       "\n",
       "    .dataframe tbody tr th {\n",
       "        vertical-align: top;\n",
       "    }\n",
       "\n",
       "    .dataframe thead th {\n",
       "        text-align: right;\n",
       "    }\n",
       "</style>\n",
       "<table border=\"1\" class=\"dataframe\">\n",
       "  <thead>\n",
       "    <tr style=\"text-align: right;\">\n",
       "      <th></th>\n",
       "      <th>client_id</th>\n",
       "      <th>price</th>\n",
       "    </tr>\n",
       "  </thead>\n",
       "  <tbody>\n",
       "    <tr>\n",
       "      <th>0</th>\n",
       "      <td>c_1</td>\n",
       "      <td>558.18</td>\n",
       "    </tr>\n",
       "    <tr>\n",
       "      <th>1</th>\n",
       "      <td>c_10</td>\n",
       "      <td>1353.60</td>\n",
       "    </tr>\n",
       "    <tr>\n",
       "      <th>2</th>\n",
       "      <td>c_100</td>\n",
       "      <td>254.85</td>\n",
       "    </tr>\n",
       "    <tr>\n",
       "      <th>3</th>\n",
       "      <td>c_1000</td>\n",
       "      <td>2261.89</td>\n",
       "    </tr>\n",
       "    <tr>\n",
       "      <th>4</th>\n",
       "      <td>c_1001</td>\n",
       "      <td>1812.86</td>\n",
       "    </tr>\n",
       "    <tr>\n",
       "      <th>...</th>\n",
       "      <td>...</td>\n",
       "      <td>...</td>\n",
       "    </tr>\n",
       "    <tr>\n",
       "      <th>8595</th>\n",
       "      <td>c_995</td>\n",
       "      <td>189.41</td>\n",
       "    </tr>\n",
       "    <tr>\n",
       "      <th>8596</th>\n",
       "      <td>c_996</td>\n",
       "      <td>1625.58</td>\n",
       "    </tr>\n",
       "    <tr>\n",
       "      <th>8597</th>\n",
       "      <td>c_997</td>\n",
       "      <td>1490.01</td>\n",
       "    </tr>\n",
       "    <tr>\n",
       "      <th>8598</th>\n",
       "      <td>c_998</td>\n",
       "      <td>2779.88</td>\n",
       "    </tr>\n",
       "    <tr>\n",
       "      <th>8599</th>\n",
       "      <td>c_999</td>\n",
       "      <td>701.40</td>\n",
       "    </tr>\n",
       "  </tbody>\n",
       "</table>\n",
       "<p>8600 rows × 2 columns</p>\n",
       "</div>"
      ],
      "text/plain": [
       "     client_id    price\n",
       "0          c_1   558.18\n",
       "1         c_10  1353.60\n",
       "2        c_100   254.85\n",
       "3       c_1000  2261.89\n",
       "4       c_1001  1812.86\n",
       "...        ...      ...\n",
       "8595     c_995   189.41\n",
       "8596     c_996  1625.58\n",
       "8597     c_997  1490.01\n",
       "8598     c_998  2779.88\n",
       "8599     c_999   701.40\n",
       "\n",
       "[8600 rows x 2 columns]"
      ]
     },
     "execution_count": 52,
     "metadata": {},
     "output_type": "execute_result"
    }
   ],
   "source": [
    "CA_client = fichier_final[['client_id', 'price']].groupby('client_id').sum().reset_index()\n",
    "CA_client"
   ]
  },
  {
   "cell_type": "code",
   "execution_count": 53,
   "id": "79428a47",
   "metadata": {},
   "outputs": [
    {
     "data": {
      "image/png": "[encoded data removed]",
      "text/plain": [
       "<Figure size 432x288 with 1 Axes>"
      ]
     },
     "metadata": {},
     "output_type": "display_data"
    }
   ],
   "source": [
    "dep = CA_client['price'].values\n",
    "n = len(dep)\n",
    "lorenz2 = np.cumsum(np.sort(dep)) / dep.sum()\n",
    "lorenz2 = np.append([0],lorenz2) # La courbe de Lorenz commence à 0\n",
    "\n",
    "xaxis = np.linspace(0-1/n,1+1/n,n+1) #Il y a un segment de taille n pour chaque individu, plus 1 segment supplémentaire d'ordonnée 0. Le premier segment commence à 0-1/n, et le dernier termine à 1+1/n.\n",
    "plt.plot([0, 1]) #Tracer de la première bissectrice\n",
    "plt.plot(xaxis,lorenz2,drawstyle='steps-post')\n",
    "plt.show()"
   ]
  },
  {
   "cell_type": "code",
   "execution_count": 54,
   "id": "821fa68c",
   "metadata": {},
   "outputs": [
    {
     "data": {
      "text/plain": [
       "0.44639658571467455"
      ]
     },
     "execution_count": 54,
     "metadata": {},
     "output_type": "execute_result"
    }
   ],
   "source": [
    "AUC = (lorenz2.sum() -lorenz2[-1]/2 -lorenz2[0]/2)/n # Surface sous la courbe de Lorenz. Le premier segment (lorenz[0]) est à moitié en dessous de 0, on le coupe donc en 2, on fait de même pour le dernier segment lorenz[-1] qui est à moitié au dessus de 1.\n",
    "S = 0.5 - AUC # surface entre la première bissectrice et le courbe de Lorenz\n",
    "gini2 = 2*S\n",
    "gini2"
   ]
  },
  {
   "cell_type": "markdown",
   "id": "14f127d9",
   "metadata": {},
   "source": [
    "## Partie 3 - Analyse plus ciblée sur les clients"
   ]
  },
  {
   "cell_type": "markdown",
   "id": "5cb37df4",
   "metadata": {},
   "source": [
    "Pour cette partie sur l'analyse des clients, je vais rajouter des variables au dataframe :\n",
    "* le nombre de ventes total par client sur deux années entières\n",
    "* le nombre de produits achetés par client chaque mois (la fréquence d'achats)\n",
    "* la taille du panier moyen pour chaque client\n",
    "* le chiffre d'affaires total par client sur les deux années"
   ]
  },
  {
   "cell_type": "code",
   "execution_count": 55,
   "id": "4cf5c25e",
   "metadata": {},
   "outputs": [
    {
     "data": {
      "text/html": [
       "<div>\n",
       "<style scoped>\n",
       "    .dataframe tbody tr th:only-of-type {\n",
       "        vertical-align: middle;\n",
       "    }\n",
       "\n",
       "    .dataframe tbody tr th {\n",
       "        vertical-align: top;\n",
       "    }\n",
       "\n",
       "    .dataframe thead th {\n",
       "        text-align: right;\n",
       "    }\n",
       "</style>\n",
       "<table border=\"1\" class=\"dataframe\">\n",
       "  <thead>\n",
       "    <tr style=\"text-align: right;\">\n",
       "      <th></th>\n",
       "      <th>id_prod</th>\n",
       "      <th>date</th>\n",
       "      <th>session_id</th>\n",
       "      <th>client_id</th>\n",
       "      <th>sex</th>\n",
       "      <th>birth</th>\n",
       "      <th>price</th>\n",
       "      <th>categ</th>\n",
       "      <th>date_fixe</th>\n",
       "    </tr>\n",
       "  </thead>\n",
       "  <tbody>\n",
       "    <tr>\n",
       "      <th>0</th>\n",
       "      <td>0_1518</td>\n",
       "      <td>2022-05-20 13:21:29.043970</td>\n",
       "      <td>s_211425</td>\n",
       "      <td>c_103</td>\n",
       "      <td>f</td>\n",
       "      <td>1986.0</td>\n",
       "      <td>4.18</td>\n",
       "      <td>0.0</td>\n",
       "      <td>2022-05-20</td>\n",
       "    </tr>\n",
       "    <tr>\n",
       "      <th>1</th>\n",
       "      <td>0_1518</td>\n",
       "      <td>2021-07-20 13:21:29.043970</td>\n",
       "      <td>s_64849</td>\n",
       "      <td>c_103</td>\n",
       "      <td>f</td>\n",
       "      <td>1986.0</td>\n",
       "      <td>4.18</td>\n",
       "      <td>0.0</td>\n",
       "      <td>2021-07-20</td>\n",
       "    </tr>\n",
       "    <tr>\n",
       "      <th>2</th>\n",
       "      <td>0_1518</td>\n",
       "      <td>2022-08-20 13:21:29.043970</td>\n",
       "      <td>s_255965</td>\n",
       "      <td>c_103</td>\n",
       "      <td>f</td>\n",
       "      <td>1986.0</td>\n",
       "      <td>4.18</td>\n",
       "      <td>0.0</td>\n",
       "      <td>2022-08-20</td>\n",
       "    </tr>\n",
       "    <tr>\n",
       "      <th>3</th>\n",
       "      <td>0_1518</td>\n",
       "      <td>2021-05-09 11:52:55.100386</td>\n",
       "      <td>s_32104</td>\n",
       "      <td>c_6714</td>\n",
       "      <td>f</td>\n",
       "      <td>1968.0</td>\n",
       "      <td>4.18</td>\n",
       "      <td>0.0</td>\n",
       "      <td>2021-05-09</td>\n",
       "    </tr>\n",
       "    <tr>\n",
       "      <th>4</th>\n",
       "      <td>0_1518</td>\n",
       "      <td>2022-05-30 01:17:07.487046</td>\n",
       "      <td>s_216118</td>\n",
       "      <td>c_6714</td>\n",
       "      <td>f</td>\n",
       "      <td>1968.0</td>\n",
       "      <td>4.18</td>\n",
       "      <td>0.0</td>\n",
       "      <td>2022-05-30</td>\n",
       "    </tr>\n",
       "  </tbody>\n",
       "</table>\n",
       "</div>"
      ],
      "text/plain": [
       "  id_prod                       date session_id client_id sex   birth  price  \\\n",
       "0  0_1518 2022-05-20 13:21:29.043970   s_211425     c_103   f  1986.0   4.18   \n",
       "1  0_1518 2021-07-20 13:21:29.043970    s_64849     c_103   f  1986.0   4.18   \n",
       "2  0_1518 2022-08-20 13:21:29.043970   s_255965     c_103   f  1986.0   4.18   \n",
       "3  0_1518 2021-05-09 11:52:55.100386    s_32104    c_6714   f  1968.0   4.18   \n",
       "4  0_1518 2022-05-30 01:17:07.487046   s_216118    c_6714   f  1968.0   4.18   \n",
       "\n",
       "   categ   date_fixe  \n",
       "0    0.0  2022-05-20  \n",
       "1    0.0  2021-07-20  \n",
       "2    0.0  2022-08-20  \n",
       "3    0.0  2021-05-09  \n",
       "4    0.0  2022-05-30  "
      ]
     },
     "execution_count": 55,
     "metadata": {},
     "output_type": "execute_result"
    }
   ],
   "source": [
    "fichier_final['date_fixe'] = fichier_final['date'].dt.date # Variable temporaire de date fixe (jour)\n",
    "fichier_final.head()"
   ]
  },
  {
   "cell_type": "code",
   "execution_count": 56,
   "id": "f53d4945",
   "metadata": {},
   "outputs": [
    {
     "data": {
      "text/html": [
       "<div>\n",
       "<style scoped>\n",
       "    .dataframe tbody tr th:only-of-type {\n",
       "        vertical-align: middle;\n",
       "    }\n",
       "\n",
       "    .dataframe tbody tr th {\n",
       "        vertical-align: top;\n",
       "    }\n",
       "\n",
       "    .dataframe thead th {\n",
       "        text-align: right;\n",
       "    }\n",
       "</style>\n",
       "<table border=\"1\" class=\"dataframe\">\n",
       "  <thead>\n",
       "    <tr style=\"text-align: right;\">\n",
       "      <th></th>\n",
       "      <th>id_prod</th>\n",
       "      <th>date</th>\n",
       "      <th>session_id</th>\n",
       "      <th>client_id</th>\n",
       "      <th>sex</th>\n",
       "      <th>birth</th>\n",
       "      <th>price</th>\n",
       "      <th>categ</th>\n",
       "      <th>date_fixe</th>\n",
       "      <th>total_ventes</th>\n",
       "    </tr>\n",
       "  </thead>\n",
       "  <tbody>\n",
       "    <tr>\n",
       "      <th>537236</th>\n",
       "      <td>1_579</td>\n",
       "      <td>2021-12-06 23:13:42.916255</td>\n",
       "      <td>s_130498</td>\n",
       "      <td>c_91</td>\n",
       "      <td>m</td>\n",
       "      <td>1971.0</td>\n",
       "      <td>23.99</td>\n",
       "      <td>1.0</td>\n",
       "      <td>2021-12-06</td>\n",
       "      <td>83</td>\n",
       "    </tr>\n",
       "    <tr>\n",
       "      <th>67099</th>\n",
       "      <td>0_1358</td>\n",
       "      <td>2022-03-11 04:25:07.706273</td>\n",
       "      <td>s_177463</td>\n",
       "      <td>c_6358</td>\n",
       "      <td>m</td>\n",
       "      <td>1976.0</td>\n",
       "      <td>16.49</td>\n",
       "      <td>0.0</td>\n",
       "      <td>2022-03-11</td>\n",
       "      <td>243</td>\n",
       "    </tr>\n",
       "    <tr>\n",
       "      <th>372495</th>\n",
       "      <td>0_1461</td>\n",
       "      <td>2021-03-22 17:53:56.137052</td>\n",
       "      <td>s_10004</td>\n",
       "      <td>c_3469</td>\n",
       "      <td>m</td>\n",
       "      <td>1953.0</td>\n",
       "      <td>11.99</td>\n",
       "      <td>0.0</td>\n",
       "      <td>2021-03-22</td>\n",
       "      <td>18</td>\n",
       "    </tr>\n",
       "  </tbody>\n",
       "</table>\n",
       "</div>"
      ],
      "text/plain": [
       "       id_prod                       date session_id client_id sex   birth  \\\n",
       "537236   1_579 2021-12-06 23:13:42.916255   s_130498      c_91   m  1971.0   \n",
       "67099   0_1358 2022-03-11 04:25:07.706273   s_177463    c_6358   m  1976.0   \n",
       "372495  0_1461 2021-03-22 17:53:56.137052    s_10004    c_3469   m  1953.0   \n",
       "\n",
       "        price  categ   date_fixe  total_ventes  \n",
       "537236  23.99    1.0  2021-12-06            83  \n",
       "67099   16.49    0.0  2022-03-11           243  \n",
       "372495  11.99    0.0  2021-03-22            18  "
      ]
     },
     "execution_count": 56,
     "metadata": {},
     "output_type": "execute_result"
    }
   ],
   "source": [
    "df_client = fichier_final.merge(\n",
    "    fichier_final.groupby('client_id').count()['date'].reset_index().rename(columns={'date': 'total_ventes'}),\n",
    "    how='left', on='client_id')\n",
    "df_client.sample(3)"
   ]
  },
  {
   "cell_type": "code",
   "execution_count": 57,
   "id": "9d1809b5",
   "metadata": {},
   "outputs": [
    {
     "data": {
      "text/html": [
       "<div>\n",
       "<style scoped>\n",
       "    .dataframe tbody tr th:only-of-type {\n",
       "        vertical-align: middle;\n",
       "    }\n",
       "\n",
       "    .dataframe tbody tr th {\n",
       "        vertical-align: top;\n",
       "    }\n",
       "\n",
       "    .dataframe thead th {\n",
       "        text-align: right;\n",
       "    }\n",
       "</style>\n",
       "<table border=\"1\" class=\"dataframe\">\n",
       "  <thead>\n",
       "    <tr style=\"text-align: right;\">\n",
       "      <th></th>\n",
       "      <th>id_prod</th>\n",
       "      <th>date</th>\n",
       "      <th>session_id</th>\n",
       "      <th>client_id</th>\n",
       "      <th>sex</th>\n",
       "      <th>birth</th>\n",
       "      <th>price</th>\n",
       "      <th>categ</th>\n",
       "      <th>date_fixe</th>\n",
       "      <th>total_ventes</th>\n",
       "      <th>ventes_mensuelles</th>\n",
       "    </tr>\n",
       "  </thead>\n",
       "  <tbody>\n",
       "    <tr>\n",
       "      <th>137238</th>\n",
       "      <td>0_1113</td>\n",
       "      <td>2022-05-31 03:06:11.318434</td>\n",
       "      <td>s_216640</td>\n",
       "      <td>c_1486</td>\n",
       "      <td>m</td>\n",
       "      <td>1974.0</td>\n",
       "      <td>16.99</td>\n",
       "      <td>0.0</td>\n",
       "      <td>2022-05-31</td>\n",
       "      <td>148</td>\n",
       "      <td>6.0</td>\n",
       "    </tr>\n",
       "    <tr>\n",
       "      <th>120366</th>\n",
       "      <td>0_1548</td>\n",
       "      <td>2022-11-09 19:44:59.393906</td>\n",
       "      <td>s_295217</td>\n",
       "      <td>c_5993</td>\n",
       "      <td>f</td>\n",
       "      <td>1984.0</td>\n",
       "      <td>9.66</td>\n",
       "      <td>0.0</td>\n",
       "      <td>2022-11-09</td>\n",
       "      <td>306</td>\n",
       "      <td>13.0</td>\n",
       "    </tr>\n",
       "    <tr>\n",
       "      <th>380165</th>\n",
       "      <td>1_433</td>\n",
       "      <td>2021-11-16 04:33:18.702959</td>\n",
       "      <td>s_120325</td>\n",
       "      <td>c_5589</td>\n",
       "      <td>f</td>\n",
       "      <td>2002.0</td>\n",
       "      <td>18.99</td>\n",
       "      <td>1.0</td>\n",
       "      <td>2021-11-16</td>\n",
       "      <td>45</td>\n",
       "      <td>2.0</td>\n",
       "    </tr>\n",
       "  </tbody>\n",
       "</table>\n",
       "</div>"
      ],
      "text/plain": [
       "       id_prod                       date session_id client_id sex   birth  \\\n",
       "137238  0_1113 2022-05-31 03:06:11.318434   s_216640    c_1486   m  1974.0   \n",
       "120366  0_1548 2022-11-09 19:44:59.393906   s_295217    c_5993   f  1984.0   \n",
       "380165   1_433 2021-11-16 04:33:18.702959   s_120325    c_5589   f  2002.0   \n",
       "\n",
       "        price  categ   date_fixe  total_ventes  ventes_mensuelles  \n",
       "137238  16.99    0.0  2022-05-31           148                6.0  \n",
       "120366   9.66    0.0  2022-11-09           306               13.0  \n",
       "380165  18.99    1.0  2021-11-16            45                2.0  "
      ]
     },
     "execution_count": 57,
     "metadata": {},
     "output_type": "execute_result"
    }
   ],
   "source": [
    "df_client['ventes_mensuelles'] = round(df_client['total_ventes'] / 24)\n",
    "df_client.sample(3)"
   ]
  },
  {
   "cell_type": "code",
   "execution_count": 58,
   "id": "762110d3",
   "metadata": {},
   "outputs": [
    {
     "data": {
      "text/html": [
       "<div>\n",
       "<style scoped>\n",
       "    .dataframe tbody tr th:only-of-type {\n",
       "        vertical-align: middle;\n",
       "    }\n",
       "\n",
       "    .dataframe tbody tr th {\n",
       "        vertical-align: top;\n",
       "    }\n",
       "\n",
       "    .dataframe thead th {\n",
       "        text-align: right;\n",
       "    }\n",
       "</style>\n",
       "<table border=\"1\" class=\"dataframe\">\n",
       "  <thead>\n",
       "    <tr style=\"text-align: right;\">\n",
       "      <th></th>\n",
       "      <th>id_prod</th>\n",
       "      <th>date</th>\n",
       "      <th>session_id</th>\n",
       "      <th>client_id</th>\n",
       "      <th>sex</th>\n",
       "      <th>birth</th>\n",
       "      <th>price</th>\n",
       "      <th>categ</th>\n",
       "      <th>total_ventes</th>\n",
       "      <th>ventes_mensuelles</th>\n",
       "      <th>taille_panier_moyen</th>\n",
       "    </tr>\n",
       "  </thead>\n",
       "  <tbody>\n",
       "    <tr>\n",
       "      <th>62158</th>\n",
       "      <td>0_1441</td>\n",
       "      <td>2022-03-15 18:43:24.928318</td>\n",
       "      <td>s_179609</td>\n",
       "      <td>c_5953</td>\n",
       "      <td>m</td>\n",
       "      <td>1986.0</td>\n",
       "      <td>18.99</td>\n",
       "      <td>0.0</td>\n",
       "      <td>374</td>\n",
       "      <td>16.0</td>\n",
       "      <td>3.142857</td>\n",
       "    </tr>\n",
       "    <tr>\n",
       "      <th>219313</th>\n",
       "      <td>0_1584</td>\n",
       "      <td>2021-05-16 17:41:21.227924</td>\n",
       "      <td>s_35377</td>\n",
       "      <td>c_2586</td>\n",
       "      <td>f</td>\n",
       "      <td>1953.0</td>\n",
       "      <td>11.85</td>\n",
       "      <td>0.0</td>\n",
       "      <td>150</td>\n",
       "      <td>6.0</td>\n",
       "      <td>1.470588</td>\n",
       "    </tr>\n",
       "    <tr>\n",
       "      <th>446060</th>\n",
       "      <td>0_1042</td>\n",
       "      <td>2021-03-30 20:06:56.060008</td>\n",
       "      <td>s_13667</td>\n",
       "      <td>c_1609</td>\n",
       "      <td>m</td>\n",
       "      <td>1980.0</td>\n",
       "      <td>18.53</td>\n",
       "      <td>0.0</td>\n",
       "      <td>25488</td>\n",
       "      <td>1062.0</td>\n",
       "      <td>34.915068</td>\n",
       "    </tr>\n",
       "  </tbody>\n",
       "</table>\n",
       "</div>"
      ],
      "text/plain": [
       "       id_prod                       date session_id client_id sex   birth  \\\n",
       "62158   0_1441 2022-03-15 18:43:24.928318   s_179609    c_5953   m  1986.0   \n",
       "219313  0_1584 2021-05-16 17:41:21.227924    s_35377    c_2586   f  1953.0   \n",
       "446060  0_1042 2021-03-30 20:06:56.060008    s_13667    c_1609   m  1980.0   \n",
       "\n",
       "        price  categ  total_ventes  ventes_mensuelles  taille_panier_moyen  \n",
       "62158   18.99    0.0           374               16.0             3.142857  \n",
       "219313  11.85    0.0           150                6.0             1.470588  \n",
       "446060  18.53    0.0         25488             1062.0            34.915068  "
      ]
     },
     "execution_count": 58,
     "metadata": {},
     "output_type": "execute_result"
    }
   ],
   "source": [
    "df_client = df_client.merge(\n",
    "    df_client.pivot_table(\n",
    "        index=['client_id', 'date_fixe'], \n",
    "        values='price', \n",
    "        aggfunc='count').reset_index().pivot_table(\n",
    "        index='client_id').reset_index().rename(\n",
    "        columns={'price': 'taille_panier_moyen'}), \n",
    "    on='client_id', how='left').drop('date_fixe', axis=1)\n",
    "df_client.sample(3)"
   ]
  },
  {
   "cell_type": "code",
   "execution_count": 59,
   "id": "36879340",
   "metadata": {
    "scrolled": false
   },
   "outputs": [
    {
     "data": {
      "text/html": [
       "<div>\n",
       "<style scoped>\n",
       "    .dataframe tbody tr th:only-of-type {\n",
       "        vertical-align: middle;\n",
       "    }\n",
       "\n",
       "    .dataframe tbody tr th {\n",
       "        vertical-align: top;\n",
       "    }\n",
       "\n",
       "    .dataframe thead th {\n",
       "        text-align: right;\n",
       "    }\n",
       "</style>\n",
       "<table border=\"1\" class=\"dataframe\">\n",
       "  <thead>\n",
       "    <tr style=\"text-align: right;\">\n",
       "      <th></th>\n",
       "      <th>id_prod</th>\n",
       "      <th>date</th>\n",
       "      <th>session_id</th>\n",
       "      <th>client_id</th>\n",
       "      <th>sex</th>\n",
       "      <th>birth</th>\n",
       "      <th>price</th>\n",
       "      <th>categ</th>\n",
       "      <th>total_ventes</th>\n",
       "      <th>ventes_mensuelles</th>\n",
       "      <th>taille_panier_moyen</th>\n",
       "      <th>total_achats</th>\n",
       "    </tr>\n",
       "  </thead>\n",
       "  <tbody>\n",
       "    <tr>\n",
       "      <th>138575</th>\n",
       "      <td>0_1473</td>\n",
       "      <td>2022-07-19 13:11:11.369443</td>\n",
       "      <td>s_240624</td>\n",
       "      <td>c_6566</td>\n",
       "      <td>f</td>\n",
       "      <td>1982.0</td>\n",
       "      <td>15.99</td>\n",
       "      <td>0.0</td>\n",
       "      <td>76</td>\n",
       "      <td>3.0</td>\n",
       "      <td>3.454545</td>\n",
       "      <td>1423.19</td>\n",
       "    </tr>\n",
       "    <tr>\n",
       "      <th>295367</th>\n",
       "      <td>0_1472</td>\n",
       "      <td>2021-09-27 11:33:41.327919</td>\n",
       "      <td>s_96316</td>\n",
       "      <td>c_2300</td>\n",
       "      <td>m</td>\n",
       "      <td>1983.0</td>\n",
       "      <td>12.49</td>\n",
       "      <td>0.0</td>\n",
       "      <td>81</td>\n",
       "      <td>3.0</td>\n",
       "      <td>2.892857</td>\n",
       "      <td>977.70</td>\n",
       "    </tr>\n",
       "    <tr>\n",
       "      <th>90836</th>\n",
       "      <td>0_1431</td>\n",
       "      <td>2022-03-10 02:03:47.759995</td>\n",
       "      <td>s_176945</td>\n",
       "      <td>c_4826</td>\n",
       "      <td>f</td>\n",
       "      <td>1972.0</td>\n",
       "      <td>10.99</td>\n",
       "      <td>0.0</td>\n",
       "      <td>226</td>\n",
       "      <td>9.0</td>\n",
       "      <td>2.973684</td>\n",
       "      <td>2829.98</td>\n",
       "    </tr>\n",
       "  </tbody>\n",
       "</table>\n",
       "</div>"
      ],
      "text/plain": [
       "       id_prod                       date session_id client_id sex   birth  \\\n",
       "138575  0_1473 2022-07-19 13:11:11.369443   s_240624    c_6566   f  1982.0   \n",
       "295367  0_1472 2021-09-27 11:33:41.327919    s_96316    c_2300   m  1983.0   \n",
       "90836   0_1431 2022-03-10 02:03:47.759995   s_176945    c_4826   f  1972.0   \n",
       "\n",
       "        price  categ  total_ventes  ventes_mensuelles  taille_panier_moyen  \\\n",
       "138575  15.99    0.0            76                3.0             3.454545   \n",
       "295367  12.49    0.0            81                3.0             2.892857   \n",
       "90836   10.99    0.0           226                9.0             2.973684   \n",
       "\n",
       "        total_achats  \n",
       "138575       1423.19  \n",
       "295367        977.70  \n",
       "90836        2829.98  "
      ]
     },
     "execution_count": 59,
     "metadata": {},
     "output_type": "execute_result"
    }
   ],
   "source": [
    "df_client = df_client.merge(\n",
    "    df_client.pivot_table(\n",
    "    index='client_id', values='price', \n",
    "    aggfunc='sum').reset_index().rename(\n",
    "    columns={'price': 'total_achats'}),\n",
    "    on='client_id', how='left')\n",
    "df_client.sample(3)"
   ]
  },
  {
   "cell_type": "code",
   "execution_count": 60,
   "id": "c7f6e0b3",
   "metadata": {},
   "outputs": [
    {
     "name": "stdout",
     "output_type": "stream",
     "text": [
      "<class 'pandas.core.series.Series'>\n",
      "Int64Index: 679332 entries, 0 to 679331\n",
      "Series name: birth\n",
      "Non-Null Count   Dtype\n",
      "--------------   -----\n",
      "679332 non-null  int64\n",
      "dtypes: int64(1)\n",
      "memory usage: 10.4 MB\n"
     ]
    }
   ],
   "source": [
    "df_client['birth'] = df_client['birth'].astype('int')\n",
    "df_client['birth'].info()"
   ]
  },
  {
   "cell_type": "code",
   "execution_count": 61,
   "id": "14217352",
   "metadata": {
    "scrolled": true
   },
   "outputs": [
    {
     "data": {
      "text/html": [
       "<div>\n",
       "<style scoped>\n",
       "    .dataframe tbody tr th:only-of-type {\n",
       "        vertical-align: middle;\n",
       "    }\n",
       "\n",
       "    .dataframe tbody tr th {\n",
       "        vertical-align: top;\n",
       "    }\n",
       "\n",
       "    .dataframe thead th {\n",
       "        text-align: right;\n",
       "    }\n",
       "</style>\n",
       "<table border=\"1\" class=\"dataframe\">\n",
       "  <thead>\n",
       "    <tr style=\"text-align: right;\">\n",
       "      <th></th>\n",
       "      <th>id_prod</th>\n",
       "      <th>date</th>\n",
       "      <th>session_id</th>\n",
       "      <th>client_id</th>\n",
       "      <th>sex</th>\n",
       "      <th>birth</th>\n",
       "      <th>price</th>\n",
       "      <th>categ</th>\n",
       "      <th>total_ventes</th>\n",
       "      <th>ventes_mensuelles</th>\n",
       "      <th>taille_panier_moyen</th>\n",
       "      <th>total_achats</th>\n",
       "      <th>age</th>\n",
       "    </tr>\n",
       "  </thead>\n",
       "  <tbody>\n",
       "    <tr>\n",
       "      <th>446903</th>\n",
       "      <td>0_1458</td>\n",
       "      <td>2022-05-29 21:51:42.416654</td>\n",
       "      <td>s_216035</td>\n",
       "      <td>c_7460</td>\n",
       "      <td>f</td>\n",
       "      <td>1974</td>\n",
       "      <td>6.55</td>\n",
       "      <td>0.0</td>\n",
       "      <td>147</td>\n",
       "      <td>6.0</td>\n",
       "      <td>3.195652</td>\n",
       "      <td>2126.25</td>\n",
       "      <td>48</td>\n",
       "    </tr>\n",
       "    <tr>\n",
       "      <th>179887</th>\n",
       "      <td>1_488</td>\n",
       "      <td>2021-06-22 13:21:28.452475</td>\n",
       "      <td>s_52222</td>\n",
       "      <td>c_6236</td>\n",
       "      <td>f</td>\n",
       "      <td>1976</td>\n",
       "      <td>12.19</td>\n",
       "      <td>1.0</td>\n",
       "      <td>103</td>\n",
       "      <td>4.0</td>\n",
       "      <td>2.395349</td>\n",
       "      <td>1459.58</td>\n",
       "      <td>46</td>\n",
       "    </tr>\n",
       "    <tr>\n",
       "      <th>607450</th>\n",
       "      <td>0_1861</td>\n",
       "      <td>2022-01-15 11:05:01.302273</td>\n",
       "      <td>s_150155</td>\n",
       "      <td>c_4844</td>\n",
       "      <td>m</td>\n",
       "      <td>1978</td>\n",
       "      <td>10.99</td>\n",
       "      <td>0.0</td>\n",
       "      <td>167</td>\n",
       "      <td>7.0</td>\n",
       "      <td>2.569231</td>\n",
       "      <td>2151.12</td>\n",
       "      <td>44</td>\n",
       "    </tr>\n",
       "  </tbody>\n",
       "</table>\n",
       "</div>"
      ],
      "text/plain": [
       "       id_prod                       date session_id client_id sex  birth  \\\n",
       "446903  0_1458 2022-05-29 21:51:42.416654   s_216035    c_7460   f   1974   \n",
       "179887   1_488 2021-06-22 13:21:28.452475    s_52222    c_6236   f   1976   \n",
       "607450  0_1861 2022-01-15 11:05:01.302273   s_150155    c_4844   m   1978   \n",
       "\n",
       "        price  categ  total_ventes  ventes_mensuelles  taille_panier_moyen  \\\n",
       "446903   6.55    0.0           147                6.0             3.195652   \n",
       "179887  12.19    1.0           103                4.0             2.395349   \n",
       "607450  10.99    0.0           167                7.0             2.569231   \n",
       "\n",
       "        total_achats  age  \n",
       "446903       2126.25   48  \n",
       "179887       1459.58   46  \n",
       "607450       2151.12   44  "
      ]
     },
     "execution_count": 61,
     "metadata": {},
     "output_type": "execute_result"
    }
   ],
   "source": [
    "from datetime import datetime\n",
    "\n",
    "annee = datetime.now().year # Année courante\n",
    "df_client['age'] = annee - df_client['birth'] # Âge du client\n",
    "df_client.sample(3)\n"
   ]
  },
  {
   "cell_type": "code",
   "execution_count": 105,
   "id": "a7b60286",
   "metadata": {},
   "outputs": [
    {
     "data": {
      "text/plain": [
       "<function matplotlib.pyplot.show(close=None, block=None)>"
      ]
     },
     "execution_count": 105,
     "metadata": {},
     "output_type": "execute_result"
    },
    {
     "data": {
      "image/png": "[encoded data removed]",
      "text/plain": [
       "<Figure size 432x288 with 1 Axes>"
      ]
     },
     "metadata": {},
     "output_type": "display_data"
    }
   ],
   "source": [
    "plt.hist(df_client['age'])\n",
    "plt.show"
   ]
  },
  {
   "cell_type": "markdown",
   "id": "e2a57688",
   "metadata": {},
   "source": [
    "Je divise la population en trois groupe d'age :  jeunes(35 et -), adultes(36-55), aînés(56 et +)."
   ]
  },
  {
   "cell_type": "code",
   "execution_count": 63,
   "id": "d1f6c404",
   "metadata": {},
   "outputs": [
    {
     "name": "stderr",
     "output_type": "stream",
     "text": [
      "/var/folders/td/c26psjjd02d96xkgx9bsmm8m0000gn/T/ipykernel_4904/2247933977.py:3: SettingWithCopyWarning: \n",
      "A value is trying to be set on a copy of a slice from a DataFrame\n",
      "\n",
      "See the caveats in the documentation: https://pandas.pydata.org/pandas-docs/stable/user_guide/indexing.html#returning-a-view-versus-a-copy\n",
      "  df_client['classe_age'].loc[df_client[df_client['age']>=36].index] = 'Adulte'\n",
      "/var/folders/td/c26psjjd02d96xkgx9bsmm8m0000gn/T/ipykernel_4904/2247933977.py:4: SettingWithCopyWarning: \n",
      "A value is trying to be set on a copy of a slice from a DataFrame\n",
      "\n",
      "See the caveats in the documentation: https://pandas.pydata.org/pandas-docs/stable/user_guide/indexing.html#returning-a-view-versus-a-copy\n",
      "  df_client['classe_age'].loc[df_client[df_client['age']>=56].index] = 'Aîné'\n"
     ]
    },
    {
     "data": {
      "text/html": [
       "<div>\n",
       "<style scoped>\n",
       "    .dataframe tbody tr th:only-of-type {\n",
       "        vertical-align: middle;\n",
       "    }\n",
       "\n",
       "    .dataframe tbody tr th {\n",
       "        vertical-align: top;\n",
       "    }\n",
       "\n",
       "    .dataframe thead th {\n",
       "        text-align: right;\n",
       "    }\n",
       "</style>\n",
       "<table border=\"1\" class=\"dataframe\">\n",
       "  <thead>\n",
       "    <tr style=\"text-align: right;\">\n",
       "      <th></th>\n",
       "      <th>id_prod</th>\n",
       "      <th>date</th>\n",
       "      <th>session_id</th>\n",
       "      <th>client_id</th>\n",
       "      <th>sex</th>\n",
       "      <th>birth</th>\n",
       "      <th>price</th>\n",
       "      <th>categ</th>\n",
       "      <th>total_ventes</th>\n",
       "      <th>ventes_mensuelles</th>\n",
       "      <th>taille_panier_moyen</th>\n",
       "      <th>total_achats</th>\n",
       "      <th>age</th>\n",
       "      <th>classe_age</th>\n",
       "    </tr>\n",
       "  </thead>\n",
       "  <tbody>\n",
       "    <tr>\n",
       "      <th>622443</th>\n",
       "      <td>1_651</td>\n",
       "      <td>2023-02-22 06:46:53.468413</td>\n",
       "      <td>s_345188</td>\n",
       "      <td>c_6284</td>\n",
       "      <td>f</td>\n",
       "      <td>1956</td>\n",
       "      <td>18.99</td>\n",
       "      <td>1.0</td>\n",
       "      <td>81</td>\n",
       "      <td>3.0</td>\n",
       "      <td>1.350000</td>\n",
       "      <td>1337.58</td>\n",
       "      <td>66</td>\n",
       "      <td>Aîné</td>\n",
       "    </tr>\n",
       "    <tr>\n",
       "      <th>484570</th>\n",
       "      <td>0_855</td>\n",
       "      <td>2022-03-28 02:56:08.836281</td>\n",
       "      <td>s_185585</td>\n",
       "      <td>c_3766</td>\n",
       "      <td>m</td>\n",
       "      <td>1989</td>\n",
       "      <td>7.99</td>\n",
       "      <td>0.0</td>\n",
       "      <td>231</td>\n",
       "      <td>10.0</td>\n",
       "      <td>2.750000</td>\n",
       "      <td>3132.28</td>\n",
       "      <td>33</td>\n",
       "      <td>Jeune</td>\n",
       "    </tr>\n",
       "    <tr>\n",
       "      <th>245893</th>\n",
       "      <td>1_459</td>\n",
       "      <td>2021-07-16 21:57:00.438752</td>\n",
       "      <td>s_63231</td>\n",
       "      <td>c_3454</td>\n",
       "      <td>m</td>\n",
       "      <td>1969</td>\n",
       "      <td>15.99</td>\n",
       "      <td>1.0</td>\n",
       "      <td>6773</td>\n",
       "      <td>282.0</td>\n",
       "      <td>9.278082</td>\n",
       "      <td>113673.12</td>\n",
       "      <td>53</td>\n",
       "      <td>Adulte</td>\n",
       "    </tr>\n",
       "  </tbody>\n",
       "</table>\n",
       "</div>"
      ],
      "text/plain": [
       "       id_prod                       date session_id client_id sex  birth  \\\n",
       "622443   1_651 2023-02-22 06:46:53.468413   s_345188    c_6284   f   1956   \n",
       "484570   0_855 2022-03-28 02:56:08.836281   s_185585    c_3766   m   1989   \n",
       "245893   1_459 2021-07-16 21:57:00.438752    s_63231    c_3454   m   1969   \n",
       "\n",
       "        price  categ  total_ventes  ventes_mensuelles  taille_panier_moyen  \\\n",
       "622443  18.99    1.0            81                3.0             1.350000   \n",
       "484570   7.99    0.0           231               10.0             2.750000   \n",
       "245893  15.99    1.0          6773              282.0             9.278082   \n",
       "\n",
       "        total_achats  age classe_age  \n",
       "622443       1337.58   66       Aîné  \n",
       "484570       3132.28   33      Jeune  \n",
       "245893     113673.12   53     Adulte  "
      ]
     },
     "execution_count": 63,
     "metadata": {},
     "output_type": "execute_result"
    }
   ],
   "source": [
    "# Tranches d'âge\n",
    "df_client['classe_age'] = 'Jeune'\n",
    "df_client['classe_age'].loc[df_client[df_client['age']>=36].index] = 'Adulte'\n",
    "df_client['classe_age'].loc[df_client[df_client['age']>=56].index] = 'Aîné'\n",
    "df_client.sample(3)"
   ]
  },
  {
   "cell_type": "markdown",
   "id": "3927e57a",
   "metadata": {},
   "source": [
    "En regardant le chiffre d'affaire par client on remarque que 4 clients sortent du lot. Ce sont probablement des professionnels."
   ]
  },
  {
   "cell_type": "code",
   "execution_count": 78,
   "id": "a42c4902",
   "metadata": {},
   "outputs": [
    {
     "data": {
      "text/html": [
       "<div>\n",
       "<style scoped>\n",
       "    .dataframe tbody tr th:only-of-type {\n",
       "        vertical-align: middle;\n",
       "    }\n",
       "\n",
       "    .dataframe tbody tr th {\n",
       "        vertical-align: top;\n",
       "    }\n",
       "\n",
       "    .dataframe thead th {\n",
       "        text-align: right;\n",
       "    }\n",
       "</style>\n",
       "<table border=\"1\" class=\"dataframe\">\n",
       "  <thead>\n",
       "    <tr style=\"text-align: right;\">\n",
       "      <th></th>\n",
       "      <th>client_id</th>\n",
       "      <th>age</th>\n",
       "      <th>taille_panier_moyen</th>\n",
       "      <th>total_achats</th>\n",
       "      <th>total_ventes</th>\n",
       "      <th>ventes_mensuelles</th>\n",
       "    </tr>\n",
       "  </thead>\n",
       "  <tbody>\n",
       "    <tr>\n",
       "      <th>0</th>\n",
       "      <td>c_1609</td>\n",
       "      <td>42</td>\n",
       "      <td>34.915068</td>\n",
       "      <td>324033.35</td>\n",
       "      <td>25488</td>\n",
       "      <td>1062.0</td>\n",
       "    </tr>\n",
       "    <tr>\n",
       "      <th>1</th>\n",
       "      <td>c_4958</td>\n",
       "      <td>23</td>\n",
       "      <td>7.165517</td>\n",
       "      <td>289760.34</td>\n",
       "      <td>5195</td>\n",
       "      <td>216.0</td>\n",
       "    </tr>\n",
       "    <tr>\n",
       "      <th>2</th>\n",
       "      <td>c_6714</td>\n",
       "      <td>54</td>\n",
       "      <td>13.031206</td>\n",
       "      <td>153669.30</td>\n",
       "      <td>9187</td>\n",
       "      <td>383.0</td>\n",
       "    </tr>\n",
       "    <tr>\n",
       "      <th>3</th>\n",
       "      <td>c_3454</td>\n",
       "      <td>53</td>\n",
       "      <td>9.278082</td>\n",
       "      <td>113673.12</td>\n",
       "      <td>6773</td>\n",
       "      <td>282.0</td>\n",
       "    </tr>\n",
       "    <tr>\n",
       "      <th>4</th>\n",
       "      <td>c_3263</td>\n",
       "      <td>37</td>\n",
       "      <td>2.985185</td>\n",
       "      <td>5276.87</td>\n",
       "      <td>403</td>\n",
       "      <td>17.0</td>\n",
       "    </tr>\n",
       "    <tr>\n",
       "      <th>5</th>\n",
       "      <td>c_1570</td>\n",
       "      <td>43</td>\n",
       "      <td>2.654676</td>\n",
       "      <td>5271.62</td>\n",
       "      <td>369</td>\n",
       "      <td>15.0</td>\n",
       "    </tr>\n",
       "    <tr>\n",
       "      <th>6</th>\n",
       "      <td>c_2899</td>\n",
       "      <td>28</td>\n",
       "      <td>1.640625</td>\n",
       "      <td>5214.05</td>\n",
       "      <td>105</td>\n",
       "      <td>4.0</td>\n",
       "    </tr>\n",
       "    <tr>\n",
       "      <th>7</th>\n",
       "      <td>c_2140</td>\n",
       "      <td>45</td>\n",
       "      <td>3.190476</td>\n",
       "      <td>5208.82</td>\n",
       "      <td>402</td>\n",
       "      <td>17.0</td>\n",
       "    </tr>\n",
       "    <tr>\n",
       "      <th>8</th>\n",
       "      <td>c_7319</td>\n",
       "      <td>48</td>\n",
       "      <td>2.708029</td>\n",
       "      <td>5155.77</td>\n",
       "      <td>371</td>\n",
       "      <td>15.0</td>\n",
       "    </tr>\n",
       "    <tr>\n",
       "      <th>9</th>\n",
       "      <td>c_8026</td>\n",
       "      <td>44</td>\n",
       "      <td>2.772059</td>\n",
       "      <td>5094.31</td>\n",
       "      <td>377</td>\n",
       "      <td>16.0</td>\n",
       "    </tr>\n",
       "  </tbody>\n",
       "</table>\n",
       "</div>"
      ],
      "text/plain": [
       "  client_id  age  taille_panier_moyen  total_achats  total_ventes  \\\n",
       "0    c_1609   42            34.915068     324033.35         25488   \n",
       "1    c_4958   23             7.165517     289760.34          5195   \n",
       "2    c_6714   54            13.031206     153669.30          9187   \n",
       "3    c_3454   53             9.278082     113673.12          6773   \n",
       "4    c_3263   37             2.985185       5276.87           403   \n",
       "5    c_1570   43             2.654676       5271.62           369   \n",
       "6    c_2899   28             1.640625       5214.05           105   \n",
       "7    c_2140   45             3.190476       5208.82           402   \n",
       "8    c_7319   48             2.708029       5155.77           371   \n",
       "9    c_8026   44             2.772059       5094.31           377   \n",
       "\n",
       "   ventes_mensuelles  \n",
       "0             1062.0  \n",
       "1              216.0  \n",
       "2              383.0  \n",
       "3              282.0  \n",
       "4               17.0  \n",
       "5               15.0  \n",
       "6                4.0  \n",
       "7               17.0  \n",
       "8               15.0  \n",
       "9               16.0  "
      ]
     },
     "execution_count": 78,
     "metadata": {},
     "output_type": "execute_result"
    }
   ],
   "source": [
    "ca_annuel = df_client.pivot_table(\n",
    "    index='client_id', values=[\n",
    "        'total_achats','ventes_mensuelles','taille_panier_moyen','total_ventes', 'age']\n",
    "    ).sort_values(by='total_achats', ascending=False).reset_index()\n",
    "\n",
    "ca_annuel.head(10) # Les 10 clients aux plus gros chiffres d'affaires annuels"
   ]
  },
  {
   "cell_type": "markdown",
   "id": "d7d6fa2d",
   "metadata": {},
   "source": [
    "Pour ne pas que le poids de ces clients professionnels n'affectent les analyses prochaines je vais séparer en deux groupes, B2C et B2B."
   ]
  },
  {
   "cell_type": "code",
   "execution_count": 65,
   "id": "08ef6b86",
   "metadata": {},
   "outputs": [
    {
     "name": "stderr",
     "output_type": "stream",
     "text": [
      "/var/folders/td/c26psjjd02d96xkgx9bsmm8m0000gn/T/ipykernel_4904/527336293.py:3: SettingWithCopyWarning: \n",
      "A value is trying to be set on a copy of a slice from a DataFrame\n",
      "\n",
      "See the caveats in the documentation: https://pandas.pydata.org/pandas-docs/stable/user_guide/indexing.html#returning-a-view-versus-a-copy\n",
      "  df_client['client_type'].loc[df_client[df_client['client_id'].isin(ca_annuel.head(4)['client_id'])].index] = 'B2B'\n"
     ]
    },
    {
     "data": {
      "text/html": [
       "<div>\n",
       "<style scoped>\n",
       "    .dataframe tbody tr th:only-of-type {\n",
       "        vertical-align: middle;\n",
       "    }\n",
       "\n",
       "    .dataframe tbody tr th {\n",
       "        vertical-align: top;\n",
       "    }\n",
       "\n",
       "    .dataframe thead th {\n",
       "        text-align: right;\n",
       "    }\n",
       "</style>\n",
       "<table border=\"1\" class=\"dataframe\">\n",
       "  <thead>\n",
       "    <tr style=\"text-align: right;\">\n",
       "      <th></th>\n",
       "      <th>id_prod</th>\n",
       "      <th>date</th>\n",
       "      <th>session_id</th>\n",
       "      <th>client_id</th>\n",
       "      <th>sex</th>\n",
       "      <th>birth</th>\n",
       "      <th>price</th>\n",
       "      <th>categ</th>\n",
       "      <th>total_ventes</th>\n",
       "      <th>ventes_mensuelles</th>\n",
       "      <th>taille_panier_moyen</th>\n",
       "      <th>total_achats</th>\n",
       "      <th>age</th>\n",
       "      <th>classe_age</th>\n",
       "      <th>client_type</th>\n",
       "    </tr>\n",
       "  </thead>\n",
       "  <tbody>\n",
       "    <tr>\n",
       "      <th>608959</th>\n",
       "      <td>0_579</td>\n",
       "      <td>2022-11-06 02:13:48.340494</td>\n",
       "      <td>s_293336</td>\n",
       "      <td>c_3807</td>\n",
       "      <td>f</td>\n",
       "      <td>1968</td>\n",
       "      <td>6.99</td>\n",
       "      <td>0.0</td>\n",
       "      <td>16</td>\n",
       "      <td>1.0</td>\n",
       "      <td>1.230769</td>\n",
       "      <td>185.14</td>\n",
       "      <td>54</td>\n",
       "      <td>Adulte</td>\n",
       "      <td>B2C</td>\n",
       "    </tr>\n",
       "    <tr>\n",
       "      <th>74927</th>\n",
       "      <td>0_1440</td>\n",
       "      <td>2022-08-19 22:06:56.044361</td>\n",
       "      <td>s_255678</td>\n",
       "      <td>c_6385</td>\n",
       "      <td>m</td>\n",
       "      <td>1981</td>\n",
       "      <td>5.62</td>\n",
       "      <td>0.0</td>\n",
       "      <td>118</td>\n",
       "      <td>5.0</td>\n",
       "      <td>2.145455</td>\n",
       "      <td>1341.91</td>\n",
       "      <td>41</td>\n",
       "      <td>Adulte</td>\n",
       "      <td>B2C</td>\n",
       "    </tr>\n",
       "    <tr>\n",
       "      <th>484536</th>\n",
       "      <td>0_1069</td>\n",
       "      <td>2022-04-04 10:26:05.657314</td>\n",
       "      <td>s_189091</td>\n",
       "      <td>c_932</td>\n",
       "      <td>m</td>\n",
       "      <td>1973</td>\n",
       "      <td>7.99</td>\n",
       "      <td>0.0</td>\n",
       "      <td>93</td>\n",
       "      <td>4.0</td>\n",
       "      <td>2.268293</td>\n",
       "      <td>1146.58</td>\n",
       "      <td>49</td>\n",
       "      <td>Adulte</td>\n",
       "      <td>B2C</td>\n",
       "    </tr>\n",
       "  </tbody>\n",
       "</table>\n",
       "</div>"
      ],
      "text/plain": [
       "       id_prod                       date session_id client_id sex  birth  \\\n",
       "608959   0_579 2022-11-06 02:13:48.340494   s_293336    c_3807   f   1968   \n",
       "74927   0_1440 2022-08-19 22:06:56.044361   s_255678    c_6385   m   1981   \n",
       "484536  0_1069 2022-04-04 10:26:05.657314   s_189091     c_932   m   1973   \n",
       "\n",
       "        price  categ  total_ventes  ventes_mensuelles  taille_panier_moyen  \\\n",
       "608959   6.99    0.0            16                1.0             1.230769   \n",
       "74927    5.62    0.0           118                5.0             2.145455   \n",
       "484536   7.99    0.0            93                4.0             2.268293   \n",
       "\n",
       "        total_achats  age classe_age client_type  \n",
       "608959        185.14   54     Adulte         B2C  \n",
       "74927        1341.91   41     Adulte         B2C  \n",
       "484536       1146.58   49     Adulte         B2C  "
      ]
     },
     "execution_count": 65,
     "metadata": {},
     "output_type": "execute_result"
    }
   ],
   "source": [
    "# Création d'une variable 'Type' de client (2 modalités : particulier ou professionnel)\n",
    "df_client['client_type'] = 'B2C'\n",
    "df_client['client_type'].loc[df_client[df_client['client_id'].isin(ca_annuel.head(4)['client_id'])].index] = 'B2B'\n",
    "\n",
    "# Création de 2 dataframe\n",
    "b2b = df_client[df_client['client_type']=='B2B']\n",
    "b2c = df_client[df_client['client_type']=='B2C']\n",
    "\n",
    "df_client.sample(3)"
   ]
  },
  {
   "cell_type": "markdown",
   "id": "08a7260c",
   "metadata": {},
   "source": [
    "### 1. Existe t-il un lien entre le genre d’un client et les catégories des livres achetés ?   \n",
    "\n",
    "Pour répondre à cela je vais utiliser une table de contingence car il s'agit de comparer deux variables qualitatives. \n",
    "\n",
    "Mon seuil alpha, de .05, sera toujours le même pour tous les tests statistiques à suivre."
   ]
  },
  {
   "cell_type": "code",
   "execution_count": 66,
   "id": "ff9fbd8a",
   "metadata": {},
   "outputs": [
    {
     "data": {
      "text/html": [
       "<div>\n",
       "<style scoped>\n",
       "    .dataframe tbody tr th:only-of-type {\n",
       "        vertical-align: middle;\n",
       "    }\n",
       "\n",
       "    .dataframe tbody tr th {\n",
       "        vertical-align: top;\n",
       "    }\n",
       "\n",
       "    .dataframe thead th {\n",
       "        text-align: right;\n",
       "    }\n",
       "</style>\n",
       "<table border=\"1\" class=\"dataframe\">\n",
       "  <thead>\n",
       "    <tr style=\"text-align: right;\">\n",
       "      <th>sex</th>\n",
       "      <th>f</th>\n",
       "      <th>m</th>\n",
       "      <th>Total</th>\n",
       "    </tr>\n",
       "    <tr>\n",
       "      <th>categ</th>\n",
       "      <th></th>\n",
       "      <th></th>\n",
       "      <th></th>\n",
       "    </tr>\n",
       "  </thead>\n",
       "  <tbody>\n",
       "    <tr>\n",
       "      <th>0.0</th>\n",
       "      <td>200904</td>\n",
       "      <td>186589</td>\n",
       "      <td>387493</td>\n",
       "    </tr>\n",
       "    <tr>\n",
       "      <th>1.0</th>\n",
       "      <td>111331</td>\n",
       "      <td>101017</td>\n",
       "      <td>212348</td>\n",
       "    </tr>\n",
       "    <tr>\n",
       "      <th>2.0</th>\n",
       "      <td>16980</td>\n",
       "      <td>15868</td>\n",
       "      <td>32848</td>\n",
       "    </tr>\n",
       "    <tr>\n",
       "      <th>Total</th>\n",
       "      <td>329215</td>\n",
       "      <td>303474</td>\n",
       "      <td>632689</td>\n",
       "    </tr>\n",
       "  </tbody>\n",
       "</table>\n",
       "</div>"
      ],
      "text/plain": [
       "sex         f       m   Total\n",
       "categ                        \n",
       "0.0    200904  186589  387493\n",
       "1.0    111331  101017  212348\n",
       "2.0     16980   15868   32848\n",
       "Total  329215  303474  632689"
      ]
     },
     "execution_count": 66,
     "metadata": {},
     "output_type": "execute_result"
    }
   ],
   "source": [
    "genre_cat = b2c.pivot_table(index='categ', columns='sex', values='price', aggfunc=len, margins=True, margins_name='Total')\n",
    "genre_cat.head()"
   ]
  },
  {
   "cell_type": "code",
   "execution_count": 67,
   "id": "2dd83922",
   "metadata": {
    "scrolled": true
   },
   "outputs": [
    {
     "data": {
      "text/plain": [
       "<AxesSubplot:xlabel='sex', ylabel='categ'>"
      ]
     },
     "execution_count": 67,
     "metadata": {},
     "output_type": "execute_result"
    },
    {
     "data": {
      "image/png": "[encoded data removed]",
      "text/plain": [
       "<Figure size 432x288 with 2 Axes>"
      ]
     },
     "metadata": {},
     "output_type": "display_data"
    }
   ],
   "source": [
    "sns.heatmap(genre_cat, annot=True, fmt='g', cmap=\"crest\")"
   ]
  },
  {
   "cell_type": "markdown",
   "id": "7a44f45d",
   "metadata": {},
   "source": [
    "Le test de normalité ne fait pas partie des conditions du Chi2, vu qu'on ne mesure la normalité que sur des variables quantitatives.  \n",
    "\n",
    "On doit malgré tout valider 2 conditions :  \n",
    "\n",
    "* au moins 1 valeur dans chaque cellule de la table de contingence  \n",
    "* au moins 80% des valeurs égales ou supérieures à 5  \n"
   ]
  },
  {
   "cell_type": "markdown",
   "id": "eaf07369",
   "metadata": {},
   "source": [
    "Les deux conditions sont remplies, je peux donc utiliser un test paramétrique comme le Chi2.\n",
    "\n",
    "Je pose mes deux hypothèses:  \n",
    "H0 = les deux variables sont indépendantes  \n",
    "H1 = les deux variables sont correlées  "
   ]
  },
  {
   "cell_type": "code",
   "execution_count": 68,
   "id": "2c9bfdab",
   "metadata": {},
   "outputs": [
    {
     "name": "stdout",
     "output_type": "stream",
     "text": [
      "Le Chi2 est égale à 20.2\n",
      "La valeur de p calculé est de 0.002551063708568263\n"
     ]
    }
   ],
   "source": [
    "import scipy.stats as st\n",
    "st_chi2, st_p, st_dof, st_exp = st.chi2_contingency(genre_cat)\n",
    "print('Le Chi2 est égale à', round(st_chi2, 2))\n",
    "print('La valeur de p calculé est de', st_p)"
   ]
  },
  {
   "cell_type": "markdown",
   "id": "99f98c0b",
   "metadata": {},
   "source": [
    "La p_value obtenue est bien inférieure au risque alpha, je peux donc rejeter l'hypothese nulle. Il reste cependant à calculer la force de la relation entre nos deux variables. Ce qui peu être fait avec le V de Cramer (compris en -1 et 1, plus il est pret de 0 et moins la correlation entre les variables est forte)."
   ]
  },
  {
   "cell_type": "code",
   "execution_count": 69,
   "id": "61ea3184",
   "metadata": {},
   "outputs": [
    {
     "name": "stdout",
     "output_type": "stream",
     "text": [
      "0.0019977328800928544\n"
     ]
    }
   ],
   "source": [
    "X2 = st.chi2_contingency(genre_cat, correction=False)[0]\n",
    "N = np.sum(genre_cat).sum()\n",
    "minimum_dimension = min(genre_cat.shape)-1\n",
    "  \n",
    "# Calcul V de Cramer\n",
    "\n",
    "result = np.sqrt((X2/N) / minimum_dimension)\n",
    "print(result)"
   ]
  },
  {
   "cell_type": "markdown",
   "id": "17445150",
   "metadata": {},
   "source": [
    "Comme le résultat est très proche de 0 on peut dire que l'intensité de la corrélation entre nos deux variables semble plutôt faible."
   ]
  },
  {
   "cell_type": "markdown",
   "id": "818199a5",
   "metadata": {},
   "source": [
    "### 2. Existe t-il un lien entre l’âge des clients et le montant total des achats ?  \n",
    "\n",
    "Pour répondre à cette question j'ai décidé de diviser mon groupe en trois classes d'age. Il s'agira donc de comparer une variable qualitative avec une variable quantitative. Dans un premier temps je vais réaliser un box plot par sous-échantillon."
   ]
  },
  {
   "cell_type": "code",
   "execution_count": 70,
   "id": "0354e565",
   "metadata": {},
   "outputs": [
    {
     "data": {
      "text/html": [
       "<div>\n",
       "<style scoped>\n",
       "    .dataframe tbody tr th:only-of-type {\n",
       "        vertical-align: middle;\n",
       "    }\n",
       "\n",
       "    .dataframe tbody tr th {\n",
       "        vertical-align: top;\n",
       "    }\n",
       "\n",
       "    .dataframe thead th {\n",
       "        text-align: right;\n",
       "    }\n",
       "</style>\n",
       "<table border=\"1\" class=\"dataframe\">\n",
       "  <thead>\n",
       "    <tr style=\"text-align: right;\">\n",
       "      <th></th>\n",
       "      <th>classe_age</th>\n",
       "      <th>total_achats</th>\n",
       "    </tr>\n",
       "  </thead>\n",
       "  <tbody>\n",
       "    <tr>\n",
       "      <th>0</th>\n",
       "      <td>Adulte</td>\n",
       "      <td>2192.860815</td>\n",
       "    </tr>\n",
       "    <tr>\n",
       "      <th>1</th>\n",
       "      <td>Aîné</td>\n",
       "      <td>1386.562955</td>\n",
       "    </tr>\n",
       "    <tr>\n",
       "      <th>2</th>\n",
       "      <td>Jeune</td>\n",
       "      <td>2091.829352</td>\n",
       "    </tr>\n",
       "  </tbody>\n",
       "</table>\n",
       "</div>"
      ],
      "text/plain": [
       "  classe_age  total_achats\n",
       "0     Adulte   2192.860815\n",
       "1       Aîné   1386.562955\n",
       "2      Jeune   2091.829352"
      ]
     },
     "execution_count": 70,
     "metadata": {},
     "output_type": "execute_result"
    }
   ],
   "source": [
    "age_total_achat = b2c[['classe_age', 'total_achats']].groupby('classe_age').mean().reset_index()\n",
    "age_total_achat.head()"
   ]
  },
  {
   "cell_type": "code",
   "execution_count": 71,
   "id": "43d1dfc6",
   "metadata": {
    "scrolled": true
   },
   "outputs": [
    {
     "name": "stderr",
     "output_type": "stream",
     "text": [
      "/Users/cedricmary/opt/anaconda3/lib/python3.9/site-packages/seaborn/_decorators.py:36: FutureWarning: Pass the following variables as keyword args: x, y. From version 0.12, the only valid positional argument will be `data`, and passing other arguments without an explicit keyword will result in an error or misinterpretation.\n",
      "  warnings.warn(\n"
     ]
    },
    {
     "data": {
      "image/png": "[encoded data removed]",
      "text/plain": [
       "<Figure size 432x288 with 1 Axes>"
      ]
     },
     "metadata": {},
     "output_type": "display_data"
    }
   ],
   "source": [
    "sns.boxplot('classe_age','total_achats',data=b2c, showmeans=True)\n",
    "plt.show()"
   ]
  },
  {
   "cell_type": "markdown",
   "id": "dd81962c",
   "metadata": {},
   "source": [
    "Je vais effectuer un test de normalité (Test de Kolmogorov-Smirnov) pour savoir si je peux utliser un test paramétrique ou non par la suite.   \n",
    "    \n",
    "La p_value obtenue est inférieure à notre seuil de .05 je rejette donc l'hypothèse nulle de normalité. Je vais devoir utiliser une test non paramétrique, ici je choisis le Test de Kruskal-Wallis."
   ]
  },
  {
   "cell_type": "code",
   "execution_count": 72,
   "id": "c330b3ed",
   "metadata": {},
   "outputs": [
    {
     "data": {
      "text/plain": [
       "KstestResult(statistic=0.9999999998604823, pvalue=0.0)"
      ]
     },
     "execution_count": 72,
     "metadata": {},
     "output_type": "execute_result"
    }
   ],
   "source": [
    "from scipy.stats import kstest\n",
    "kstest(b2c['total_achats'], 'norm')"
   ]
  },
  {
   "cell_type": "markdown",
   "id": "44f19566",
   "metadata": {},
   "source": [
    "Je pose mes deux hypothèses:  \n",
    "H0 = Les trois moyennes sont égales  \n",
    "H1 = Au moins une des trois moyennes diffèrent des autres"
   ]
  },
  {
   "cell_type": "code",
   "execution_count": 73,
   "id": "6c15cc31",
   "metadata": {},
   "outputs": [
    {
     "name": "stdout",
     "output_type": "stream",
     "text": [
      "KruskalResult(statistic=45694.647207633374, pvalue=0.0)\n"
     ]
    }
   ],
   "source": [
    "from scipy import stats\n",
    "\n",
    "data_group1 = b2c[b2c['classe_age']=='Jeune']['total_achats']\n",
    "data_group2 = b2c[b2c['classe_age']=='Adulte']['total_achats']\n",
    "data_group3 = b2c[b2c['classe_age']=='Aîné']['total_achats']\n",
    "\n",
    "result = stats.kruskal(data_group1, data_group2, data_group3)\n",
    "\n",
    "print(result)"
   ]
  },
  {
   "cell_type": "markdown",
   "id": "acdc4b81",
   "metadata": {},
   "source": [
    "La p_value obtenue est bien inférieure au risque alpha, je peux donc rejeter l'hypothese nulle. Ainsi on peut dire que la classe d'âge a un effet sur le montant total des achats."
   ]
  },
  {
   "cell_type": "markdown",
   "id": "e0cf09e9",
   "metadata": {},
   "source": [
    "### 3. Existe t-il un lien entre l’âge des clients et la fréquence des achats ?"
   ]
  },
  {
   "cell_type": "markdown",
   "id": "eecaefce",
   "metadata": {},
   "source": [
    "Pour répondre à cette question j'ai décidé de diviser mon groupe en trois classes d'age. Il s'agira donc de comparer une variable qualitative avec une variable quantitative. Dans un premier temps je vais réaliser un box plot par sous-échantillon."
   ]
  },
  {
   "cell_type": "code",
   "execution_count": 397,
   "id": "118942b6",
   "metadata": {},
   "outputs": [
    {
     "data": {
      "text/html": [
       "<div>\n",
       "<style scoped>\n",
       "    .dataframe tbody tr th:only-of-type {\n",
       "        vertical-align: middle;\n",
       "    }\n",
       "\n",
       "    .dataframe tbody tr th {\n",
       "        vertical-align: top;\n",
       "    }\n",
       "\n",
       "    .dataframe thead th {\n",
       "        text-align: right;\n",
       "    }\n",
       "</style>\n",
       "<table border=\"1\" class=\"dataframe\">\n",
       "  <thead>\n",
       "    <tr style=\"text-align: right;\">\n",
       "      <th></th>\n",
       "      <th>classe_age</th>\n",
       "      <th>ventes_mensuelles</th>\n",
       "    </tr>\n",
       "  </thead>\n",
       "  <tbody>\n",
       "    <tr>\n",
       "      <th>0</th>\n",
       "      <td>Adulte</td>\n",
       "      <td>6.825034</td>\n",
       "    </tr>\n",
       "    <tr>\n",
       "      <th>1</th>\n",
       "      <td>Aîné</td>\n",
       "      <td>3.426862</td>\n",
       "    </tr>\n",
       "    <tr>\n",
       "      <th>2</th>\n",
       "      <td>Jeune</td>\n",
       "      <td>4.961837</td>\n",
       "    </tr>\n",
       "  </tbody>\n",
       "</table>\n",
       "</div>"
      ],
      "text/plain": [
       "  classe_age  ventes_mensuelles\n",
       "0     Adulte           6.825034\n",
       "1       Aîné           3.426862\n",
       "2      Jeune           4.961837"
      ]
     },
     "execution_count": 397,
     "metadata": {},
     "output_type": "execute_result"
    }
   ],
   "source": [
    "age_frequence = b2c[['classe_age', 'ventes_mensuelles']].groupby('classe_age').mean().reset_index()\n",
    "age_frequence.head()"
   ]
  },
  {
   "cell_type": "code",
   "execution_count": 398,
   "id": "a84bc422",
   "metadata": {
    "scrolled": true
   },
   "outputs": [
    {
     "name": "stderr",
     "output_type": "stream",
     "text": [
      "/Users/cedricmary/opt/anaconda3/lib/python3.9/site-packages/seaborn/_decorators.py:36: FutureWarning: Pass the following variables as keyword args: x, y. From version 0.12, the only valid positional argument will be `data`, and passing other arguments without an explicit keyword will result in an error or misinterpretation.\n",
      "  warnings.warn(\n"
     ]
    },
    {
     "data": {
      "image/png": "[encoded data removed]",
      "text/plain": [
       "<Figure size 432x288 with 1 Axes>"
      ]
     },
     "metadata": {},
     "output_type": "display_data"
    }
   ],
   "source": [
    "sns.boxplot('classe_age','ventes_mensuelles',data=b2c, showmeans=True)\n",
    "plt.show()"
   ]
  },
  {
   "cell_type": "markdown",
   "id": "5de0cf4a",
   "metadata": {},
   "source": [
    "Je vais effectuer un test de normalité (Test de Kolmogorov-Smirnov) pour savoir si je peux utliser un test paramétrique ou non par la suite.   \n",
    "    \n",
    "La p_value obtenue est inférieure à notre seuil de .05 je rejette donc l'hypothèse nulle de normalité. Je vais devoir utiliser une test non paramétrique, ici je choisis le Test de Kruskal-Wallis."
   ]
  },
  {
   "cell_type": "code",
   "execution_count": 399,
   "id": "7327f6db",
   "metadata": {},
   "outputs": [
    {
     "data": {
      "text/plain": [
       "KstestResult(statistic=0.8826599510467835, pvalue=0.0)"
      ]
     },
     "execution_count": 399,
     "metadata": {},
     "output_type": "execute_result"
    }
   ],
   "source": [
    "from scipy.stats import kstest\n",
    "kstest(b2c['ventes_mensuelles'], 'norm')"
   ]
  },
  {
   "cell_type": "markdown",
   "id": "3c010539",
   "metadata": {},
   "source": [
    "Je pose mes deux hypothèses:  \n",
    "H0 = Les trois moyennes sont égales  \n",
    "H1 = Au moins une des trois moyennes diffèrent des autres"
   ]
  },
  {
   "cell_type": "code",
   "execution_count": 400,
   "id": "7adc680d",
   "metadata": {},
   "outputs": [
    {
     "name": "stdout",
     "output_type": "stream",
     "text": [
      "KruskalResult(statistic=86066.67517174533, pvalue=0.0)\n"
     ]
    }
   ],
   "source": [
    "from scipy import stats\n",
    "\n",
    "group1 = b2c[b2c['classe_age']=='Jeune']['ventes_mensuelles']\n",
    "group2 = b2c[b2c['classe_age']=='Adulte']['ventes_mensuelles']\n",
    "group3 = b2c[b2c['classe_age']=='Aîné']['ventes_mensuelles']\n",
    "\n",
    "resultat = stats.kruskal(group1, group2, group3)\n",
    "\n",
    "print(resultat)"
   ]
  },
  {
   "cell_type": "markdown",
   "id": "ade39f73",
   "metadata": {},
   "source": [
    "La p_value obtenue est bien inférieure au risque alpha, je peux donc rejeter l'hypothese nulle. Ainsi on peut dire que la classe d'âge a également un effet sur la fréquence des achats."
   ]
  },
  {
   "cell_type": "markdown",
   "id": "60f9830a",
   "metadata": {},
   "source": [
    "### 4. Existe t-il un lien entre l’âge des clients et la taille du panier moyen ?"
   ]
  },
  {
   "cell_type": "markdown",
   "id": "7bd31d25",
   "metadata": {},
   "source": [
    "De nouveau mon groupe de client est divisé en trois classes d'age. Il s'agira donc de comparer une variable qualitative avec une variable quantitative. Dans un premier temps je vais réaliser un box plot par sous-échantillon."
   ]
  },
  {
   "cell_type": "code",
   "execution_count": 401,
   "id": "26213c49",
   "metadata": {},
   "outputs": [
    {
     "data": {
      "text/html": [
       "<div>\n",
       "<style scoped>\n",
       "    .dataframe tbody tr th:only-of-type {\n",
       "        vertical-align: middle;\n",
       "    }\n",
       "\n",
       "    .dataframe tbody tr th {\n",
       "        vertical-align: top;\n",
       "    }\n",
       "\n",
       "    .dataframe thead th {\n",
       "        text-align: right;\n",
       "    }\n",
       "</style>\n",
       "<table border=\"1\" class=\"dataframe\">\n",
       "  <thead>\n",
       "    <tr style=\"text-align: right;\">\n",
       "      <th></th>\n",
       "      <th>classe_age</th>\n",
       "      <th>taille_panier_moyen</th>\n",
       "    </tr>\n",
       "  </thead>\n",
       "  <tbody>\n",
       "    <tr>\n",
       "      <th>0</th>\n",
       "      <td>Adulte</td>\n",
       "      <td>2.431537</td>\n",
       "    </tr>\n",
       "    <tr>\n",
       "      <th>1</th>\n",
       "      <td>Aîné</td>\n",
       "      <td>1.595841</td>\n",
       "    </tr>\n",
       "    <tr>\n",
       "      <th>2</th>\n",
       "      <td>Jeune</td>\n",
       "      <td>2.297683</td>\n",
       "    </tr>\n",
       "  </tbody>\n",
       "</table>\n",
       "</div>"
      ],
      "text/plain": [
       "  classe_age  taille_panier_moyen\n",
       "0     Adulte             2.431537\n",
       "1       Aîné             1.595841\n",
       "2      Jeune             2.297683"
      ]
     },
     "execution_count": 401,
     "metadata": {},
     "output_type": "execute_result"
    }
   ],
   "source": [
    "age_panier_moyen = b2c[['classe_age', 'taille_panier_moyen']].groupby('classe_age').mean().reset_index()\n",
    "age_panier_moyen.head()"
   ]
  },
  {
   "cell_type": "code",
   "execution_count": 402,
   "id": "afef4937",
   "metadata": {
    "scrolled": true
   },
   "outputs": [
    {
     "name": "stderr",
     "output_type": "stream",
     "text": [
      "/Users/cedricmary/opt/anaconda3/lib/python3.9/site-packages/seaborn/_decorators.py:36: FutureWarning: Pass the following variables as keyword args: x, y. From version 0.12, the only valid positional argument will be `data`, and passing other arguments without an explicit keyword will result in an error or misinterpretation.\n",
      "  warnings.warn(\n"
     ]
    },
    {
     "data": {
      "image/png": "[encoded data removed]",
      "text/plain": [
       "<Figure size 432x288 with 1 Axes>"
      ]
     },
     "metadata": {},
     "output_type": "display_data"
    }
   ],
   "source": [
    "sns.boxplot('classe_age','taille_panier_moyen',data=b2c, showmeans=True)\n",
    "plt.show()"
   ]
  },
  {
   "cell_type": "markdown",
   "id": "1c9c402e",
   "metadata": {},
   "source": [
    "Je vais effectuer un test de normalité (Test de Kolmogorov-Smirnov) pour savoir si je peux utliser un test paramétrique ou non par la suite.   \n",
    "    \n",
    "La p_value obtenue est inférieure à notre seuil de .05 je rejette donc l'hypothèse nulle de normalité. Je vais devoir utiliser une test non paramétrique, ici je choisis le Test de Kruskal-Wallis."
   ]
  },
  {
   "cell_type": "code",
   "execution_count": 403,
   "id": "0b6b34ca",
   "metadata": {},
   "outputs": [
    {
     "data": {
      "text/plain": [
       "KstestResult(statistic=0.8613286223616016, pvalue=0.0)"
      ]
     },
     "execution_count": 403,
     "metadata": {},
     "output_type": "execute_result"
    }
   ],
   "source": [
    "from scipy.stats import kstest\n",
    "kstest(b2c['taille_panier_moyen'], 'norm')"
   ]
  },
  {
   "cell_type": "markdown",
   "id": "2b69f101",
   "metadata": {},
   "source": [
    "Je pose de nouveau mes deux hypothèses:  \n",
    "H0 = Les trois moyennes sont égales  \n",
    "H1 = Au moins une des trois moyennes diffèrent des autres"
   ]
  },
  {
   "cell_type": "code",
   "execution_count": 404,
   "id": "b25e86c6",
   "metadata": {},
   "outputs": [
    {
     "name": "stdout",
     "output_type": "stream",
     "text": [
      "KruskalResult(statistic=167827.15256041824, pvalue=0.0)\n"
     ]
    }
   ],
   "source": [
    "from scipy import stats\n",
    "\n",
    "donnee_group1 = b2c[b2c['classe_age']=='Jeune']['taille_panier_moyen']\n",
    "donnee_group2 = b2c[b2c['classe_age']=='Adulte']['taille_panier_moyen']\n",
    "donnee_group3 = b2c[b2c['classe_age']=='Aîné']['taille_panier_moyen']\n",
    "\n",
    "results = stats.kruskal(donnee_group1, donnee_group2, donnee_group3)\n",
    "\n",
    "print(results)"
   ]
  },
  {
   "cell_type": "markdown",
   "id": "ebabcab6",
   "metadata": {},
   "source": [
    "La p_value obtenue est encore bien inférieure au risque alpha, je peux donc rejeter l'hypothese nulle. On peut alors dire que la classe d'âge a aussi un effet significatif sur la taille du panier moyen."
   ]
  },
  {
   "cell_type": "markdown",
   "id": "26c6237f",
   "metadata": {},
   "source": [
    "### 5. Existe t-il un lien entre l’âge des clients et la catégorie des achats ?"
   ]
  },
  {
   "cell_type": "markdown",
   "id": "3a4828bd",
   "metadata": {},
   "source": [
    "Pour répondre à cela je vais utiliser une table de contingence car il s'agit de comparer deux variables qualitatives."
   ]
  },
  {
   "cell_type": "code",
   "execution_count": 405,
   "id": "7b185378",
   "metadata": {},
   "outputs": [
    {
     "data": {
      "text/html": [
       "<div>\n",
       "<style scoped>\n",
       "    .dataframe tbody tr th:only-of-type {\n",
       "        vertical-align: middle;\n",
       "    }\n",
       "\n",
       "    .dataframe tbody tr th {\n",
       "        vertical-align: top;\n",
       "    }\n",
       "\n",
       "    .dataframe thead th {\n",
       "        text-align: right;\n",
       "    }\n",
       "</style>\n",
       "<table border=\"1\" class=\"dataframe\">\n",
       "  <thead>\n",
       "    <tr style=\"text-align: right;\">\n",
       "      <th>categ</th>\n",
       "      <th>0.0</th>\n",
       "      <th>1.0</th>\n",
       "      <th>2.0</th>\n",
       "      <th>Total</th>\n",
       "    </tr>\n",
       "    <tr>\n",
       "      <th>classe_age</th>\n",
       "      <th></th>\n",
       "      <th></th>\n",
       "      <th></th>\n",
       "      <th></th>\n",
       "    </tr>\n",
       "  </thead>\n",
       "  <tbody>\n",
       "    <tr>\n",
       "      <th>Adulte</th>\n",
       "      <td>245285</td>\n",
       "      <td>95191</td>\n",
       "      <td>1504</td>\n",
       "      <td>341980</td>\n",
       "    </tr>\n",
       "    <tr>\n",
       "      <th>Aîné</th>\n",
       "      <td>52241</td>\n",
       "      <td>67029</td>\n",
       "      <td>1092</td>\n",
       "      <td>120362</td>\n",
       "    </tr>\n",
       "    <tr>\n",
       "      <th>Jeune</th>\n",
       "      <td>89967</td>\n",
       "      <td>50128</td>\n",
       "      <td>30252</td>\n",
       "      <td>170347</td>\n",
       "    </tr>\n",
       "    <tr>\n",
       "      <th>Total</th>\n",
       "      <td>387493</td>\n",
       "      <td>212348</td>\n",
       "      <td>32848</td>\n",
       "      <td>632689</td>\n",
       "    </tr>\n",
       "  </tbody>\n",
       "</table>\n",
       "</div>"
      ],
      "text/plain": [
       "categ          0.0     1.0    2.0   Total\n",
       "classe_age                               \n",
       "Adulte      245285   95191   1504  341980\n",
       "Aîné         52241   67029   1092  120362\n",
       "Jeune        89967   50128  30252  170347\n",
       "Total       387493  212348  32848  632689"
      ]
     },
     "execution_count": 405,
     "metadata": {},
     "output_type": "execute_result"
    }
   ],
   "source": [
    "age_categ = b2c.pivot_table(index='classe_age', columns='categ', values='price', aggfunc=len, margins=True, margins_name='Total')\n",
    "age_categ.head()"
   ]
  },
  {
   "cell_type": "code",
   "execution_count": 406,
   "id": "25945c11",
   "metadata": {},
   "outputs": [
    {
     "data": {
      "text/plain": [
       "<AxesSubplot:xlabel='categ', ylabel='classe_age'>"
      ]
     },
     "execution_count": 406,
     "metadata": {},
     "output_type": "execute_result"
    },
    {
     "data": {
      "image/png": "[encoded data removed]",
      "text/plain": [
       "<Figure size 432x288 with 2 Axes>"
      ]
     },
     "metadata": {},
     "output_type": "display_data"
    }
   ],
   "source": [
    "sns.heatmap(age_categ, annot=True, fmt='g', cmap=\"crest\")"
   ]
  },
  {
   "cell_type": "markdown",
   "id": "d7ecccd5",
   "metadata": {},
   "source": [
    "Le test de normalité ne fait pas partie des conditions du Chi2, vu qu'on ne mesure la normalité que sur des variables quantitatives.  \n",
    "\n",
    "On doit malgré tout valider 2 conditions :  \n",
    "\n",
    "* au moins 1 valeur dans chaque cellule de la table de contingence  \n",
    "* au moins 80% des valeurs égales ou supérieures à 5  \n"
   ]
  },
  {
   "cell_type": "markdown",
   "id": "3ba2b36d",
   "metadata": {},
   "source": [
    "Les deux conditions sont remplies, je peux donc utiliser un test paramétrique comme le Chi2.\n",
    "\n",
    "Je pose mes deux hypothèses:  \n",
    "H0 = les deux variables sont indépendantes  \n",
    "H1 = les deux variables sont correlées  "
   ]
  },
  {
   "cell_type": "code",
   "execution_count": 407,
   "id": "0201e2e4",
   "metadata": {},
   "outputs": [
    {
     "name": "stdout",
     "output_type": "stream",
     "text": [
      "Le Chi2 est égale à 107083.83\n",
      "La valeur de p calculé est de 0.0\n"
     ]
    }
   ],
   "source": [
    "import scipy.stats as st\n",
    "st_chi2, st_p, st_dof, st_exp = st.chi2_contingency(age_categ)\n",
    "print('Le Chi2 est égale à', round(st_chi2, 2))\n",
    "print('La valeur de p calculé est de', st_p)"
   ]
  },
  {
   "cell_type": "markdown",
   "id": "263bc2dd",
   "metadata": {},
   "source": [
    "La p_value obtenue est bien inférieure au risque alpha, je peux donc rejeter l'hypothese nulle. Il reste cependant à calculer la force de la relation entre nos deux variables. Ce qui peu être fait avec le V de Cramer."
   ]
  },
  {
   "cell_type": "code",
   "execution_count": 408,
   "id": "cd6686ae",
   "metadata": {},
   "outputs": [
    {
     "name": "stdout",
     "output_type": "stream",
     "text": [
      "0.11876163920223896\n"
     ]
    }
   ],
   "source": [
    "X2 = st.chi2_contingency(age_categ, correction=False)[0]\n",
    "N = np.sum(age_categ).sum()\n",
    "minimum_dimension = min(age_categ.shape)-1\n",
    "  \n",
    "# Calcul V de Cramer\n",
    "\n",
    "result = np.sqrt((X2/N) / minimum_dimension)\n",
    "print(result)"
   ]
  },
  {
   "cell_type": "markdown",
   "id": "e4542274",
   "metadata": {},
   "source": [
    "Comme le résultat est proche de 0 je considère que l'intensité de la corrélation entre l'âge et la catégorie des produits semble faible."
   ]
  },
  {
   "cell_type": "markdown",
   "id": "b0fedcbe",
   "metadata": {},
   "source": [
    "## "
   ]
  }
 ],
 "metadata": {
  "kernelspec": {
   "display_name": "Python 3 (ipykernel)",
   "language": "python",
   "name": "python3"
  },
  "language_info": {
   "codemirror_mode": {
    "name": "ipython",
    "version": 3
   },
   "file_extension": ".py",
   "mimetype": "text/x-python",
   "name": "python",
   "nbconvert_exporter": "python",
   "pygments_lexer": "ipython3",
   "version": "3.9.12"
  }
 },
 "nbformat": 4,
 "nbformat_minor": 5
}
