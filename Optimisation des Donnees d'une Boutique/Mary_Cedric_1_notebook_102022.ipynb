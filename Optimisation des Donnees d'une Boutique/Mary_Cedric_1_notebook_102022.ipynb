{
 "cells": [
  {
   "cell_type": "markdown",
   "id": "9ff4bbaf",
   "metadata": {},
   "source": [
    "# Optimisez la gestion des données d'une boutique"
   ]
  },
  {
   "cell_type": "markdown",
   "id": "31839c7a",
   "metadata": {},
   "source": [
    "Avant toute analyse j'aimerais indiquer ici que les résultats qui vont suivre ne sont pertinents qu'au regard du fichier de données qui m'a été fourni. Autrement dit les valeurs de chiffre d'affaire par exemple sont à prendre avec un certain recul."
   ]
  },
  {
   "cell_type": "markdown",
   "id": "8d7fb9b4",
   "metadata": {},
   "source": [
    "## Partie 1 - Inspection des données"
   ]
  },
  {
   "cell_type": "markdown",
   "id": "61d06344",
   "metadata": {},
   "source": [
    "Je commence par importer les librairies pandas, numpy, seaborn et matplotlib."
   ]
  },
  {
   "cell_type": "code",
   "execution_count": 2,
   "id": "72877945",
   "metadata": {},
   "outputs": [],
   "source": [
    "import pandas as pd\n",
    "import numpy as np\n",
    "import matplotlib.pyplot as plt\n",
    "import seaborn as sns"
   ]
  },
  {
   "cell_type": "markdown",
   "id": "2087bc73",
   "metadata": {},
   "source": [
    "1. Lecture et analyse du premier fichier excel."
   ]
  },
  {
   "cell_type": "code",
   "execution_count": 3,
   "id": "9ae25bb0",
   "metadata": {},
   "outputs": [
    {
     "name": "stderr",
     "output_type": "stream",
     "text": [
      "/Users/cedricmary/opt/anaconda3/lib/python3.9/site-packages/openpyxl/worksheet/_reader.py:312: UserWarning: Unknown extension is not supported and will be removed\n",
      "  warn(msg)\n"
     ]
    },
    {
     "data": {
      "text/html": [
       "<div>\n",
       "<style scoped>\n",
       "    .dataframe tbody tr th:only-of-type {\n",
       "        vertical-align: middle;\n",
       "    }\n",
       "\n",
       "    .dataframe tbody tr th {\n",
       "        vertical-align: top;\n",
       "    }\n",
       "\n",
       "    .dataframe thead th {\n",
       "        text-align: right;\n",
       "    }\n",
       "</style>\n",
       "<table border=\"1\" class=\"dataframe\">\n",
       "  <thead>\n",
       "    <tr style=\"text-align: right;\">\n",
       "      <th></th>\n",
       "      <th>sku</th>\n",
       "      <th>virtual</th>\n",
       "      <th>downloadable</th>\n",
       "      <th>rating_count</th>\n",
       "      <th>average_rating</th>\n",
       "      <th>total_sales</th>\n",
       "      <th>tax_status</th>\n",
       "      <th>tax_class</th>\n",
       "      <th>post_author</th>\n",
       "      <th>post_date</th>\n",
       "      <th>...</th>\n",
       "      <th>post_name</th>\n",
       "      <th>post_modified</th>\n",
       "      <th>post_modified_gmt</th>\n",
       "      <th>post_content_filtered</th>\n",
       "      <th>post_parent</th>\n",
       "      <th>guid</th>\n",
       "      <th>menu_order</th>\n",
       "      <th>post_type</th>\n",
       "      <th>post_mime_type</th>\n",
       "      <th>comment_count</th>\n",
       "    </tr>\n",
       "  </thead>\n",
       "  <tbody>\n",
       "    <tr>\n",
       "      <th>0</th>\n",
       "      <td>bon-cadeau-25-euros</td>\n",
       "      <td>0</td>\n",
       "      <td>0</td>\n",
       "      <td>0</td>\n",
       "      <td>0.0</td>\n",
       "      <td>10.0</td>\n",
       "      <td>taxable</td>\n",
       "      <td>NaN</td>\n",
       "      <td>1.0</td>\n",
       "      <td>2018-06-01 13:53:46</td>\n",
       "      <td>...</td>\n",
       "      <td>bon-cadeau-de-25-euros</td>\n",
       "      <td>2018-06-01 14:13:57</td>\n",
       "      <td>2018-06-01 12:13:57</td>\n",
       "      <td>NaN</td>\n",
       "      <td>0.0</td>\n",
       "      <td>https://www.bottle-neck.fr/?post_type=product&amp;...</td>\n",
       "      <td>0.0</td>\n",
       "      <td>product</td>\n",
       "      <td>NaN</td>\n",
       "      <td>0.0</td>\n",
       "    </tr>\n",
       "    <tr>\n",
       "      <th>1</th>\n",
       "      <td>15298</td>\n",
       "      <td>0</td>\n",
       "      <td>0</td>\n",
       "      <td>0</td>\n",
       "      <td>0.0</td>\n",
       "      <td>6.0</td>\n",
       "      <td>taxable</td>\n",
       "      <td>NaN</td>\n",
       "      <td>2.0</td>\n",
       "      <td>2018-02-08 12:58:52</td>\n",
       "      <td>...</td>\n",
       "      <td>pierre-jean-villa-saint-joseph-preface-2018</td>\n",
       "      <td>2019-12-30 09:30:29</td>\n",
       "      <td>2019-12-30 08:30:29</td>\n",
       "      <td>NaN</td>\n",
       "      <td>0.0</td>\n",
       "      <td>https://www.bottle-neck.fr/?post_type=product&amp;...</td>\n",
       "      <td>0.0</td>\n",
       "      <td>product</td>\n",
       "      <td>NaN</td>\n",
       "      <td>0.0</td>\n",
       "    </tr>\n",
       "    <tr>\n",
       "      <th>2</th>\n",
       "      <td>15296</td>\n",
       "      <td>0</td>\n",
       "      <td>0</td>\n",
       "      <td>0</td>\n",
       "      <td>0.0</td>\n",
       "      <td>0.0</td>\n",
       "      <td>taxable</td>\n",
       "      <td>NaN</td>\n",
       "      <td>2.0</td>\n",
       "      <td>2018-02-08 13:49:41</td>\n",
       "      <td>...</td>\n",
       "      <td>pierre-jean-villa-saint-joseph-tilde-2017</td>\n",
       "      <td>2019-12-21 09:00:17</td>\n",
       "      <td>2019-12-21 08:00:17</td>\n",
       "      <td>NaN</td>\n",
       "      <td>0.0</td>\n",
       "      <td>https://www.bottle-neck.fr/?post_type=product&amp;...</td>\n",
       "      <td>0.0</td>\n",
       "      <td>product</td>\n",
       "      <td>NaN</td>\n",
       "      <td>0.0</td>\n",
       "    </tr>\n",
       "    <tr>\n",
       "      <th>3</th>\n",
       "      <td>15300</td>\n",
       "      <td>0</td>\n",
       "      <td>0</td>\n",
       "      <td>0</td>\n",
       "      <td>0.0</td>\n",
       "      <td>0.0</td>\n",
       "      <td>taxable</td>\n",
       "      <td>NaN</td>\n",
       "      <td>2.0</td>\n",
       "      <td>2018-02-08 14:08:36</td>\n",
       "      <td>...</td>\n",
       "      <td>pierre-jean-villa-croze-hermitage-accroche-coe...</td>\n",
       "      <td>2020-06-26 18:15:03</td>\n",
       "      <td>2020-06-26 16:15:03</td>\n",
       "      <td>NaN</td>\n",
       "      <td>0.0</td>\n",
       "      <td>https://www.bottle-neck.fr/?post_type=product&amp;...</td>\n",
       "      <td>0.0</td>\n",
       "      <td>product</td>\n",
       "      <td>NaN</td>\n",
       "      <td>0.0</td>\n",
       "    </tr>\n",
       "    <tr>\n",
       "      <th>4</th>\n",
       "      <td>19814</td>\n",
       "      <td>0</td>\n",
       "      <td>0</td>\n",
       "      <td>0</td>\n",
       "      <td>0.0</td>\n",
       "      <td>3.0</td>\n",
       "      <td>taxable</td>\n",
       "      <td>NaN</td>\n",
       "      <td>2.0</td>\n",
       "      <td>2018-02-09 14:01:05</td>\n",
       "      <td>...</td>\n",
       "      <td>pierre-jean-villa-igp-gamine-2018</td>\n",
       "      <td>2020-01-04 16:36:01</td>\n",
       "      <td>2020-01-04 15:36:01</td>\n",
       "      <td>NaN</td>\n",
       "      <td>0.0</td>\n",
       "      <td>https://www.bottle-neck.fr/?post_type=product&amp;...</td>\n",
       "      <td>0.0</td>\n",
       "      <td>product</td>\n",
       "      <td>NaN</td>\n",
       "      <td>0.0</td>\n",
       "    </tr>\n",
       "  </tbody>\n",
       "</table>\n",
       "<p>5 rows × 28 columns</p>\n",
       "</div>"
      ],
      "text/plain": [
       "                   sku  virtual  downloadable  rating_count  average_rating  \\\n",
       "0  bon-cadeau-25-euros        0             0             0             0.0   \n",
       "1                15298        0             0             0             0.0   \n",
       "2                15296        0             0             0             0.0   \n",
       "3                15300        0             0             0             0.0   \n",
       "4                19814        0             0             0             0.0   \n",
       "\n",
       "   total_sales tax_status  tax_class  post_author           post_date  ...  \\\n",
       "0         10.0    taxable        NaN          1.0 2018-06-01 13:53:46  ...   \n",
       "1          6.0    taxable        NaN          2.0 2018-02-08 12:58:52  ...   \n",
       "2          0.0    taxable        NaN          2.0 2018-02-08 13:49:41  ...   \n",
       "3          0.0    taxable        NaN          2.0 2018-02-08 14:08:36  ...   \n",
       "4          3.0    taxable        NaN          2.0 2018-02-09 14:01:05  ...   \n",
       "\n",
       "                                           post_name       post_modified  \\\n",
       "0                             bon-cadeau-de-25-euros 2018-06-01 14:13:57   \n",
       "1        pierre-jean-villa-saint-joseph-preface-2018 2019-12-30 09:30:29   \n",
       "2          pierre-jean-villa-saint-joseph-tilde-2017 2019-12-21 09:00:17   \n",
       "3  pierre-jean-villa-croze-hermitage-accroche-coe... 2020-06-26 18:15:03   \n",
       "4                  pierre-jean-villa-igp-gamine-2018 2020-01-04 16:36:01   \n",
       "\n",
       "    post_modified_gmt post_content_filtered post_parent  \\\n",
       "0 2018-06-01 12:13:57                   NaN         0.0   \n",
       "1 2019-12-30 08:30:29                   NaN         0.0   \n",
       "2 2019-12-21 08:00:17                   NaN         0.0   \n",
       "3 2020-06-26 16:15:03                   NaN         0.0   \n",
       "4 2020-01-04 15:36:01                   NaN         0.0   \n",
       "\n",
       "                                                guid menu_order  post_type  \\\n",
       "0  https://www.bottle-neck.fr/?post_type=product&...        0.0    product   \n",
       "1  https://www.bottle-neck.fr/?post_type=product&...        0.0    product   \n",
       "2  https://www.bottle-neck.fr/?post_type=product&...        0.0    product   \n",
       "3  https://www.bottle-neck.fr/?post_type=product&...        0.0    product   \n",
       "4  https://www.bottle-neck.fr/?post_type=product&...        0.0    product   \n",
       "\n",
       "  post_mime_type comment_count  \n",
       "0            NaN           0.0  \n",
       "1            NaN           0.0  \n",
       "2            NaN           0.0  \n",
       "3            NaN           0.0  \n",
       "4            NaN           0.0  \n",
       "\n",
       "[5 rows x 28 columns]"
      ]
     },
     "execution_count": 3,
     "metadata": {},
     "output_type": "execute_result"
    }
   ],
   "source": [
    "donnees_web = pd.read_excel('web.xlsx')\n",
    "donnees_web.head()"
   ]
  },
  {
   "cell_type": "code",
   "execution_count": 4,
   "id": "c95acf95",
   "metadata": {},
   "outputs": [
    {
     "data": {
      "text/plain": [
       "(1513, 28)"
      ]
     },
     "execution_count": 4,
     "metadata": {},
     "output_type": "execute_result"
    }
   ],
   "source": [
    "donnees_web.shape"
   ]
  },
  {
   "cell_type": "code",
   "execution_count": 5,
   "id": "b18ad330",
   "metadata": {},
   "outputs": [
    {
     "data": {
      "text/plain": [
       "sku                              object\n",
       "virtual                           int64\n",
       "downloadable                      int64\n",
       "rating_count                      int64\n",
       "average_rating                  float64\n",
       "total_sales                     float64\n",
       "tax_status                       object\n",
       "tax_class                       float64\n",
       "post_author                     float64\n",
       "post_date                datetime64[ns]\n",
       "post_date_gmt            datetime64[ns]\n",
       "post_content                    float64\n",
       "post_title                       object\n",
       "post_excerpt                     object\n",
       "post_status                      object\n",
       "comment_status                   object\n",
       "ping_status                      object\n",
       "post_password                   float64\n",
       "post_name                        object\n",
       "post_modified            datetime64[ns]\n",
       "post_modified_gmt        datetime64[ns]\n",
       "post_content_filtered           float64\n",
       "post_parent                     float64\n",
       "guid                             object\n",
       "menu_order                      float64\n",
       "post_type                        object\n",
       "post_mime_type                   object\n",
       "comment_count                   float64\n",
       "dtype: object"
      ]
     },
     "execution_count": 5,
     "metadata": {},
     "output_type": "execute_result"
    }
   ],
   "source": [
    "donnees_web.dtypes"
   ]
  },
  {
   "cell_type": "code",
   "execution_count": 6,
   "id": "9cee2c3c",
   "metadata": {},
   "outputs": [
    {
     "data": {
      "text/plain": [
       "Index(['sku', 'virtual', 'downloadable', 'rating_count', 'average_rating',\n",
       "       'total_sales', 'tax_status', 'tax_class', 'post_author', 'post_date',\n",
       "       'post_date_gmt', 'post_content', 'post_title', 'post_excerpt',\n",
       "       'post_status', 'comment_status', 'ping_status', 'post_password',\n",
       "       'post_name', 'post_modified', 'post_modified_gmt',\n",
       "       'post_content_filtered', 'post_parent', 'guid', 'menu_order',\n",
       "       'post_type', 'post_mime_type', 'comment_count'],\n",
       "      dtype='object')"
      ]
     },
     "execution_count": 6,
     "metadata": {},
     "output_type": "execute_result"
    }
   ],
   "source": [
    "donnees_web.columns"
   ]
  },
  {
   "cell_type": "code",
   "execution_count": 7,
   "id": "817639aa",
   "metadata": {},
   "outputs": [
    {
     "data": {
      "text/html": [
       "<div>\n",
       "<style scoped>\n",
       "    .dataframe tbody tr th:only-of-type {\n",
       "        vertical-align: middle;\n",
       "    }\n",
       "\n",
       "    .dataframe tbody tr th {\n",
       "        vertical-align: top;\n",
       "    }\n",
       "\n",
       "    .dataframe thead th {\n",
       "        text-align: right;\n",
       "    }\n",
       "</style>\n",
       "<table border=\"1\" class=\"dataframe\">\n",
       "  <thead>\n",
       "    <tr style=\"text-align: right;\">\n",
       "      <th></th>\n",
       "      <th>sku</th>\n",
       "      <th>total_sales</th>\n",
       "      <th>post_title</th>\n",
       "      <th>post_type</th>\n",
       "    </tr>\n",
       "  </thead>\n",
       "  <tbody>\n",
       "    <tr>\n",
       "      <th>0</th>\n",
       "      <td>bon-cadeau-25-euros</td>\n",
       "      <td>10.0</td>\n",
       "      <td>Bon cadeau de 25€</td>\n",
       "      <td>product</td>\n",
       "    </tr>\n",
       "    <tr>\n",
       "      <th>1</th>\n",
       "      <td>15298</td>\n",
       "      <td>6.0</td>\n",
       "      <td>Pierre Jean Villa Saint-Joseph Préface 2018</td>\n",
       "      <td>product</td>\n",
       "    </tr>\n",
       "    <tr>\n",
       "      <th>2</th>\n",
       "      <td>15296</td>\n",
       "      <td>0.0</td>\n",
       "      <td>Pierre Jean Villa Saint-Joseph Rouge Tildé 2017</td>\n",
       "      <td>product</td>\n",
       "    </tr>\n",
       "    <tr>\n",
       "      <th>3</th>\n",
       "      <td>15300</td>\n",
       "      <td>0.0</td>\n",
       "      <td>Pierre Jean Villa Crozes-Hermitage Accroche Co...</td>\n",
       "      <td>product</td>\n",
       "    </tr>\n",
       "    <tr>\n",
       "      <th>4</th>\n",
       "      <td>19814</td>\n",
       "      <td>3.0</td>\n",
       "      <td>Pierre Jean Villa IGP Collines Rhodaniennes Ga...</td>\n",
       "      <td>product</td>\n",
       "    </tr>\n",
       "  </tbody>\n",
       "</table>\n",
       "</div>"
      ],
      "text/plain": [
       "                   sku  total_sales  \\\n",
       "0  bon-cadeau-25-euros         10.0   \n",
       "1                15298          6.0   \n",
       "2                15296          0.0   \n",
       "3                15300          0.0   \n",
       "4                19814          3.0   \n",
       "\n",
       "                                          post_title post_type  \n",
       "0                                  Bon cadeau de 25€   product  \n",
       "1        Pierre Jean Villa Saint-Joseph Préface 2018   product  \n",
       "2    Pierre Jean Villa Saint-Joseph Rouge Tildé 2017   product  \n",
       "3  Pierre Jean Villa Crozes-Hermitage Accroche Co...   product  \n",
       "4  Pierre Jean Villa IGP Collines Rhodaniennes Ga...   product  "
      ]
     },
     "execution_count": 7,
     "metadata": {},
     "output_type": "execute_result"
    }
   ],
   "source": [
    "donnees_web.drop(['virtual', 'downloadable', 'rating_count', 'average_rating',\n",
    "       'tax_status', 'tax_class', 'post_author', 'post_date',\n",
    "       'post_date_gmt', 'post_content', 'post_excerpt',\n",
    "       'post_status', 'comment_status', 'ping_status', 'post_password',\n",
    "       'post_name', 'post_modified', 'post_modified_gmt',\n",
    "       'post_content_filtered', 'post_parent', 'guid', 'menu_order',\n",
    "       'post_mime_type', 'comment_count'], axis=1, inplace=True)\n",
    "donnees_web.head()"
   ]
  },
  {
   "cell_type": "code",
   "execution_count": 8,
   "id": "235db8b0",
   "metadata": {},
   "outputs": [
    {
     "data": {
      "text/plain": [
       "sku             object\n",
       "total_sales    float64\n",
       "post_title      object\n",
       "post_type       object\n",
       "dtype: object"
      ]
     },
     "execution_count": 8,
     "metadata": {},
     "output_type": "execute_result"
    }
   ],
   "source": [
    "donnees_web.dtypes"
   ]
  },
  {
   "cell_type": "code",
   "execution_count": 9,
   "id": "73aa4a40",
   "metadata": {},
   "outputs": [
    {
     "data": {
      "text/plain": [
       "sku            0.056180\n",
       "total_sales    0.054858\n",
       "post_title     0.054858\n",
       "post_type      0.054858\n",
       "dtype: float64"
      ]
     },
     "execution_count": 9,
     "metadata": {},
     "output_type": "execute_result"
    }
   ],
   "source": [
    "donnees_web.isna().mean()"
   ]
  },
  {
   "cell_type": "markdown",
   "id": "809e8128",
   "metadata": {},
   "source": [
    "Je vais remplacer les valeurs nulles par zéro pour faciliter le traitement."
   ]
  },
  {
   "cell_type": "code",
   "execution_count": 10,
   "id": "05ad1302",
   "metadata": {},
   "outputs": [],
   "source": [
    "donnees_web.fillna(0, inplace=True)"
   ]
  },
  {
   "cell_type": "code",
   "execution_count": 11,
   "id": "063b7927",
   "metadata": {},
   "outputs": [
    {
     "data": {
      "text/plain": [
       "array(['product', 0, 'attachment'], dtype=object)"
      ]
     },
     "execution_count": 11,
     "metadata": {},
     "output_type": "execute_result"
    }
   ],
   "source": [
    "donnees_web['post_type'].unique()"
   ]
  },
  {
   "cell_type": "markdown",
   "id": "76bcccb1",
   "metadata": {},
   "source": [
    "Nous allons travailler sur les produits je vais donc faire un filtre pour ne garder que cette catégotie dans mon fichier \"donnees_web\"."
   ]
  },
  {
   "cell_type": "code",
   "execution_count": 12,
   "id": "cef9b766",
   "metadata": {},
   "outputs": [
    {
     "data": {
      "text/plain": [
       "(716, 4)"
      ]
     },
     "execution_count": 12,
     "metadata": {},
     "output_type": "execute_result"
    }
   ],
   "source": [
    "donnees_web = donnees_web.loc[donnees_web['post_type'] == 'product']\n",
    "donnees_web.shape"
   ]
  },
  {
   "cell_type": "markdown",
   "id": "c8028c5e",
   "metadata": {},
   "source": [
    "2. Lecture et analyse du deuxieme fichier excel."
   ]
  },
  {
   "cell_type": "code",
   "execution_count": 13,
   "id": "b649c46e",
   "metadata": {},
   "outputs": [
    {
     "name": "stderr",
     "output_type": "stream",
     "text": [
      "/Users/cedricmary/opt/anaconda3/lib/python3.9/site-packages/openpyxl/worksheet/_reader.py:312: UserWarning: Unknown extension is not supported and will be removed\n",
      "  warn(msg)\n"
     ]
    },
    {
     "data": {
      "text/html": [
       "<div>\n",
       "<style scoped>\n",
       "    .dataframe tbody tr th:only-of-type {\n",
       "        vertical-align: middle;\n",
       "    }\n",
       "\n",
       "    .dataframe tbody tr th {\n",
       "        vertical-align: top;\n",
       "    }\n",
       "\n",
       "    .dataframe thead th {\n",
       "        text-align: right;\n",
       "    }\n",
       "</style>\n",
       "<table border=\"1\" class=\"dataframe\">\n",
       "  <thead>\n",
       "    <tr style=\"text-align: right;\">\n",
       "      <th></th>\n",
       "      <th>product_id</th>\n",
       "      <th>onsale_web</th>\n",
       "      <th>price</th>\n",
       "      <th>stock_quantity</th>\n",
       "      <th>stock_status</th>\n",
       "    </tr>\n",
       "  </thead>\n",
       "  <tbody>\n",
       "    <tr>\n",
       "      <th>0</th>\n",
       "      <td>3847</td>\n",
       "      <td>1</td>\n",
       "      <td>24.2</td>\n",
       "      <td>0</td>\n",
       "      <td>outofstock</td>\n",
       "    </tr>\n",
       "    <tr>\n",
       "      <th>1</th>\n",
       "      <td>3849</td>\n",
       "      <td>1</td>\n",
       "      <td>34.3</td>\n",
       "      <td>0</td>\n",
       "      <td>outofstock</td>\n",
       "    </tr>\n",
       "    <tr>\n",
       "      <th>2</th>\n",
       "      <td>3850</td>\n",
       "      <td>1</td>\n",
       "      <td>20.8</td>\n",
       "      <td>0</td>\n",
       "      <td>outofstock</td>\n",
       "    </tr>\n",
       "    <tr>\n",
       "      <th>3</th>\n",
       "      <td>4032</td>\n",
       "      <td>1</td>\n",
       "      <td>14.1</td>\n",
       "      <td>0</td>\n",
       "      <td>outofstock</td>\n",
       "    </tr>\n",
       "    <tr>\n",
       "      <th>4</th>\n",
       "      <td>4039</td>\n",
       "      <td>1</td>\n",
       "      <td>46.0</td>\n",
       "      <td>0</td>\n",
       "      <td>outofstock</td>\n",
       "    </tr>\n",
       "  </tbody>\n",
       "</table>\n",
       "</div>"
      ],
      "text/plain": [
       "   product_id  onsale_web  price  stock_quantity stock_status\n",
       "0        3847           1   24.2               0   outofstock\n",
       "1        3849           1   34.3               0   outofstock\n",
       "2        3850           1   20.8               0   outofstock\n",
       "3        4032           1   14.1               0   outofstock\n",
       "4        4039           1   46.0               0   outofstock"
      ]
     },
     "execution_count": 13,
     "metadata": {},
     "output_type": "execute_result"
    }
   ],
   "source": [
    "produits = pd.read_excel('erp.xlsx')\n",
    "produits.head()"
   ]
  },
  {
   "cell_type": "code",
   "execution_count": 14,
   "id": "7324ec30",
   "metadata": {},
   "outputs": [
    {
     "data": {
      "text/plain": [
       "array([1, 0])"
      ]
     },
     "execution_count": 14,
     "metadata": {},
     "output_type": "execute_result"
    }
   ],
   "source": [
    "produits['onsale_web'].unique()"
   ]
  },
  {
   "cell_type": "code",
   "execution_count": 15,
   "id": "be1ea8f4",
   "metadata": {},
   "outputs": [
    {
     "data": {
      "text/plain": [
       "Index(['product_id', 'onsale_web', 'price', 'stock_quantity', 'stock_status'], dtype='object')"
      ]
     },
     "execution_count": 15,
     "metadata": {},
     "output_type": "execute_result"
    }
   ],
   "source": [
    "produits.columns"
   ]
  },
  {
   "cell_type": "code",
   "execution_count": 16,
   "id": "18ce5e7d",
   "metadata": {},
   "outputs": [
    {
     "data": {
      "text/html": [
       "<div>\n",
       "<style scoped>\n",
       "    .dataframe tbody tr th:only-of-type {\n",
       "        vertical-align: middle;\n",
       "    }\n",
       "\n",
       "    .dataframe tbody tr th {\n",
       "        vertical-align: top;\n",
       "    }\n",
       "\n",
       "    .dataframe thead th {\n",
       "        text-align: right;\n",
       "    }\n",
       "</style>\n",
       "<table border=\"1\" class=\"dataframe\">\n",
       "  <thead>\n",
       "    <tr style=\"text-align: right;\">\n",
       "      <th></th>\n",
       "      <th>product_id</th>\n",
       "      <th>price</th>\n",
       "    </tr>\n",
       "  </thead>\n",
       "  <tbody>\n",
       "    <tr>\n",
       "      <th>0</th>\n",
       "      <td>3847</td>\n",
       "      <td>24.2</td>\n",
       "    </tr>\n",
       "    <tr>\n",
       "      <th>1</th>\n",
       "      <td>3849</td>\n",
       "      <td>34.3</td>\n",
       "    </tr>\n",
       "    <tr>\n",
       "      <th>2</th>\n",
       "      <td>3850</td>\n",
       "      <td>20.8</td>\n",
       "    </tr>\n",
       "    <tr>\n",
       "      <th>3</th>\n",
       "      <td>4032</td>\n",
       "      <td>14.1</td>\n",
       "    </tr>\n",
       "    <tr>\n",
       "      <th>4</th>\n",
       "      <td>4039</td>\n",
       "      <td>46.0</td>\n",
       "    </tr>\n",
       "  </tbody>\n",
       "</table>\n",
       "</div>"
      ],
      "text/plain": [
       "   product_id  price\n",
       "0        3847   24.2\n",
       "1        3849   34.3\n",
       "2        3850   20.8\n",
       "3        4032   14.1\n",
       "4        4039   46.0"
      ]
     },
     "execution_count": 16,
     "metadata": {},
     "output_type": "execute_result"
    }
   ],
   "source": [
    "produits.drop(['onsale_web', 'stock_quantity', 'stock_status'], axis=1, inplace=True)\n",
    "produits.head()"
   ]
  },
  {
   "cell_type": "code",
   "execution_count": 17,
   "id": "0f6e6d48",
   "metadata": {},
   "outputs": [
    {
     "data": {
      "text/plain": [
       "(825, 2)"
      ]
     },
     "execution_count": 17,
     "metadata": {},
     "output_type": "execute_result"
    }
   ],
   "source": [
    "produits.shape"
   ]
  },
  {
   "cell_type": "code",
   "execution_count": 18,
   "id": "ca3d5b77",
   "metadata": {},
   "outputs": [
    {
     "data": {
      "text/plain": [
       "product_id      int64\n",
       "price         float64\n",
       "dtype: object"
      ]
     },
     "execution_count": 18,
     "metadata": {},
     "output_type": "execute_result"
    }
   ],
   "source": [
    "produits.dtypes"
   ]
  },
  {
   "cell_type": "markdown",
   "id": "a8d928ef",
   "metadata": {},
   "source": [
    "3. Lecture et analyse du dernier fichier."
   ]
  },
  {
   "cell_type": "code",
   "execution_count": 19,
   "id": "05d67d8f",
   "metadata": {},
   "outputs": [
    {
     "name": "stderr",
     "output_type": "stream",
     "text": [
      "/Users/cedricmary/opt/anaconda3/lib/python3.9/site-packages/openpyxl/worksheet/_reader.py:312: UserWarning: Unknown extension is not supported and will be removed\n",
      "  warn(msg)\n"
     ]
    },
    {
     "data": {
      "text/html": [
       "<div>\n",
       "<style scoped>\n",
       "    .dataframe tbody tr th:only-of-type {\n",
       "        vertical-align: middle;\n",
       "    }\n",
       "\n",
       "    .dataframe tbody tr th {\n",
       "        vertical-align: top;\n",
       "    }\n",
       "\n",
       "    .dataframe thead th {\n",
       "        text-align: right;\n",
       "    }\n",
       "</style>\n",
       "<table border=\"1\" class=\"dataframe\">\n",
       "  <thead>\n",
       "    <tr style=\"text-align: right;\">\n",
       "      <th></th>\n",
       "      <th>product_id</th>\n",
       "      <th>id_web</th>\n",
       "    </tr>\n",
       "  </thead>\n",
       "  <tbody>\n",
       "    <tr>\n",
       "      <th>0</th>\n",
       "      <td>3847</td>\n",
       "      <td>15298</td>\n",
       "    </tr>\n",
       "    <tr>\n",
       "      <th>1</th>\n",
       "      <td>3849</td>\n",
       "      <td>15296</td>\n",
       "    </tr>\n",
       "    <tr>\n",
       "      <th>2</th>\n",
       "      <td>3850</td>\n",
       "      <td>15300</td>\n",
       "    </tr>\n",
       "    <tr>\n",
       "      <th>3</th>\n",
       "      <td>4032</td>\n",
       "      <td>19814</td>\n",
       "    </tr>\n",
       "    <tr>\n",
       "      <th>4</th>\n",
       "      <td>4039</td>\n",
       "      <td>19815</td>\n",
       "    </tr>\n",
       "  </tbody>\n",
       "</table>\n",
       "</div>"
      ],
      "text/plain": [
       "   product_id id_web\n",
       "0        3847  15298\n",
       "1        3849  15296\n",
       "2        3850  15300\n",
       "3        4032  19814\n",
       "4        4039  19815"
      ]
     },
     "execution_count": 19,
     "metadata": {},
     "output_type": "execute_result"
    }
   ],
   "source": [
    "liaison = pd.read_excel('liaison.xlsx')\n",
    "liaison.head()"
   ]
  },
  {
   "cell_type": "code",
   "execution_count": 20,
   "id": "0aa6ed55",
   "metadata": {},
   "outputs": [
    {
     "data": {
      "text/plain": [
       "(825, 2)"
      ]
     },
     "execution_count": 20,
     "metadata": {},
     "output_type": "execute_result"
    }
   ],
   "source": [
    "liaison.shape"
   ]
  },
  {
   "cell_type": "code",
   "execution_count": 21,
   "id": "3b8779b2",
   "metadata": {},
   "outputs": [
    {
     "data": {
      "text/plain": [
       "product_id     int64\n",
       "id_web        object\n",
       "dtype: object"
      ]
     },
     "execution_count": 21,
     "metadata": {},
     "output_type": "execute_result"
    }
   ],
   "source": [
    "liaison.dtypes"
   ]
  },
  {
   "cell_type": "markdown",
   "id": "40f20a96",
   "metadata": {},
   "source": [
    "## Partie 2 - Jointures des différents fichiers"
   ]
  },
  {
   "cell_type": "markdown",
   "id": "a0597d4d",
   "metadata": {},
   "source": [
    "Je vérifie dans un premier temps que mes clés primaires sont toutes non nulles et uniques."
   ]
  },
  {
   "cell_type": "code",
   "execution_count": 22,
   "id": "f810ad17",
   "metadata": {},
   "outputs": [
    {
     "data": {
      "text/plain": [
       "product_id    0.000000\n",
       "id_web        0.110303\n",
       "dtype: float64"
      ]
     },
     "execution_count": 22,
     "metadata": {},
     "output_type": "execute_result"
    }
   ],
   "source": [
    "liaison.isna().mean()"
   ]
  },
  {
   "cell_type": "code",
   "execution_count": 23,
   "id": "cb9cb21e",
   "metadata": {},
   "outputs": [
    {
     "data": {
      "text/plain": [
       "product_id    0.0\n",
       "price         0.0\n",
       "dtype: float64"
      ]
     },
     "execution_count": 23,
     "metadata": {},
     "output_type": "execute_result"
    }
   ],
   "source": [
    "produits.isna().mean() "
   ]
  },
  {
   "cell_type": "code",
   "execution_count": 24,
   "id": "0d819ab9",
   "metadata": {},
   "outputs": [
    {
     "data": {
      "text/plain": [
       "sku            0.0\n",
       "total_sales    0.0\n",
       "post_title     0.0\n",
       "post_type      0.0\n",
       "dtype: float64"
      ]
     },
     "execution_count": 24,
     "metadata": {},
     "output_type": "execute_result"
    }
   ],
   "source": [
    "donnees_web.isna().mean() "
   ]
  },
  {
   "cell_type": "code",
   "execution_count": 25,
   "id": "c4985387",
   "metadata": {},
   "outputs": [
    {
     "name": "stdout",
     "output_type": "stream",
     "text": [
      "Empty DataFrame\n",
      "Columns: [product_id, id_web]\n",
      "Index: []\n"
     ]
    }
   ],
   "source": [
    "liaison_duplicate = liaison[liaison.duplicated()]\n",
    "print(liaison_duplicate)"
   ]
  },
  {
   "cell_type": "code",
   "execution_count": 26,
   "id": "bf453189",
   "metadata": {},
   "outputs": [
    {
     "name": "stdout",
     "output_type": "stream",
     "text": [
      "Empty DataFrame\n",
      "Columns: [product_id, price]\n",
      "Index: []\n"
     ]
    }
   ],
   "source": [
    "produits_duplicate = produits[produits.duplicated(['product_id'])]\n",
    "print(produits_duplicate)"
   ]
  },
  {
   "cell_type": "code",
   "execution_count": 27,
   "id": "713d9567",
   "metadata": {},
   "outputs": [
    {
     "name": "stdout",
     "output_type": "stream",
     "text": [
      "Empty DataFrame\n",
      "Columns: [product_id, price]\n",
      "Index: []\n"
     ]
    }
   ],
   "source": [
    "donnees_web_duplicate = donnees_web[donnees_web.duplicated(['sku'])]\n",
    "print(produits_duplicate)"
   ]
  },
  {
   "cell_type": "markdown",
   "id": "1e462a74",
   "metadata": {},
   "source": [
    "Je vais joindre le fichier produits avec le fichier liaison. "
   ]
  },
  {
   "cell_type": "code",
   "execution_count": 45,
   "id": "ad8ab444",
   "metadata": {},
   "outputs": [
    {
     "data": {
      "text/html": [
       "<div>\n",
       "<style scoped>\n",
       "    .dataframe tbody tr th:only-of-type {\n",
       "        vertical-align: middle;\n",
       "    }\n",
       "\n",
       "    .dataframe tbody tr th {\n",
       "        vertical-align: top;\n",
       "    }\n",
       "\n",
       "    .dataframe thead th {\n",
       "        text-align: right;\n",
       "    }\n",
       "</style>\n",
       "<table border=\"1\" class=\"dataframe\">\n",
       "  <thead>\n",
       "    <tr style=\"text-align: right;\">\n",
       "      <th></th>\n",
       "      <th>product_id</th>\n",
       "      <th>price</th>\n",
       "      <th>id_web</th>\n",
       "      <th>_merge</th>\n",
       "    </tr>\n",
       "  </thead>\n",
       "  <tbody>\n",
       "    <tr>\n",
       "      <th>0</th>\n",
       "      <td>3847</td>\n",
       "      <td>24.2</td>\n",
       "      <td>15298</td>\n",
       "      <td>both</td>\n",
       "    </tr>\n",
       "    <tr>\n",
       "      <th>1</th>\n",
       "      <td>3849</td>\n",
       "      <td>34.3</td>\n",
       "      <td>15296</td>\n",
       "      <td>both</td>\n",
       "    </tr>\n",
       "    <tr>\n",
       "      <th>2</th>\n",
       "      <td>3850</td>\n",
       "      <td>20.8</td>\n",
       "      <td>15300</td>\n",
       "      <td>both</td>\n",
       "    </tr>\n",
       "    <tr>\n",
       "      <th>3</th>\n",
       "      <td>4032</td>\n",
       "      <td>14.1</td>\n",
       "      <td>19814</td>\n",
       "      <td>both</td>\n",
       "    </tr>\n",
       "    <tr>\n",
       "      <th>4</th>\n",
       "      <td>4039</td>\n",
       "      <td>46.0</td>\n",
       "      <td>19815</td>\n",
       "      <td>both</td>\n",
       "    </tr>\n",
       "  </tbody>\n",
       "</table>\n",
       "</div>"
      ],
      "text/plain": [
       "   product_id  price id_web _merge\n",
       "0        3847   24.2  15298   both\n",
       "1        3849   34.3  15296   both\n",
       "2        3850   20.8  15300   both\n",
       "3        4032   14.1  19814   both\n",
       "4        4039   46.0  19815   both"
      ]
     },
     "execution_count": 45,
     "metadata": {},
     "output_type": "execute_result"
    }
   ],
   "source": [
    "premiere_liaison = pd.merge (produits, liaison, how='outer', on=['product_id'], indicator=True)\n",
    "premiere_liaison.head()"
   ]
  },
  {
   "cell_type": "code",
   "execution_count": 46,
   "id": "e7fbbb2b",
   "metadata": {},
   "outputs": [
    {
     "data": {
      "text/plain": [
       "['both']\n",
       "Categories (3, object): ['left_only', 'right_only', 'both']"
      ]
     },
     "execution_count": 46,
     "metadata": {},
     "output_type": "execute_result"
    }
   ],
   "source": [
    "premiere_liaison['_merge'].unique()"
   ]
  },
  {
   "cell_type": "code",
   "execution_count": 47,
   "id": "394269ee",
   "metadata": {},
   "outputs": [
    {
     "data": {
      "text/html": [
       "<div>\n",
       "<style scoped>\n",
       "    .dataframe tbody tr th:only-of-type {\n",
       "        vertical-align: middle;\n",
       "    }\n",
       "\n",
       "    .dataframe tbody tr th {\n",
       "        vertical-align: top;\n",
       "    }\n",
       "\n",
       "    .dataframe thead th {\n",
       "        text-align: right;\n",
       "    }\n",
       "</style>\n",
       "<table border=\"1\" class=\"dataframe\">\n",
       "  <thead>\n",
       "    <tr style=\"text-align: right;\">\n",
       "      <th></th>\n",
       "      <th>product_id</th>\n",
       "      <th>price</th>\n",
       "      <th>id_web</th>\n",
       "      <th>_merge</th>\n",
       "    </tr>\n",
       "  </thead>\n",
       "  <tbody>\n",
       "  </tbody>\n",
       "</table>\n",
       "</div>"
      ],
      "text/plain": [
       "Empty DataFrame\n",
       "Columns: [product_id, price, id_web, _merge]\n",
       "Index: []"
      ]
     },
     "execution_count": 47,
     "metadata": {},
     "output_type": "execute_result"
    }
   ],
   "source": [
    "premiere_liaison.loc[premiere_liaison['_merge'] == 'right_only']"
   ]
  },
  {
   "cell_type": "markdown",
   "id": "0e271d52",
   "metadata": {},
   "source": [
    "Toutes les clés de la table liaison ont une correspondance avec celles de la table produits."
   ]
  },
  {
   "cell_type": "code",
   "execution_count": 48,
   "id": "9027250b",
   "metadata": {},
   "outputs": [
    {
     "data": {
      "text/html": [
       "<div>\n",
       "<style scoped>\n",
       "    .dataframe tbody tr th:only-of-type {\n",
       "        vertical-align: middle;\n",
       "    }\n",
       "\n",
       "    .dataframe tbody tr th {\n",
       "        vertical-align: top;\n",
       "    }\n",
       "\n",
       "    .dataframe thead th {\n",
       "        text-align: right;\n",
       "    }\n",
       "</style>\n",
       "<table border=\"1\" class=\"dataframe\">\n",
       "  <thead>\n",
       "    <tr style=\"text-align: right;\">\n",
       "      <th></th>\n",
       "      <th>product_id</th>\n",
       "      <th>price</th>\n",
       "      <th>id_web</th>\n",
       "      <th>_merge</th>\n",
       "    </tr>\n",
       "  </thead>\n",
       "  <tbody>\n",
       "  </tbody>\n",
       "</table>\n",
       "</div>"
      ],
      "text/plain": [
       "Empty DataFrame\n",
       "Columns: [product_id, price, id_web, _merge]\n",
       "Index: []"
      ]
     },
     "execution_count": 48,
     "metadata": {},
     "output_type": "execute_result"
    }
   ],
   "source": [
    "premiere_liaison.loc[premiere_liaison['_merge'] == 'left_only']"
   ]
  },
  {
   "cell_type": "markdown",
   "id": "33ca1e26",
   "metadata": {},
   "source": [
    "Toutes les clés de la table produits ont une correspondance avec celles de la table liaison."
   ]
  },
  {
   "cell_type": "code",
   "execution_count": 49,
   "id": "815e3510",
   "metadata": {},
   "outputs": [
    {
     "data": {
      "text/html": [
       "<div>\n",
       "<style scoped>\n",
       "    .dataframe tbody tr th:only-of-type {\n",
       "        vertical-align: middle;\n",
       "    }\n",
       "\n",
       "    .dataframe tbody tr th {\n",
       "        vertical-align: top;\n",
       "    }\n",
       "\n",
       "    .dataframe thead th {\n",
       "        text-align: right;\n",
       "    }\n",
       "</style>\n",
       "<table border=\"1\" class=\"dataframe\">\n",
       "  <thead>\n",
       "    <tr style=\"text-align: right;\">\n",
       "      <th></th>\n",
       "      <th>product_id</th>\n",
       "      <th>price</th>\n",
       "      <th>id_web</th>\n",
       "      <th>_merge</th>\n",
       "    </tr>\n",
       "  </thead>\n",
       "  <tbody>\n",
       "    <tr>\n",
       "      <th>0</th>\n",
       "      <td>3847</td>\n",
       "      <td>24.2</td>\n",
       "      <td>15298</td>\n",
       "      <td>both</td>\n",
       "    </tr>\n",
       "    <tr>\n",
       "      <th>1</th>\n",
       "      <td>3849</td>\n",
       "      <td>34.3</td>\n",
       "      <td>15296</td>\n",
       "      <td>both</td>\n",
       "    </tr>\n",
       "    <tr>\n",
       "      <th>2</th>\n",
       "      <td>3850</td>\n",
       "      <td>20.8</td>\n",
       "      <td>15300</td>\n",
       "      <td>both</td>\n",
       "    </tr>\n",
       "    <tr>\n",
       "      <th>3</th>\n",
       "      <td>4032</td>\n",
       "      <td>14.1</td>\n",
       "      <td>19814</td>\n",
       "      <td>both</td>\n",
       "    </tr>\n",
       "    <tr>\n",
       "      <th>4</th>\n",
       "      <td>4039</td>\n",
       "      <td>46.0</td>\n",
       "      <td>19815</td>\n",
       "      <td>both</td>\n",
       "    </tr>\n",
       "    <tr>\n",
       "      <th>...</th>\n",
       "      <td>...</td>\n",
       "      <td>...</td>\n",
       "      <td>...</td>\n",
       "      <td>...</td>\n",
       "    </tr>\n",
       "    <tr>\n",
       "      <th>820</th>\n",
       "      <td>7203</td>\n",
       "      <td>45.0</td>\n",
       "      <td>NaN</td>\n",
       "      <td>both</td>\n",
       "    </tr>\n",
       "    <tr>\n",
       "      <th>821</th>\n",
       "      <td>7204</td>\n",
       "      <td>45.0</td>\n",
       "      <td>NaN</td>\n",
       "      <td>both</td>\n",
       "    </tr>\n",
       "    <tr>\n",
       "      <th>822</th>\n",
       "      <td>7247</td>\n",
       "      <td>54.8</td>\n",
       "      <td>13127-1</td>\n",
       "      <td>both</td>\n",
       "    </tr>\n",
       "    <tr>\n",
       "      <th>823</th>\n",
       "      <td>7329</td>\n",
       "      <td>26.5</td>\n",
       "      <td>14680-1</td>\n",
       "      <td>both</td>\n",
       "    </tr>\n",
       "    <tr>\n",
       "      <th>824</th>\n",
       "      <td>7338</td>\n",
       "      <td>16.3</td>\n",
       "      <td>16230</td>\n",
       "      <td>both</td>\n",
       "    </tr>\n",
       "  </tbody>\n",
       "</table>\n",
       "<p>825 rows × 4 columns</p>\n",
       "</div>"
      ],
      "text/plain": [
       "     product_id  price   id_web _merge\n",
       "0          3847   24.2    15298   both\n",
       "1          3849   34.3    15296   both\n",
       "2          3850   20.8    15300   both\n",
       "3          4032   14.1    19814   both\n",
       "4          4039   46.0    19815   both\n",
       "..          ...    ...      ...    ...\n",
       "820        7203   45.0      NaN   both\n",
       "821        7204   45.0      NaN   both\n",
       "822        7247   54.8  13127-1   both\n",
       "823        7329   26.5  14680-1   both\n",
       "824        7338   16.3    16230   both\n",
       "\n",
       "[825 rows x 4 columns]"
      ]
     },
     "execution_count": 49,
     "metadata": {},
     "output_type": "execute_result"
    }
   ],
   "source": [
    "premiere_liaison.loc[premiere_liaison['_merge'] == 'both']"
   ]
  },
  {
   "cell_type": "code",
   "execution_count": 52,
   "id": "e3e73278",
   "metadata": {},
   "outputs": [],
   "source": [
    "premiere_liaison = premiere_liaison.drop(columns='_merge')"
   ]
  },
  {
   "cell_type": "markdown",
   "id": "9b6c575b",
   "metadata": {},
   "source": [
    "Je renomme la colonne id_web par sku pour faciliter la prochaine jointure avec le fichier des donnees web."
   ]
  },
  {
   "cell_type": "code",
   "execution_count": 53,
   "id": "599798ee",
   "metadata": {},
   "outputs": [
    {
     "data": {
      "text/html": [
       "<div>\n",
       "<style scoped>\n",
       "    .dataframe tbody tr th:only-of-type {\n",
       "        vertical-align: middle;\n",
       "    }\n",
       "\n",
       "    .dataframe tbody tr th {\n",
       "        vertical-align: top;\n",
       "    }\n",
       "\n",
       "    .dataframe thead th {\n",
       "        text-align: right;\n",
       "    }\n",
       "</style>\n",
       "<table border=\"1\" class=\"dataframe\">\n",
       "  <thead>\n",
       "    <tr style=\"text-align: right;\">\n",
       "      <th></th>\n",
       "      <th>product_id</th>\n",
       "      <th>price</th>\n",
       "      <th>sku</th>\n",
       "    </tr>\n",
       "  </thead>\n",
       "  <tbody>\n",
       "    <tr>\n",
       "      <th>0</th>\n",
       "      <td>3847</td>\n",
       "      <td>24.2</td>\n",
       "      <td>15298</td>\n",
       "    </tr>\n",
       "    <tr>\n",
       "      <th>1</th>\n",
       "      <td>3849</td>\n",
       "      <td>34.3</td>\n",
       "      <td>15296</td>\n",
       "    </tr>\n",
       "    <tr>\n",
       "      <th>2</th>\n",
       "      <td>3850</td>\n",
       "      <td>20.8</td>\n",
       "      <td>15300</td>\n",
       "    </tr>\n",
       "    <tr>\n",
       "      <th>3</th>\n",
       "      <td>4032</td>\n",
       "      <td>14.1</td>\n",
       "      <td>19814</td>\n",
       "    </tr>\n",
       "    <tr>\n",
       "      <th>4</th>\n",
       "      <td>4039</td>\n",
       "      <td>46.0</td>\n",
       "      <td>19815</td>\n",
       "    </tr>\n",
       "  </tbody>\n",
       "</table>\n",
       "</div>"
      ],
      "text/plain": [
       "   product_id  price    sku\n",
       "0        3847   24.2  15298\n",
       "1        3849   34.3  15296\n",
       "2        3850   20.8  15300\n",
       "3        4032   14.1  19814\n",
       "4        4039   46.0  19815"
      ]
     },
     "execution_count": 53,
     "metadata": {},
     "output_type": "execute_result"
    }
   ],
   "source": [
    "premiere_liaison = premiere_liaison.rename(columns={\"id_web\": \"sku\"})\n",
    "premiere_liaison.head()"
   ]
  },
  {
   "cell_type": "code",
   "execution_count": 55,
   "id": "d1bd63e0",
   "metadata": {},
   "outputs": [
    {
     "data": {
      "text/html": [
       "<div>\n",
       "<style scoped>\n",
       "    .dataframe tbody tr th:only-of-type {\n",
       "        vertical-align: middle;\n",
       "    }\n",
       "\n",
       "    .dataframe tbody tr th {\n",
       "        vertical-align: top;\n",
       "    }\n",
       "\n",
       "    .dataframe thead th {\n",
       "        text-align: right;\n",
       "    }\n",
       "</style>\n",
       "<table border=\"1\" class=\"dataframe\">\n",
       "  <thead>\n",
       "    <tr style=\"text-align: right;\">\n",
       "      <th></th>\n",
       "      <th>product_id</th>\n",
       "      <th>price</th>\n",
       "      <th>sku</th>\n",
       "      <th>total_sales</th>\n",
       "      <th>post_title</th>\n",
       "      <th>post_type</th>\n",
       "      <th>_merge</th>\n",
       "    </tr>\n",
       "  </thead>\n",
       "  <tbody>\n",
       "    <tr>\n",
       "      <th>0</th>\n",
       "      <td>3847.0</td>\n",
       "      <td>24.2</td>\n",
       "      <td>15298</td>\n",
       "      <td>6.0</td>\n",
       "      <td>Pierre Jean Villa Saint-Joseph Préface 2018</td>\n",
       "      <td>product</td>\n",
       "      <td>both</td>\n",
       "    </tr>\n",
       "    <tr>\n",
       "      <th>1</th>\n",
       "      <td>3849.0</td>\n",
       "      <td>34.3</td>\n",
       "      <td>15296</td>\n",
       "      <td>0.0</td>\n",
       "      <td>Pierre Jean Villa Saint-Joseph Rouge Tildé 2017</td>\n",
       "      <td>product</td>\n",
       "      <td>both</td>\n",
       "    </tr>\n",
       "    <tr>\n",
       "      <th>2</th>\n",
       "      <td>3850.0</td>\n",
       "      <td>20.8</td>\n",
       "      <td>15300</td>\n",
       "      <td>0.0</td>\n",
       "      <td>Pierre Jean Villa Crozes-Hermitage Accroche Co...</td>\n",
       "      <td>product</td>\n",
       "      <td>both</td>\n",
       "    </tr>\n",
       "    <tr>\n",
       "      <th>3</th>\n",
       "      <td>4032.0</td>\n",
       "      <td>14.1</td>\n",
       "      <td>19814</td>\n",
       "      <td>3.0</td>\n",
       "      <td>Pierre Jean Villa IGP Collines Rhodaniennes Ga...</td>\n",
       "      <td>product</td>\n",
       "      <td>both</td>\n",
       "    </tr>\n",
       "    <tr>\n",
       "      <th>4</th>\n",
       "      <td>4039.0</td>\n",
       "      <td>46.0</td>\n",
       "      <td>19815</td>\n",
       "      <td>0.0</td>\n",
       "      <td>Pierre Jean Villa Côte Rôtie Carmina 2017</td>\n",
       "      <td>product</td>\n",
       "      <td>both</td>\n",
       "    </tr>\n",
       "  </tbody>\n",
       "</table>\n",
       "</div>"
      ],
      "text/plain": [
       "   product_id  price    sku  total_sales  \\\n",
       "0      3847.0   24.2  15298          6.0   \n",
       "1      3849.0   34.3  15296          0.0   \n",
       "2      3850.0   20.8  15300          0.0   \n",
       "3      4032.0   14.1  19814          3.0   \n",
       "4      4039.0   46.0  19815          0.0   \n",
       "\n",
       "                                          post_title post_type _merge  \n",
       "0        Pierre Jean Villa Saint-Joseph Préface 2018   product   both  \n",
       "1    Pierre Jean Villa Saint-Joseph Rouge Tildé 2017   product   both  \n",
       "2  Pierre Jean Villa Crozes-Hermitage Accroche Co...   product   both  \n",
       "3  Pierre Jean Villa IGP Collines Rhodaniennes Ga...   product   both  \n",
       "4          Pierre Jean Villa Côte Rôtie Carmina 2017   product   both  "
      ]
     },
     "execution_count": 55,
     "metadata": {},
     "output_type": "execute_result"
    }
   ],
   "source": [
    "fichier_final = pd.merge (premiere_liaison, donnees_web, how='outer', on=['sku'], indicator=True)\n",
    "fichier_final.head()"
   ]
  },
  {
   "cell_type": "code",
   "execution_count": 56,
   "id": "779deba2",
   "metadata": {},
   "outputs": [
    {
     "data": {
      "text/html": [
       "<div>\n",
       "<style scoped>\n",
       "    .dataframe tbody tr th:only-of-type {\n",
       "        vertical-align: middle;\n",
       "    }\n",
       "\n",
       "    .dataframe tbody tr th {\n",
       "        vertical-align: top;\n",
       "    }\n",
       "\n",
       "    .dataframe thead th {\n",
       "        text-align: right;\n",
       "    }\n",
       "</style>\n",
       "<table border=\"1\" class=\"dataframe\">\n",
       "  <thead>\n",
       "    <tr style=\"text-align: right;\">\n",
       "      <th></th>\n",
       "      <th>product_id</th>\n",
       "      <th>price</th>\n",
       "      <th>sku</th>\n",
       "      <th>total_sales</th>\n",
       "      <th>post_title</th>\n",
       "      <th>post_type</th>\n",
       "      <th>_merge</th>\n",
       "    </tr>\n",
       "  </thead>\n",
       "  <tbody>\n",
       "    <tr>\n",
       "      <th>825</th>\n",
       "      <td>NaN</td>\n",
       "      <td>NaN</td>\n",
       "      <td>0</td>\n",
       "      <td>0.0</td>\n",
       "      <td>Pierre Jean Villa Côte Rôtie Fongeant 2017</td>\n",
       "      <td>product</td>\n",
       "      <td>right_only</td>\n",
       "    </tr>\n",
       "    <tr>\n",
       "      <th>826</th>\n",
       "      <td>NaN</td>\n",
       "      <td>NaN</td>\n",
       "      <td>0</td>\n",
       "      <td>0.0</td>\n",
       "      <td>Pierre Jean Villa Condrieu Jardin Suspendu 2018</td>\n",
       "      <td>product</td>\n",
       "      <td>right_only</td>\n",
       "    </tr>\n",
       "  </tbody>\n",
       "</table>\n",
       "</div>"
      ],
      "text/plain": [
       "     product_id  price sku  total_sales  \\\n",
       "825         NaN    NaN   0          0.0   \n",
       "826         NaN    NaN   0          0.0   \n",
       "\n",
       "                                          post_title post_type      _merge  \n",
       "825       Pierre Jean Villa Côte Rôtie Fongeant 2017   product  right_only  \n",
       "826  Pierre Jean Villa Condrieu Jardin Suspendu 2018   product  right_only  "
      ]
     },
     "execution_count": 56,
     "metadata": {},
     "output_type": "execute_result"
    }
   ],
   "source": [
    "fichier_final.loc[fichier_final['_merge'] == 'right_only']"
   ]
  },
  {
   "cell_type": "markdown",
   "id": "7f624dbc",
   "metadata": {},
   "source": [
    "Ces deux produits ne sont présents que dans la table donnees_web et n'ont pas de correspondance dans la table liaison."
   ]
  },
  {
   "cell_type": "code",
   "execution_count": 57,
   "id": "5803c89a",
   "metadata": {},
   "outputs": [
    {
     "data": {
      "text/html": [
       "<div>\n",
       "<style scoped>\n",
       "    .dataframe tbody tr th:only-of-type {\n",
       "        vertical-align: middle;\n",
       "    }\n",
       "\n",
       "    .dataframe tbody tr th {\n",
       "        vertical-align: top;\n",
       "    }\n",
       "\n",
       "    .dataframe thead th {\n",
       "        text-align: right;\n",
       "    }\n",
       "</style>\n",
       "<table border=\"1\" class=\"dataframe\">\n",
       "  <thead>\n",
       "    <tr style=\"text-align: right;\">\n",
       "      <th></th>\n",
       "      <th>product_id</th>\n",
       "      <th>price</th>\n",
       "      <th>sku</th>\n",
       "      <th>total_sales</th>\n",
       "      <th>post_title</th>\n",
       "      <th>post_type</th>\n",
       "      <th>_merge</th>\n",
       "    </tr>\n",
       "  </thead>\n",
       "  <tbody>\n",
       "    <tr>\n",
       "      <th>19</th>\n",
       "      <td>4055.0</td>\n",
       "      <td>86.1</td>\n",
       "      <td>NaN</td>\n",
       "      <td>NaN</td>\n",
       "      <td>NaN</td>\n",
       "      <td>NaN</td>\n",
       "      <td>left_only</td>\n",
       "    </tr>\n",
       "    <tr>\n",
       "      <th>20</th>\n",
       "      <td>4090.0</td>\n",
       "      <td>73.0</td>\n",
       "      <td>NaN</td>\n",
       "      <td>NaN</td>\n",
       "      <td>NaN</td>\n",
       "      <td>NaN</td>\n",
       "      <td>left_only</td>\n",
       "    </tr>\n",
       "    <tr>\n",
       "      <th>21</th>\n",
       "      <td>4092.0</td>\n",
       "      <td>47.0</td>\n",
       "      <td>NaN</td>\n",
       "      <td>NaN</td>\n",
       "      <td>NaN</td>\n",
       "      <td>NaN</td>\n",
       "      <td>left_only</td>\n",
       "    </tr>\n",
       "    <tr>\n",
       "      <th>22</th>\n",
       "      <td>4195.0</td>\n",
       "      <td>14.1</td>\n",
       "      <td>NaN</td>\n",
       "      <td>NaN</td>\n",
       "      <td>NaN</td>\n",
       "      <td>NaN</td>\n",
       "      <td>left_only</td>\n",
       "    </tr>\n",
       "    <tr>\n",
       "      <th>23</th>\n",
       "      <td>4209.0</td>\n",
       "      <td>73.5</td>\n",
       "      <td>NaN</td>\n",
       "      <td>NaN</td>\n",
       "      <td>NaN</td>\n",
       "      <td>NaN</td>\n",
       "      <td>left_only</td>\n",
       "    </tr>\n",
       "    <tr>\n",
       "      <th>...</th>\n",
       "      <td>...</td>\n",
       "      <td>...</td>\n",
       "      <td>...</td>\n",
       "      <td>...</td>\n",
       "      <td>...</td>\n",
       "      <td>...</td>\n",
       "      <td>...</td>\n",
       "    </tr>\n",
       "    <tr>\n",
       "      <th>717</th>\n",
       "      <td>5954.0</td>\n",
       "      <td>18.8</td>\n",
       "      <td>15609</td>\n",
       "      <td>NaN</td>\n",
       "      <td>NaN</td>\n",
       "      <td>NaN</td>\n",
       "      <td>left_only</td>\n",
       "    </tr>\n",
       "    <tr>\n",
       "      <th>718</th>\n",
       "      <td>5955.0</td>\n",
       "      <td>27.3</td>\n",
       "      <td>14377</td>\n",
       "      <td>NaN</td>\n",
       "      <td>NaN</td>\n",
       "      <td>NaN</td>\n",
       "      <td>left_only</td>\n",
       "    </tr>\n",
       "    <tr>\n",
       "      <th>720</th>\n",
       "      <td>5957.0</td>\n",
       "      <td>39.0</td>\n",
       "      <td>13577</td>\n",
       "      <td>NaN</td>\n",
       "      <td>NaN</td>\n",
       "      <td>NaN</td>\n",
       "      <td>left_only</td>\n",
       "    </tr>\n",
       "    <tr>\n",
       "      <th>743</th>\n",
       "      <td>6100.0</td>\n",
       "      <td>12.9</td>\n",
       "      <td>15529</td>\n",
       "      <td>NaN</td>\n",
       "      <td>NaN</td>\n",
       "      <td>NaN</td>\n",
       "      <td>left_only</td>\n",
       "    </tr>\n",
       "    <tr>\n",
       "      <th>823</th>\n",
       "      <td>7329.0</td>\n",
       "      <td>26.5</td>\n",
       "      <td>14680-1</td>\n",
       "      <td>NaN</td>\n",
       "      <td>NaN</td>\n",
       "      <td>NaN</td>\n",
       "      <td>left_only</td>\n",
       "    </tr>\n",
       "  </tbody>\n",
       "</table>\n",
       "<p>111 rows × 7 columns</p>\n",
       "</div>"
      ],
      "text/plain": [
       "     product_id  price      sku  total_sales post_title post_type     _merge\n",
       "19       4055.0   86.1      NaN          NaN        NaN       NaN  left_only\n",
       "20       4090.0   73.0      NaN          NaN        NaN       NaN  left_only\n",
       "21       4092.0   47.0      NaN          NaN        NaN       NaN  left_only\n",
       "22       4195.0   14.1      NaN          NaN        NaN       NaN  left_only\n",
       "23       4209.0   73.5      NaN          NaN        NaN       NaN  left_only\n",
       "..          ...    ...      ...          ...        ...       ...        ...\n",
       "717      5954.0   18.8    15609          NaN        NaN       NaN  left_only\n",
       "718      5955.0   27.3    14377          NaN        NaN       NaN  left_only\n",
       "720      5957.0   39.0    13577          NaN        NaN       NaN  left_only\n",
       "743      6100.0   12.9    15529          NaN        NaN       NaN  left_only\n",
       "823      7329.0   26.5  14680-1          NaN        NaN       NaN  left_only\n",
       "\n",
       "[111 rows x 7 columns]"
      ]
     },
     "execution_count": 57,
     "metadata": {},
     "output_type": "execute_result"
    }
   ],
   "source": [
    "fichier_final.loc[fichier_final['_merge'] == 'left_only']"
   ]
  },
  {
   "cell_type": "markdown",
   "id": "fe7a2519",
   "metadata": {},
   "source": [
    "Toutes ces lignes n'ont pas de correspondance dans la table données_web."
   ]
  },
  {
   "cell_type": "code",
   "execution_count": 60,
   "id": "2ac09319",
   "metadata": {},
   "outputs": [
    {
     "data": {
      "text/plain": [
       "(714, 7)"
      ]
     },
     "execution_count": 60,
     "metadata": {},
     "output_type": "execute_result"
    }
   ],
   "source": [
    "fichier_final.loc[fichier_final['_merge'] == 'both'].shape"
   ]
  },
  {
   "cell_type": "code",
   "execution_count": 61,
   "id": "6c00e565",
   "metadata": {},
   "outputs": [],
   "source": [
    "fichier_final = fichier_final.loc[fichier_final['_merge'] == 'both']"
   ]
  },
  {
   "cell_type": "code",
   "execution_count": 64,
   "id": "075db11a",
   "metadata": {},
   "outputs": [],
   "source": [
    "fichier_final = fichier_final.drop(columns='_merge')"
   ]
  },
  {
   "cell_type": "markdown",
   "id": "84dcdd0c",
   "metadata": {},
   "source": [
    "Je n'ai gardé que les correspondances exactes entre les deux tables (equivalent à une liaison \"inner\"). Et de nouveau je me sépare de la colonne \"merge\" pour continuer mon analyse."
   ]
  },
  {
   "cell_type": "code",
   "execution_count": 66,
   "id": "ae8f155c",
   "metadata": {},
   "outputs": [
    {
     "data": {
      "text/html": [
       "<div>\n",
       "<style scoped>\n",
       "    .dataframe tbody tr th:only-of-type {\n",
       "        vertical-align: middle;\n",
       "    }\n",
       "\n",
       "    .dataframe tbody tr th {\n",
       "        vertical-align: top;\n",
       "    }\n",
       "\n",
       "    .dataframe thead th {\n",
       "        text-align: right;\n",
       "    }\n",
       "</style>\n",
       "<table border=\"1\" class=\"dataframe\">\n",
       "  <thead>\n",
       "    <tr style=\"text-align: right;\">\n",
       "      <th></th>\n",
       "      <th>product_id</th>\n",
       "      <th>price</th>\n",
       "      <th>sku</th>\n",
       "      <th>total_sales</th>\n",
       "      <th>post_title</th>\n",
       "      <th>post_type</th>\n",
       "    </tr>\n",
       "  </thead>\n",
       "  <tbody>\n",
       "    <tr>\n",
       "      <th>0</th>\n",
       "      <td>3847.0</td>\n",
       "      <td>24.2</td>\n",
       "      <td>15298</td>\n",
       "      <td>6.0</td>\n",
       "      <td>Pierre Jean Villa Saint-Joseph Préface 2018</td>\n",
       "      <td>product</td>\n",
       "    </tr>\n",
       "    <tr>\n",
       "      <th>1</th>\n",
       "      <td>3849.0</td>\n",
       "      <td>34.3</td>\n",
       "      <td>15296</td>\n",
       "      <td>0.0</td>\n",
       "      <td>Pierre Jean Villa Saint-Joseph Rouge Tildé 2017</td>\n",
       "      <td>product</td>\n",
       "    </tr>\n",
       "    <tr>\n",
       "      <th>2</th>\n",
       "      <td>3850.0</td>\n",
       "      <td>20.8</td>\n",
       "      <td>15300</td>\n",
       "      <td>0.0</td>\n",
       "      <td>Pierre Jean Villa Crozes-Hermitage Accroche Co...</td>\n",
       "      <td>product</td>\n",
       "    </tr>\n",
       "    <tr>\n",
       "      <th>3</th>\n",
       "      <td>4032.0</td>\n",
       "      <td>14.1</td>\n",
       "      <td>19814</td>\n",
       "      <td>3.0</td>\n",
       "      <td>Pierre Jean Villa IGP Collines Rhodaniennes Ga...</td>\n",
       "      <td>product</td>\n",
       "    </tr>\n",
       "    <tr>\n",
       "      <th>4</th>\n",
       "      <td>4039.0</td>\n",
       "      <td>46.0</td>\n",
       "      <td>19815</td>\n",
       "      <td>0.0</td>\n",
       "      <td>Pierre Jean Villa Côte Rôtie Carmina 2017</td>\n",
       "      <td>product</td>\n",
       "    </tr>\n",
       "    <tr>\n",
       "      <th>...</th>\n",
       "      <td>...</td>\n",
       "      <td>...</td>\n",
       "      <td>...</td>\n",
       "      <td>...</td>\n",
       "      <td>...</td>\n",
       "      <td>...</td>\n",
       "    </tr>\n",
       "    <tr>\n",
       "      <th>819</th>\n",
       "      <td>6930.0</td>\n",
       "      <td>8.4</td>\n",
       "      <td>16135</td>\n",
       "      <td>5.0</td>\n",
       "      <td>Mouthes Le Bihan Côtes de Duras L'Aimé Chai 2015</td>\n",
       "      <td>product</td>\n",
       "    </tr>\n",
       "    <tr>\n",
       "      <th>820</th>\n",
       "      <td>7023.0</td>\n",
       "      <td>27.5</td>\n",
       "      <td>15891</td>\n",
       "      <td>0.0</td>\n",
       "      <td>Camin Larredya Jurançon Sec La Virada 2018</td>\n",
       "      <td>product</td>\n",
       "    </tr>\n",
       "    <tr>\n",
       "      <th>821</th>\n",
       "      <td>7025.0</td>\n",
       "      <td>69.0</td>\n",
       "      <td>15887</td>\n",
       "      <td>0.0</td>\n",
       "      <td>Domaine Jamet Côte Rôtie Fructus Voluptas 2018</td>\n",
       "      <td>product</td>\n",
       "    </tr>\n",
       "    <tr>\n",
       "      <th>822</th>\n",
       "      <td>7247.0</td>\n",
       "      <td>54.8</td>\n",
       "      <td>13127-1</td>\n",
       "      <td>0.0</td>\n",
       "      <td>Clos du Mont-Olivet Châteauneuf-du-Pape 2007</td>\n",
       "      <td>product</td>\n",
       "    </tr>\n",
       "    <tr>\n",
       "      <th>824</th>\n",
       "      <td>7338.0</td>\n",
       "      <td>16.3</td>\n",
       "      <td>16230</td>\n",
       "      <td>0.0</td>\n",
       "      <td>Domaine Saint-Nicolas Vin de France Blanc Les ...</td>\n",
       "      <td>product</td>\n",
       "    </tr>\n",
       "  </tbody>\n",
       "</table>\n",
       "<p>714 rows × 6 columns</p>\n",
       "</div>"
      ],
      "text/plain": [
       "     product_id  price      sku  total_sales  \\\n",
       "0        3847.0   24.2    15298          6.0   \n",
       "1        3849.0   34.3    15296          0.0   \n",
       "2        3850.0   20.8    15300          0.0   \n",
       "3        4032.0   14.1    19814          3.0   \n",
       "4        4039.0   46.0    19815          0.0   \n",
       "..          ...    ...      ...          ...   \n",
       "819      6930.0    8.4    16135          5.0   \n",
       "820      7023.0   27.5    15891          0.0   \n",
       "821      7025.0   69.0    15887          0.0   \n",
       "822      7247.0   54.8  13127-1          0.0   \n",
       "824      7338.0   16.3    16230          0.0   \n",
       "\n",
       "                                            post_title post_type  \n",
       "0          Pierre Jean Villa Saint-Joseph Préface 2018   product  \n",
       "1      Pierre Jean Villa Saint-Joseph Rouge Tildé 2017   product  \n",
       "2    Pierre Jean Villa Crozes-Hermitage Accroche Co...   product  \n",
       "3    Pierre Jean Villa IGP Collines Rhodaniennes Ga...   product  \n",
       "4            Pierre Jean Villa Côte Rôtie Carmina 2017   product  \n",
       "..                                                 ...       ...  \n",
       "819   Mouthes Le Bihan Côtes de Duras L'Aimé Chai 2015   product  \n",
       "820         Camin Larredya Jurançon Sec La Virada 2018   product  \n",
       "821     Domaine Jamet Côte Rôtie Fructus Voluptas 2018   product  \n",
       "822       Clos du Mont-Olivet Châteauneuf-du-Pape 2007   product  \n",
       "824  Domaine Saint-Nicolas Vin de France Blanc Les ...   product  \n",
       "\n",
       "[714 rows x 6 columns]"
      ]
     },
     "execution_count": 66,
     "metadata": {},
     "output_type": "execute_result"
    }
   ],
   "source": [
    "fichier_final"
   ]
  },
  {
   "cell_type": "markdown",
   "id": "d0d8aa75",
   "metadata": {},
   "source": [
    "## Partie 3 - Calcul du CA total et par produits"
   ]
  },
  {
   "cell_type": "code",
   "execution_count": 67,
   "id": "7b6f3b98",
   "metadata": {},
   "outputs": [
    {
     "data": {
      "text/html": [
       "<div>\n",
       "<style scoped>\n",
       "    .dataframe tbody tr th:only-of-type {\n",
       "        vertical-align: middle;\n",
       "    }\n",
       "\n",
       "    .dataframe tbody tr th {\n",
       "        vertical-align: top;\n",
       "    }\n",
       "\n",
       "    .dataframe thead th {\n",
       "        text-align: right;\n",
       "    }\n",
       "</style>\n",
       "<table border=\"1\" class=\"dataframe\">\n",
       "  <thead>\n",
       "    <tr style=\"text-align: right;\">\n",
       "      <th></th>\n",
       "      <th>product_id</th>\n",
       "      <th>price</th>\n",
       "      <th>sku</th>\n",
       "      <th>total_sales</th>\n",
       "      <th>post_title</th>\n",
       "      <th>post_type</th>\n",
       "      <th>CA_produit</th>\n",
       "    </tr>\n",
       "  </thead>\n",
       "  <tbody>\n",
       "    <tr>\n",
       "      <th>0</th>\n",
       "      <td>3847.0</td>\n",
       "      <td>24.2</td>\n",
       "      <td>15298</td>\n",
       "      <td>6.0</td>\n",
       "      <td>Pierre Jean Villa Saint-Joseph Préface 2018</td>\n",
       "      <td>product</td>\n",
       "      <td>145.2</td>\n",
       "    </tr>\n",
       "    <tr>\n",
       "      <th>1</th>\n",
       "      <td>3849.0</td>\n",
       "      <td>34.3</td>\n",
       "      <td>15296</td>\n",
       "      <td>0.0</td>\n",
       "      <td>Pierre Jean Villa Saint-Joseph Rouge Tildé 2017</td>\n",
       "      <td>product</td>\n",
       "      <td>0.0</td>\n",
       "    </tr>\n",
       "    <tr>\n",
       "      <th>2</th>\n",
       "      <td>3850.0</td>\n",
       "      <td>20.8</td>\n",
       "      <td>15300</td>\n",
       "      <td>0.0</td>\n",
       "      <td>Pierre Jean Villa Crozes-Hermitage Accroche Co...</td>\n",
       "      <td>product</td>\n",
       "      <td>0.0</td>\n",
       "    </tr>\n",
       "    <tr>\n",
       "      <th>3</th>\n",
       "      <td>4032.0</td>\n",
       "      <td>14.1</td>\n",
       "      <td>19814</td>\n",
       "      <td>3.0</td>\n",
       "      <td>Pierre Jean Villa IGP Collines Rhodaniennes Ga...</td>\n",
       "      <td>product</td>\n",
       "      <td>42.3</td>\n",
       "    </tr>\n",
       "    <tr>\n",
       "      <th>4</th>\n",
       "      <td>4039.0</td>\n",
       "      <td>46.0</td>\n",
       "      <td>19815</td>\n",
       "      <td>0.0</td>\n",
       "      <td>Pierre Jean Villa Côte Rôtie Carmina 2017</td>\n",
       "      <td>product</td>\n",
       "      <td>0.0</td>\n",
       "    </tr>\n",
       "  </tbody>\n",
       "</table>\n",
       "</div>"
      ],
      "text/plain": [
       "   product_id  price    sku  total_sales  \\\n",
       "0      3847.0   24.2  15298          6.0   \n",
       "1      3849.0   34.3  15296          0.0   \n",
       "2      3850.0   20.8  15300          0.0   \n",
       "3      4032.0   14.1  19814          3.0   \n",
       "4      4039.0   46.0  19815          0.0   \n",
       "\n",
       "                                          post_title post_type  CA_produit  \n",
       "0        Pierre Jean Villa Saint-Joseph Préface 2018   product       145.2  \n",
       "1    Pierre Jean Villa Saint-Joseph Rouge Tildé 2017   product         0.0  \n",
       "2  Pierre Jean Villa Crozes-Hermitage Accroche Co...   product         0.0  \n",
       "3  Pierre Jean Villa IGP Collines Rhodaniennes Ga...   product        42.3  \n",
       "4          Pierre Jean Villa Côte Rôtie Carmina 2017   product         0.0  "
      ]
     },
     "execution_count": 67,
     "metadata": {},
     "output_type": "execute_result"
    }
   ],
   "source": [
    "fichier_final['CA_produit'] = fichier_final['price'] * fichier_final['total_sales']\n",
    "fichier_final.head()"
   ]
  },
  {
   "cell_type": "markdown",
   "id": "12df16d3",
   "metadata": {},
   "source": [
    "Je classe le fichier sur la colonne du chiffre d'affaire par produit pour afficher les 10 premières ventes sur le site."
   ]
  },
  {
   "cell_type": "code",
   "execution_count": 72,
   "id": "9e7dc7cf",
   "metadata": {
    "scrolled": true
   },
   "outputs": [
    {
     "data": {
      "text/html": [
       "<div>\n",
       "<style scoped>\n",
       "    .dataframe tbody tr th:only-of-type {\n",
       "        vertical-align: middle;\n",
       "    }\n",
       "\n",
       "    .dataframe tbody tr th {\n",
       "        vertical-align: top;\n",
       "    }\n",
       "\n",
       "    .dataframe thead th {\n",
       "        text-align: right;\n",
       "    }\n",
       "</style>\n",
       "<table border=\"1\" class=\"dataframe\">\n",
       "  <thead>\n",
       "    <tr style=\"text-align: right;\">\n",
       "      <th></th>\n",
       "      <th>product_id</th>\n",
       "      <th>post_title</th>\n",
       "      <th>price</th>\n",
       "      <th>CA_produit</th>\n",
       "    </tr>\n",
       "  </thead>\n",
       "  <tbody>\n",
       "    <tr>\n",
       "      <th>286</th>\n",
       "      <td>4334.0</td>\n",
       "      <td>Champagne Gosset Grand Blanc de Blancs</td>\n",
       "      <td>49.0</td>\n",
       "      <td>4704.0</td>\n",
       "    </tr>\n",
       "    <tr>\n",
       "      <th>162</th>\n",
       "      <td>4144.0</td>\n",
       "      <td>Champagne Gosset Grand Rosé</td>\n",
       "      <td>49.0</td>\n",
       "      <td>4263.0</td>\n",
       "    </tr>\n",
       "    <tr>\n",
       "      <th>310</th>\n",
       "      <td>4402.0</td>\n",
       "      <td>Cognac Frapin VIP XO</td>\n",
       "      <td>176.0</td>\n",
       "      <td>2288.0</td>\n",
       "    </tr>\n",
       "    <tr>\n",
       "      <th>161</th>\n",
       "      <td>4142.0</td>\n",
       "      <td>Champagne Gosset Grand Millésime 2006</td>\n",
       "      <td>53.0</td>\n",
       "      <td>1590.0</td>\n",
       "    </tr>\n",
       "    <tr>\n",
       "      <th>160</th>\n",
       "      <td>4141.0</td>\n",
       "      <td>Champagne Gosset Grande Réserve</td>\n",
       "      <td>39.0</td>\n",
       "      <td>1560.0</td>\n",
       "    </tr>\n",
       "    <tr>\n",
       "      <th>293</th>\n",
       "      <td>4355.0</td>\n",
       "      <td>Champagne Egly-Ouriet Grand Cru Blanc de Noirs</td>\n",
       "      <td>126.5</td>\n",
       "      <td>1391.5</td>\n",
       "    </tr>\n",
       "    <tr>\n",
       "      <th>291</th>\n",
       "      <td>4352.0</td>\n",
       "      <td>Champagne Egly-Ouriet Grand Cru Millésimé 2008</td>\n",
       "      <td>225.0</td>\n",
       "      <td>1125.0</td>\n",
       "    </tr>\n",
       "    <tr>\n",
       "      <th>170</th>\n",
       "      <td>4153.0</td>\n",
       "      <td>Elian Daros Côtes du Marmandais Clos Baquey 2015</td>\n",
       "      <td>29.0</td>\n",
       "      <td>1044.0</td>\n",
       "    </tr>\n",
       "    <tr>\n",
       "      <th>761</th>\n",
       "      <td>6206.0</td>\n",
       "      <td>Domaine Giudicelli Patrimonio Blanc 2019</td>\n",
       "      <td>25.2</td>\n",
       "      <td>1033.2</td>\n",
       "    </tr>\n",
       "    <tr>\n",
       "      <th>121</th>\n",
       "      <td>4068.0</td>\n",
       "      <td>Gilles Robin Crozes-Hermitage Rouge Papillon 2019</td>\n",
       "      <td>16.6</td>\n",
       "      <td>1029.2</td>\n",
       "    </tr>\n",
       "  </tbody>\n",
       "</table>\n",
       "</div>"
      ],
      "text/plain": [
       "     product_id                                         post_title  price  \\\n",
       "286      4334.0             Champagne Gosset Grand Blanc de Blancs   49.0   \n",
       "162      4144.0                        Champagne Gosset Grand Rosé   49.0   \n",
       "310      4402.0                               Cognac Frapin VIP XO  176.0   \n",
       "161      4142.0              Champagne Gosset Grand Millésime 2006   53.0   \n",
       "160      4141.0                    Champagne Gosset Grande Réserve   39.0   \n",
       "293      4355.0     Champagne Egly-Ouriet Grand Cru Blanc de Noirs  126.5   \n",
       "291      4352.0     Champagne Egly-Ouriet Grand Cru Millésimé 2008  225.0   \n",
       "170      4153.0   Elian Daros Côtes du Marmandais Clos Baquey 2015   29.0   \n",
       "761      6206.0           Domaine Giudicelli Patrimonio Blanc 2019   25.2   \n",
       "121      4068.0  Gilles Robin Crozes-Hermitage Rouge Papillon 2019   16.6   \n",
       "\n",
       "     CA_produit  \n",
       "286      4704.0  \n",
       "162      4263.0  \n",
       "310      2288.0  \n",
       "161      1590.0  \n",
       "160      1560.0  \n",
       "293      1391.5  \n",
       "291      1125.0  \n",
       "170      1044.0  \n",
       "761      1033.2  \n",
       "121      1029.2  "
      ]
     },
     "execution_count": 72,
     "metadata": {},
     "output_type": "execute_result"
    }
   ],
   "source": [
    "dix_premiers = fichier_final[['product_id', 'post_title', 'price', 'CA_produit']].sort_values('CA_produit', ascending=False).head(10)\n",
    "dix_premiers"
   ]
  },
  {
   "cell_type": "code",
   "execution_count": 77,
   "id": "40eb8c5d",
   "metadata": {},
   "outputs": [
    {
     "data": {
      "image/png": "[encoded data removed]",
      "text/plain": [
       "<Figure size 432x288 with 1 Axes>"
      ]
     },
     "metadata": {
      "needs_background": "light"
     },
     "output_type": "display_data"
    }
   ],
   "source": [
    "plt.barh(width=dix_premiers['CA_produit'], y=dix_premiers['post_title'])\n",
    "plt.title(\"Chiffre d'affaire des 10 premiers produits\")\n",
    "plt.xlabel(\"Chiffre d'affaire\")\n",
    "plt.ylabel(\"Liste des produits\")\n",
    "#j'inverse l'axe y pour avoir les valeurs plus élevées en premier.\n",
    "plt.gca().invert_yaxis()\n",
    "plt.show()"
   ]
  },
  {
   "cell_type": "code",
   "execution_count": 78,
   "id": "35af62c0",
   "metadata": {},
   "outputs": [
    {
     "name": "stdout",
     "output_type": "stream",
     "text": [
      "Le chiffre d'affaire total s'élève à 70568.6 euros\n"
     ]
    }
   ],
   "source": [
    "ca_total = fichier_final['CA_produit'].sum()\n",
    "print(\"Le chiffre d'affaire total s'élève à\", ca_total, \"euros\")"
   ]
  },
  {
   "cell_type": "markdown",
   "id": "611508e6",
   "metadata": {},
   "source": [
    "## Partie 4 - Recherche des valeurs aberrantes"
   ]
  },
  {
   "cell_type": "markdown",
   "id": "68c1f048",
   "metadata": {},
   "source": [
    "1. Methode des ecarts interquartiles."
   ]
  },
  {
   "cell_type": "code",
   "execution_count": 79,
   "id": "45814354",
   "metadata": {},
   "outputs": [
    {
     "data": {
      "text/html": [
       "<div>\n",
       "<style scoped>\n",
       "    .dataframe tbody tr th:only-of-type {\n",
       "        vertical-align: middle;\n",
       "    }\n",
       "\n",
       "    .dataframe tbody tr th {\n",
       "        vertical-align: top;\n",
       "    }\n",
       "\n",
       "    .dataframe thead th {\n",
       "        text-align: right;\n",
       "    }\n",
       "</style>\n",
       "<table border=\"1\" class=\"dataframe\">\n",
       "  <thead>\n",
       "    <tr style=\"text-align: right;\">\n",
       "      <th></th>\n",
       "      <th>product_id</th>\n",
       "      <th>price</th>\n",
       "    </tr>\n",
       "  </thead>\n",
       "  <tbody>\n",
       "    <tr>\n",
       "      <th>count</th>\n",
       "      <td>825.000000</td>\n",
       "      <td>825.000000</td>\n",
       "    </tr>\n",
       "    <tr>\n",
       "      <th>mean</th>\n",
       "      <td>5162.597576</td>\n",
       "      <td>32.415636</td>\n",
       "    </tr>\n",
       "    <tr>\n",
       "      <th>std</th>\n",
       "      <td>902.644635</td>\n",
       "      <td>26.795849</td>\n",
       "    </tr>\n",
       "    <tr>\n",
       "      <th>min</th>\n",
       "      <td>3847.000000</td>\n",
       "      <td>5.200000</td>\n",
       "    </tr>\n",
       "    <tr>\n",
       "      <th>25%</th>\n",
       "      <td>4348.000000</td>\n",
       "      <td>14.600000</td>\n",
       "    </tr>\n",
       "    <tr>\n",
       "      <th>50%</th>\n",
       "      <td>4907.000000</td>\n",
       "      <td>24.400000</td>\n",
       "    </tr>\n",
       "    <tr>\n",
       "      <th>75%</th>\n",
       "      <td>5805.000000</td>\n",
       "      <td>42.000000</td>\n",
       "    </tr>\n",
       "    <tr>\n",
       "      <th>max</th>\n",
       "      <td>7338.000000</td>\n",
       "      <td>225.000000</td>\n",
       "    </tr>\n",
       "  </tbody>\n",
       "</table>\n",
       "</div>"
      ],
      "text/plain": [
       "        product_id       price\n",
       "count   825.000000  825.000000\n",
       "mean   5162.597576   32.415636\n",
       "std     902.644635   26.795849\n",
       "min    3847.000000    5.200000\n",
       "25%    4348.000000   14.600000\n",
       "50%    4907.000000   24.400000\n",
       "75%    5805.000000   42.000000\n",
       "max    7338.000000  225.000000"
      ]
     },
     "execution_count": 79,
     "metadata": {},
     "output_type": "execute_result"
    }
   ],
   "source": [
    "produits.describe()"
   ]
  },
  {
   "cell_type": "markdown",
   "id": "b54f77d4",
   "metadata": {},
   "source": [
    "Je vais me servir des données de ce site (https://fr.khanacademy.org/math/be-4eme-secondaire2/x213a6fc6f6c9e122:statistiques-1/x213a6fc6f6c9e122:diagramme-en-boite-et-ecart-interquartil/a/identifying-outliers-iqr-rule) pour determiner les outliers avec la méthode des interquartiles."
   ]
  },
  {
   "cell_type": "code",
   "execution_count": 246,
   "id": "d7ec3c9e",
   "metadata": {},
   "outputs": [
    {
     "name": "stdout",
     "output_type": "stream",
     "text": [
      "Q1: 14.6\n",
      "Q3: 42.0\n",
      "Ecart interquartile: 27.4\n",
      "borne sup: 83.1\n"
     ]
    }
   ],
   "source": [
    "#On calcule Q1\n",
    "q1=produits[\"price\"].quantile(q=0.25)\n",
    "print(\"Q1:\", q1)\n",
    "\n",
    "#On calcule Q3\n",
    "q3=produits[\"price\"].quantile(q=0.75)\n",
    "print(\"Q3:\", q3)\n",
    "\n",
    "#On calcule l'écart interquartile (IQR)\n",
    "IQR=q3-q1\n",
    "print(\"Ecart interquartile:\", IQR)\n",
    "\n",
    "#On calcule la borne supérieure à l'aide du Q3 et de l'écart interquartile\n",
    "borne_sup = q3 +1.5*IQR\n",
    "print(\"borne sup:\", borne_sup)"
   ]
  },
  {
   "cell_type": "code",
   "execution_count": 261,
   "id": "e4de9a5c",
   "metadata": {},
   "outputs": [
    {
     "name": "stderr",
     "output_type": "stream",
     "text": [
      "/Users/cedricmary/opt/anaconda3/lib/python3.9/site-packages/seaborn/_decorators.py:36: FutureWarning: Pass the following variable as a keyword arg: x. From version 0.12, the only valid positional argument will be `data`, and passing other arguments without an explicit keyword will result in an error or misinterpretation.\n",
      "  warnings.warn(\n"
     ]
    },
    {
     "data": {
      "text/plain": [
       "[Text(0.5, 1.0, 'Boite à moustache pour la variable prix'),\n",
       " Text(0.5, 0, 'Prix des produits')]"
      ]
     },
     "execution_count": 261,
     "metadata": {},
     "output_type": "execute_result"
    },
    {
     "data": {
      "image/png": "[encoded data removed]",
      "text/plain": [
       "<Figure size 1440x360 with 1 Axes>"
      ]
     },
     "metadata": {},
     "output_type": "display_data"
    }
   ],
   "source": [
    "sns.set(rc={'figure.figsize':(20,5)})\n",
    "sns.boxplot(produits['price'], width=0.3).set(title='Boite à moustache pour la variable prix', xlabel='Prix des produits')"
   ]
  },
  {
   "cell_type": "markdown",
   "id": "62870f9a",
   "metadata": {},
   "source": [
    "Avec cette methode les valeurs supérieures à 83.1 euros sont considérées comme des outliers. Je vais les afficher."
   ]
  },
  {
   "cell_type": "code",
   "execution_count": 109,
   "id": "689afe37",
   "metadata": {},
   "outputs": [
    {
     "data": {
      "text/html": [
       "<div>\n",
       "<style scoped>\n",
       "    .dataframe tbody tr th:only-of-type {\n",
       "        vertical-align: middle;\n",
       "    }\n",
       "\n",
       "    .dataframe tbody tr th {\n",
       "        vertical-align: top;\n",
       "    }\n",
       "\n",
       "    .dataframe thead th {\n",
       "        text-align: right;\n",
       "    }\n",
       "</style>\n",
       "<table border=\"1\" class=\"dataframe\">\n",
       "  <thead>\n",
       "    <tr style=\"text-align: right;\">\n",
       "      <th></th>\n",
       "      <th>product_id</th>\n",
       "      <th>price</th>\n",
       "    </tr>\n",
       "  </thead>\n",
       "  <tbody>\n",
       "    <tr>\n",
       "      <th>19</th>\n",
       "      <td>4055</td>\n",
       "      <td>86.1</td>\n",
       "    </tr>\n",
       "    <tr>\n",
       "      <th>66</th>\n",
       "      <td>4115</td>\n",
       "      <td>100.0</td>\n",
       "    </tr>\n",
       "    <tr>\n",
       "      <th>68</th>\n",
       "      <td>4132</td>\n",
       "      <td>88.4</td>\n",
       "    </tr>\n",
       "    <tr>\n",
       "      <th>208</th>\n",
       "      <td>4352</td>\n",
       "      <td>225.0</td>\n",
       "    </tr>\n",
       "    <tr>\n",
       "      <th>210</th>\n",
       "      <td>4355</td>\n",
       "      <td>126.5</td>\n",
       "    </tr>\n",
       "    <tr>\n",
       "      <th>214</th>\n",
       "      <td>4359</td>\n",
       "      <td>85.6</td>\n",
       "    </tr>\n",
       "    <tr>\n",
       "      <th>227</th>\n",
       "      <td>4402</td>\n",
       "      <td>176.0</td>\n",
       "    </tr>\n",
       "    <tr>\n",
       "      <th>228</th>\n",
       "      <td>4404</td>\n",
       "      <td>108.5</td>\n",
       "    </tr>\n",
       "    <tr>\n",
       "      <th>230</th>\n",
       "      <td>4406</td>\n",
       "      <td>157.0</td>\n",
       "    </tr>\n",
       "    <tr>\n",
       "      <th>231</th>\n",
       "      <td>4407</td>\n",
       "      <td>104.0</td>\n",
       "    </tr>\n",
       "    <tr>\n",
       "      <th>240</th>\n",
       "      <td>4582</td>\n",
       "      <td>109.6</td>\n",
       "    </tr>\n",
       "    <tr>\n",
       "      <th>242</th>\n",
       "      <td>4594</td>\n",
       "      <td>144.0</td>\n",
       "    </tr>\n",
       "    <tr>\n",
       "      <th>410</th>\n",
       "      <td>4903</td>\n",
       "      <td>102.3</td>\n",
       "    </tr>\n",
       "    <tr>\n",
       "      <th>411</th>\n",
       "      <td>4904</td>\n",
       "      <td>137.0</td>\n",
       "    </tr>\n",
       "    <tr>\n",
       "      <th>460</th>\n",
       "      <td>5001</td>\n",
       "      <td>217.5</td>\n",
       "    </tr>\n",
       "    <tr>\n",
       "      <th>465</th>\n",
       "      <td>5007</td>\n",
       "      <td>105.0</td>\n",
       "    </tr>\n",
       "    <tr>\n",
       "      <th>466</th>\n",
       "      <td>5008</td>\n",
       "      <td>105.0</td>\n",
       "    </tr>\n",
       "    <tr>\n",
       "      <th>475</th>\n",
       "      <td>5025</td>\n",
       "      <td>112.0</td>\n",
       "    </tr>\n",
       "    <tr>\n",
       "      <th>476</th>\n",
       "      <td>5026</td>\n",
       "      <td>86.8</td>\n",
       "    </tr>\n",
       "    <tr>\n",
       "      <th>486</th>\n",
       "      <td>5070</td>\n",
       "      <td>84.7</td>\n",
       "    </tr>\n",
       "    <tr>\n",
       "      <th>545</th>\n",
       "      <td>5565</td>\n",
       "      <td>92.0</td>\n",
       "    </tr>\n",
       "    <tr>\n",
       "      <th>551</th>\n",
       "      <td>5580</td>\n",
       "      <td>83.7</td>\n",
       "    </tr>\n",
       "    <tr>\n",
       "      <th>556</th>\n",
       "      <td>5612</td>\n",
       "      <td>124.8</td>\n",
       "    </tr>\n",
       "    <tr>\n",
       "      <th>598</th>\n",
       "      <td>5767</td>\n",
       "      <td>175.0</td>\n",
       "    </tr>\n",
       "    <tr>\n",
       "      <th>635</th>\n",
       "      <td>5892</td>\n",
       "      <td>191.3</td>\n",
       "    </tr>\n",
       "    <tr>\n",
       "      <th>650</th>\n",
       "      <td>5916</td>\n",
       "      <td>93.0</td>\n",
       "    </tr>\n",
       "    <tr>\n",
       "      <th>651</th>\n",
       "      <td>5917</td>\n",
       "      <td>122.0</td>\n",
       "    </tr>\n",
       "    <tr>\n",
       "      <th>652</th>\n",
       "      <td>5918</td>\n",
       "      <td>114.0</td>\n",
       "    </tr>\n",
       "    <tr>\n",
       "      <th>697</th>\n",
       "      <td>6126</td>\n",
       "      <td>135.0</td>\n",
       "    </tr>\n",
       "    <tr>\n",
       "      <th>702</th>\n",
       "      <td>6201</td>\n",
       "      <td>105.6</td>\n",
       "    </tr>\n",
       "    <tr>\n",
       "      <th>703</th>\n",
       "      <td>6202</td>\n",
       "      <td>116.4</td>\n",
       "    </tr>\n",
       "    <tr>\n",
       "      <th>708</th>\n",
       "      <td>6212</td>\n",
       "      <td>115.0</td>\n",
       "    </tr>\n",
       "    <tr>\n",
       "      <th>709</th>\n",
       "      <td>6213</td>\n",
       "      <td>121.0</td>\n",
       "    </tr>\n",
       "    <tr>\n",
       "      <th>710</th>\n",
       "      <td>6214</td>\n",
       "      <td>99.0</td>\n",
       "    </tr>\n",
       "    <tr>\n",
       "      <th>711</th>\n",
       "      <td>6215</td>\n",
       "      <td>115.0</td>\n",
       "    </tr>\n",
       "    <tr>\n",
       "      <th>712</th>\n",
       "      <td>6216</td>\n",
       "      <td>121.0</td>\n",
       "    </tr>\n",
       "    <tr>\n",
       "      <th>724</th>\n",
       "      <td>6324</td>\n",
       "      <td>92.0</td>\n",
       "    </tr>\n",
       "  </tbody>\n",
       "</table>\n",
       "</div>"
      ],
      "text/plain": [
       "     product_id  price\n",
       "19         4055   86.1\n",
       "66         4115  100.0\n",
       "68         4132   88.4\n",
       "208        4352  225.0\n",
       "210        4355  126.5\n",
       "214        4359   85.6\n",
       "227        4402  176.0\n",
       "228        4404  108.5\n",
       "230        4406  157.0\n",
       "231        4407  104.0\n",
       "240        4582  109.6\n",
       "242        4594  144.0\n",
       "410        4903  102.3\n",
       "411        4904  137.0\n",
       "460        5001  217.5\n",
       "465        5007  105.0\n",
       "466        5008  105.0\n",
       "475        5025  112.0\n",
       "476        5026   86.8\n",
       "486        5070   84.7\n",
       "545        5565   92.0\n",
       "551        5580   83.7\n",
       "556        5612  124.8\n",
       "598        5767  175.0\n",
       "635        5892  191.3\n",
       "650        5916   93.0\n",
       "651        5917  122.0\n",
       "652        5918  114.0\n",
       "697        6126  135.0\n",
       "702        6201  105.6\n",
       "703        6202  116.4\n",
       "708        6212  115.0\n",
       "709        6213  121.0\n",
       "710        6214   99.0\n",
       "711        6215  115.0\n",
       "712        6216  121.0\n",
       "724        6324   92.0"
      ]
     },
     "execution_count": 109,
     "metadata": {},
     "output_type": "execute_result"
    }
   ],
   "source": [
    "produits[(produits['price'] > 83.1)]"
   ]
  },
  {
   "cell_type": "code",
   "execution_count": 93,
   "id": "b7017f42",
   "metadata": {},
   "outputs": [
    {
     "data": {
      "text/plain": [
       "product_id    37\n",
       "price         37\n",
       "dtype: int64"
      ]
     },
     "execution_count": 93,
     "metadata": {},
     "output_type": "execute_result"
    }
   ],
   "source": [
    "produits[(produits['price'] > 83.1)].count()"
   ]
  },
  {
   "cell_type": "markdown",
   "id": "bc720013",
   "metadata": {},
   "source": [
    "Avec cette première méthode nous trouvons donc 37 outliers."
   ]
  },
  {
   "cell_type": "markdown",
   "id": "470fbcde",
   "metadata": {},
   "source": [
    "2. Methode du z score"
   ]
  },
  {
   "cell_type": "markdown",
   "id": "8d62d455",
   "metadata": {},
   "source": [
    "Il est à noter que cette méthode n'est valide qu'à la condition que notre distribution suive une loi normale."
   ]
  },
  {
   "cell_type": "code",
   "execution_count": 99,
   "id": "7d1f1235",
   "metadata": {},
   "outputs": [
    {
     "data": {
      "text/plain": [
       "<AxesSubplot:xlabel='price', ylabel='Count'>"
      ]
     },
     "execution_count": 99,
     "metadata": {},
     "output_type": "execute_result"
    },
    {
     "data": {
      "image/png": "[encoded data removed]",
      "text/plain": [
       "<Figure size 1152x360 with 1 Axes>"
      ]
     },
     "metadata": {
      "needs_background": "light"
     },
     "output_type": "display_data"
    }
   ],
   "source": [
    "plt.figure(figsize=(16,5)) \n",
    "plt.subplot(1,2,1)\n",
    "sns.histplot(produits['price'], kde=True)"
   ]
  },
  {
   "cell_type": "code",
   "execution_count": 100,
   "id": "e2961025",
   "metadata": {},
   "outputs": [
    {
     "data": {
      "text/plain": [
       "2.6227973685638717"
      ]
     },
     "execution_count": 100,
     "metadata": {},
     "output_type": "execute_result"
    }
   ],
   "source": [
    "produits['price'].skew()"
   ]
  },
  {
   "cell_type": "markdown",
   "id": "6813e6be",
   "metadata": {},
   "source": [
    "Le résultat du \"skew\" est supérieur à 1, ce qui tendrait à montrer que la distribution du prix est \"faussée\" ou non symétrique. Comme le graphique nous le montre au dessus. Ici pour continuer l'analyse nous supposerons que la distribution du prix suit une loi normale (autrement dit qu'elle est symétrique)."
   ]
  },
  {
   "cell_type": "code",
   "execution_count": 101,
   "id": "195c2b67",
   "metadata": {
    "scrolled": true
   },
   "outputs": [
    {
     "name": "stdout",
     "output_type": "stream",
     "text": [
      "La moyenne du prix est de 32.42\n",
      "L'ecart type est de 26.78\n"
     ]
    }
   ],
   "source": [
    "moyenne = np.mean(produits['price'])\n",
    "ecart_type = np.std(produits['price'])\n",
    "print('La moyenne du prix est de', round(moyenne, 2))\n",
    "print(\"L'ecart type est de\", round(ecart_type, 2))"
   ]
  },
  {
   "cell_type": "markdown",
   "id": "88e8004f",
   "metadata": {},
   "source": [
    "Le Z score = (x - moyenne) / ecart type\n",
    "Calcul du Z score. Je place la limite à 2, qui correspond à deux ecart type de la moyenne. Si Z score > 2, j'imprime les différents outliers."
   ]
  },
  {
   "cell_type": "code",
   "execution_count": 102,
   "id": "afcfd25b",
   "metadata": {},
   "outputs": [
    {
     "name": "stdout",
     "output_type": "stream",
     "text": [
      "Les outliers sont [86.1, 100.0, 88.4, 225.0, 126.5, 176.0, 108.5, 157.0, 104.0, 109.6, 144.0, 102.3, 137.0, 217.5, 105.0, 105.0, 112.0, 86.8, 92.0, 124.8, 175.0, 191.3, 93.0, 122.0, 114.0, 135.0, 105.6, 116.4, 115.0, 121.0, 99.0, 115.0, 121.0, 92.0]\n"
     ]
    }
   ],
   "source": [
    "limite = 2\n",
    "outlier = []\n",
    "for i in produits['price']:\n",
    "    z = (i-moyenne)/ecart_type\n",
    "    if z > limite:\n",
    "        outlier.append(i)\n",
    "print(\"Les outliers sont\", outlier)"
   ]
  },
  {
   "cell_type": "code",
   "execution_count": 106,
   "id": "36a67cbf",
   "metadata": {},
   "outputs": [
    {
     "data": {
      "text/plain": [
       "34"
      ]
     },
     "execution_count": 106,
     "metadata": {},
     "output_type": "execute_result"
    }
   ],
   "source": [
    "len(outlier)"
   ]
  },
  {
   "cell_type": "markdown",
   "id": "859095c5",
   "metadata": {},
   "source": [
    "Avec la méthode du z score nous trouvons 34 valeurs considérées commes des outliers.\n",
    "\n",
    "En conclusion nous avons trouvé effectivement des valeurs extrêmes mais aucunes valeures aberrantes de mon point de vue. Ces valeurs extrêmes correspondent à des vins plus chers mais il n'y a eu aucune erreur de saisie sur le prix d'après les données en ma possession.\n"
   ]
  }
 ],
 "metadata": {
  "kernelspec": {
   "display_name": "Python 3 (ipykernel)",
   "language": "python",
   "name": "python3"
  },
  "language_info": {
   "codemirror_mode": {
    "name": "ipython",
    "version": 3
   },
   "file_extension": ".py",
   "mimetype": "text/x-python",
   "name": "python",
   "nbconvert_exporter": "python",
   "pygments_lexer": "ipython3",
   "version": "3.9.12"
  }
 },
 "nbformat": 4,
 "nbformat_minor": 5
}
